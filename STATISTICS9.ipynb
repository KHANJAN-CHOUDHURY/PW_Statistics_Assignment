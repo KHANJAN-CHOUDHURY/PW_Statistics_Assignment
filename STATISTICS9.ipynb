{
 "cells": [
  {
   "cell_type": "markdown",
   "id": "1d9ebe03-efc0-4fb9-a873-d06a0739c968",
   "metadata": {},
   "source": [
    "## Q1. Write a Python function that takes in two arrays of data and calculates the F-value for a variance ratio test. The function should return the F-value and the corresponding p-value for the test."
   ]
  },
  {
   "cell_type": "markdown",
   "id": "d763c815-4f05-4389-8d0c-a6b428b7a3e7",
   "metadata": {},
   "source": [
    "## Ans:"
   ]
  },
  {
   "cell_type": "code",
   "execution_count": 1,
   "id": "d8105176-a67a-483e-8c35-c33bbff9dbbf",
   "metadata": {},
   "outputs": [
    {
     "name": "stdout",
     "output_type": "stream",
     "text": [
      "F-value: 1.0\n",
      "p-value: 0.5\n"
     ]
    }
   ],
   "source": [
    "import numpy as np\n",
    "from scipy import stats\n",
    "\n",
    "def variance_ratio_test(data1, data2):\n",
    "    # Calculate the variances of the two datasets\n",
    "    var1 = np.var(data1, ddof=1)  # ddof=1 for sample variance\n",
    "    var2 = np.var(data2, ddof=1)\n",
    "\n",
    "    # Ensure var1 is the larger variance\n",
    "    if var1 < var2:\n",
    "        var1, var2 = var2, var1\n",
    "        data1, data2 = data2, data1\n",
    "\n",
    "    # Calculate the F-value\n",
    "    f_value = var1 / var2\n",
    "\n",
    "    # Calculate degrees of freedom\n",
    "    df1 = len(data1) - 1\n",
    "    df2 = len(data2) - 1\n",
    "\n",
    "    # Calculate the p-value\n",
    "    p_value = 1 - stats.f.cdf(f_value, df1, df2)\n",
    "\n",
    "    return f_value, p_value\n",
    "\n",
    "# Example usage:\n",
    "data1 = [3, 5, 7, 9, 11]\n",
    "data2 = [2, 4, 6, 8, 10]\n",
    "\n",
    "f_value, p_value = variance_ratio_test(data1, data2)\n",
    "print(\"F-value:\", f_value)\n",
    "print(\"p-value:\", p_value)"
   ]
  },
  {
   "cell_type": "markdown",
   "id": "6f1f9782-dac1-43fb-9b12-832f8fff6a64",
   "metadata": {},
   "source": [
    "## Q2. Given a significance level of 0.05 and the degrees of freedom for the numerator and denominator of an F-distribution, write a Python function that returns the critical F-value for a two-tailed test."
   ]
  },
  {
   "cell_type": "markdown",
   "id": "8bfc0b72-b95e-4b85-bc3e-24911ebf2ba9",
   "metadata": {},
   "source": [
    "## Ans:"
   ]
  },
  {
   "cell_type": "code",
   "execution_count": 2,
   "id": "3b6eba9d-68d4-4df3-adcd-7329141dd2fc",
   "metadata": {},
   "outputs": [
    {
     "name": "stdout",
     "output_type": "stream",
     "text": [
      "Left Critical Value: 0.06935321586551411\n",
      "Right Critical Value: 4.825621493405406\n"
     ]
    }
   ],
   "source": [
    "from scipy import stats\n",
    "\n",
    "def critical_f_value(alpha, df1, df2):\n",
    "    # Calculate the right tail critical value\n",
    "    right_tail_critical_value = stats.f.ppf(1 - alpha / 2, df1, df2)\n",
    "    \n",
    "    # Calculate the left tail critical value\n",
    "    left_tail_critical_value = stats.f.ppf(alpha / 2, df1, df2)\n",
    "    \n",
    "    return left_tail_critical_value, right_tail_critical_value\n",
    "\n",
    "# Example usage with a significance level of 0.05, df1 = 3, and df2 = 10:\n",
    "alpha = 0.05\n",
    "df1 = 3\n",
    "df2 = 10\n",
    "\n",
    "left_critical, right_critical = critical_f_value(alpha, df1, df2)\n",
    "print(\"Left Critical Value:\", left_critical)\n",
    "print(\"Right Critical Value:\", right_critical)"
   ]
  },
  {
   "cell_type": "markdown",
   "id": "982f0de3-cf5a-4c3d-b99d-be9d58177dc9",
   "metadata": {},
   "source": [
    "## Q3. Write a Python program that generates random samples from two normal distributions with known variances and uses an F-test to determine if the variances are equal. The program should output the F-value, degrees of freedom, and p-value for the test."
   ]
  },
  {
   "cell_type": "markdown",
   "id": "13be47ac-d7a3-48be-92c6-277699956c96",
   "metadata": {},
   "source": [
    "## Ans:"
   ]
  },
  {
   "cell_type": "code",
   "execution_count": 3,
   "id": "03f92572-8b70-40a5-9bf7-d1cb5ea9245b",
   "metadata": {},
   "outputs": [
    {
     "name": "stdout",
     "output_type": "stream",
     "text": [
      "F-value: 0.965682538617498\n",
      "Degrees of Freedom (numerator, denominator): 29 29\n",
      "p-value: 0.5371340460153731\n",
      "Fail to reject the null hypothesis: Variances are equal.\n"
     ]
    }
   ],
   "source": [
    "import numpy as np\n",
    "from scipy import stats\n",
    "\n",
    "# Set the seed for reproducibility\n",
    "np.random.seed(0)\n",
    "\n",
    "# Parameters\n",
    "sample_size1 = 30  # Sample size for distribution 1\n",
    "sample_size2 = 30  # Sample size for distribution 2\n",
    "variance1 = 2.0    # Known variance for distribution 1\n",
    "variance2 = 3.0    # Known variance for distribution 2\n",
    "alpha = 0.05       # Significance level\n",
    "\n",
    "# Generate random samples from two normal distributions\n",
    "data1 = np.random.normal(0, np.sqrt(variance1), sample_size1)\n",
    "data2 = np.random.normal(0, np.sqrt(variance2), sample_size2)\n",
    "\n",
    "# Perform the F-test\n",
    "f_value = np.var(data1, ddof=1) / np.var(data2, ddof=1)\n",
    "df1 = sample_size1 - 1\n",
    "df2 = sample_size2 - 1\n",
    "p_value = 1 - stats.f.cdf(f_value, df1, df2)\n",
    "\n",
    "# Output the results\n",
    "print(\"F-value:\", f_value)\n",
    "print(\"Degrees of Freedom (numerator, denominator):\", df1, df2)\n",
    "print(\"p-value:\", p_value)\n",
    "\n",
    "# Determine if variances are equal based on the p-value\n",
    "if p_value < alpha:\n",
    "    print(\"Reject the null hypothesis: Variances are not equal.\")\n",
    "else:\n",
    "    print(\"Fail to reject the null hypothesis: Variances are equal.\")"
   ]
  },
  {
   "cell_type": "markdown",
   "id": "1e8894a4-34b9-432a-ace6-238032c7b620",
   "metadata": {},
   "source": [
    "## Q4.The variances of two populations are known to be 10 and 15. A sample of 12 observations is taken from each population. Conduct an F-test at the 5% significance level to determine if the variances are significantly different."
   ]
  },
  {
   "cell_type": "markdown",
   "id": "a68e6860-0d90-4799-9457-5854f9521f33",
   "metadata": {},
   "source": [
    "## Ans:"
   ]
  },
  {
   "cell_type": "code",
   "execution_count": 7,
   "id": "7d2e2884-36ba-4aa1-9373-9d73c74b324d",
   "metadata": {},
   "outputs": [
    {
     "name": "stdout",
     "output_type": "stream",
     "text": [
      "F-statistic: 0.6666666666666666\n",
      "Critical F-value: 3.473699051085809\n",
      "p-value: 1.4876102012642005\n",
      "Fail to reject the null hypothesis: Variances are equal.\n"
     ]
    }
   ],
   "source": [
    "import numpy as np\n",
    "from scipy import stats\n",
    "\n",
    "# Calculate the sample variances\n",
    "variance_A = 10\n",
    "variance_B = 15\n",
    "\n",
    "# Set the significance level\n",
    "alpha = 0.05\n",
    "\n",
    "# Calculate degrees of freedom\n",
    "df1 = 12-1\n",
    "df2 = 12-1\n",
    "\n",
    "# Calculate the F-test statistic\n",
    "f_statistic = variance_A / variance_B\n",
    "\n",
    "# Calculate the critical F-value at the given significance level and degrees of freedom\n",
    "critical_f_value = stats.f.ppf(1 - alpha/2, df1, df2)\n",
    "\n",
    "# Perform the F-test and determine if variances are significantly different\n",
    "p_value = 2 * (1 - stats.f.cdf(f_statistic, df1, df2))\n",
    "\n",
    "# Output the results\n",
    "print(\"F-statistic:\", f_statistic)\n",
    "print(\"Critical F-value:\", critical_f_value)\n",
    "print(\"p-value:\", p_value)\n",
    "\n",
    "# Compare the F-statistic to the critical F-value and make a decision\n",
    "if f_statistic < critical_f_value:\n",
    "    print(\"Fail to reject the null hypothesis: Variances are equal.\")\n",
    "else:\n",
    "    print(\"Reject the null hypothesis: Variances are not equal.\")"
   ]
  },
  {
   "cell_type": "markdown",
   "id": "22e4b9f5-53f0-4f46-8e83-d88c5f9be17d",
   "metadata": {},
   "source": [
    "## Q5. A manufacturer claims that the variance of the diameter of a certain product is 0.005. A sample of 25 products is taken, and the sample variance is found to be 0.006. Conduct an F-test at the 1% significance level to determine if the claim is justified."
   ]
  },
  {
   "cell_type": "markdown",
   "id": "b2dc4e67-6f74-431c-8fc3-7d5565280665",
   "metadata": {},
   "source": [
    "## Ans:"
   ]
  },
  {
   "cell_type": "code",
   "execution_count": 8,
   "id": "0579d6aa-c50c-4881-96f1-e601dd2420a1",
   "metadata": {},
   "outputs": [
    {
     "name": "stdout",
     "output_type": "stream",
     "text": [
      "F-statistic: 1.2\n",
      "Critical F-value: 2.966741631292762\n",
      "p-value: 0.6587309365634488\n",
      "Fail to reject the null hypothesis: claimed Variance true.\n"
     ]
    }
   ],
   "source": [
    "import numpy as np\n",
    "from scipy import stats\n",
    "\n",
    "# Calculate the sample variances\n",
    "variance_A = 0.006\n",
    "variance_B = 0.005\n",
    "# Set the significance level\n",
    "alpha = 0.01\n",
    "\n",
    "# Calculate degrees of freedom\n",
    "df1 = 25-1\n",
    "df2 = 25-1\n",
    "\n",
    "# Calculate the F-test statistic\n",
    "f_statistic = variance_A / variance_B\n",
    "\n",
    "# Calculate the critical F-value at the given significance level and degrees of freedom\n",
    "critical_f_value = stats.f.ppf(1 - alpha/2, df1, df2)\n",
    "\n",
    "# Perform the F-test and determine if variances are significantly different\n",
    "p_value = 2 * (1 - stats.f.cdf(f_statistic, df1, df2))\n",
    "\n",
    "# Output the results\n",
    "print(\"F-statistic:\", f_statistic)\n",
    "print(\"Critical F-value:\", critical_f_value)\n",
    "print(\"p-value:\", p_value)\n",
    "\n",
    "# Compare the F-statistic to the critical F-value and make a decision\n",
    "if f_statistic < critical_f_value:\n",
    "    print(\"Fail to reject the null hypothesis: claimed Variance true.\")\n",
    "else:\n",
    "    print(\"Reject the null hypothesis: claimed Variance is not true.\")"
   ]
  },
  {
   "cell_type": "markdown",
   "id": "cd332c02-8527-4746-be79-ab65427ee36a",
   "metadata": {},
   "source": [
    "## Q6. Write a Python function that takes in the degrees of freedom for the numerator and denominator of an F-distribution and calculates the mean and variance of the distribution. The function should return the mean and variance as a tuple."
   ]
  },
  {
   "cell_type": "markdown",
   "id": "5d44b119-0174-493b-b4d0-e09945bc51e8",
   "metadata": {},
   "source": [
    "## Ans:"
   ]
  },
  {
   "cell_type": "code",
   "execution_count": 4,
   "id": "467749df-bf5c-432e-a522-7bd895656527",
   "metadata": {},
   "outputs": [
    {
     "name": "stdout",
     "output_type": "stream",
     "text": [
      "Mean: 1.25\n",
      "Variance: 1.9097222222222223\n"
     ]
    }
   ],
   "source": [
    "def calculate_f_distribution_mean_variance(df1, df2):\n",
    "    # Calculate the mean (μ)\n",
    "    mean = df2 / (df2 - 2)\n",
    "\n",
    "    # Calculate the variance (σ^2)\n",
    "    variance = (2 * df2**2 * (df1 + df2 - 2)) / (df1 * (df2 - 2)**2 * (df2 - 4))\n",
    "\n",
    "    return mean, variance\n",
    "\n",
    "# Example usage:\n",
    "df1 = 3  # Degrees of freedom for the numerator\n",
    "df2 = 10  # Degrees of freedom for the denominator\n",
    "\n",
    "mean, variance = calculate_f_distribution_mean_variance(df1, df2)\n",
    "print(\"Mean:\", mean)\n",
    "print(\"Variance:\", variance)"
   ]
  },
  {
   "cell_type": "markdown",
   "id": "ebd9a4ca-c2bd-4443-9926-8b446a4949e8",
   "metadata": {},
   "source": [
    "## Q7. A random sample of 10 measurements is taken from a normal population with unknown variance. The sample variance is found to be 25. Another random sample of 15 measurements is taken from another normal population with unknown variance, and the sample variance is found to be 20. Conduct an F-test at the 10% significance level to determine if the variances are significantly different."
   ]
  },
  {
   "cell_type": "markdown",
   "id": "f977210a-3292-4c67-aa97-59fc3faecbd1",
   "metadata": {},
   "source": [
    "## Ans:"
   ]
  },
  {
   "cell_type": "code",
   "execution_count": 9,
   "id": "d04888da-cd78-4a7c-9d5c-1949a5cb3e32",
   "metadata": {},
   "outputs": [
    {
     "name": "stdout",
     "output_type": "stream",
     "text": [
      "F-statistic: 1.25\n",
      "Critical F-value: 2.6457907352338195\n",
      "p-value: 0.6832194382585954\n",
      "Fail to reject the null hypothesis: Variances are equal.\n"
     ]
    }
   ],
   "source": [
    "import numpy as np\n",
    "from scipy import stats\n",
    "\n",
    "# Calculate the sample variances\n",
    "variance_A = 25\n",
    "variance_B = 20\n",
    "\n",
    "# Set the significance level\n",
    "alpha = 0.1\n",
    "\n",
    "# Calculate degrees of freedom\n",
    "df1 = 10 - 1\n",
    "df2 = 15 - 1\n",
    "\n",
    "# Calculate the F-test statistic\n",
    "f_statistic = variance_A / variance_B\n",
    "\n",
    "# Calculate the critical F-value at the given significance level and degrees of freedom\n",
    "critical_f_value = stats.f.ppf(1 - alpha/2, df1, df2)\n",
    "\n",
    "# Perform the F-test and determine if variances are significantly different\n",
    "p_value = 2 * (1 - stats.f.cdf(f_statistic, df1, df2))\n",
    "\n",
    "# Output the results\n",
    "print(\"F-statistic:\", f_statistic)\n",
    "print(\"Critical F-value:\", critical_f_value)\n",
    "print(\"p-value:\", p_value)\n",
    "\n",
    "# Compare the F-statistic to the critical F-value and make a decision\n",
    "if f_statistic < critical_f_value:\n",
    "    print(\"Fail to reject the null hypothesis: Variances are equal.\")\n",
    "else:\n",
    "    print(\"Reject the null hypothesis: Variances are not equal.\")"
   ]
  },
  {
   "cell_type": "markdown",
   "id": "706c6a04-5278-430b-8fdf-19b65dac3780",
   "metadata": {},
   "source": [
    "## Q8. The following data represent the waiting times in minutes at two different restaurants on a Saturday night: Restaurant A: 24, 25, 28, 23, 22, 20, 27; Restaurant B: 31, 33, 35, 30, 32, 36. Conduct an F-test at the 5% significance level to determine if the variances are significantly different."
   ]
  },
  {
   "cell_type": "markdown",
   "id": "6fa1d403-c5dd-41f7-8003-c4da03610628",
   "metadata": {},
   "source": [
    "## Ans:"
   ]
  },
  {
   "cell_type": "code",
   "execution_count": 5,
   "id": "0203ad0a-82da-4671-b456-7ad929a4a972",
   "metadata": {},
   "outputs": [
    {
     "name": "stdout",
     "output_type": "stream",
     "text": [
      "F-statistic: 1.4551907719609583\n",
      "Critical F-value: 6.977701858535566\n",
      "p-value: 0.6974815747937484\n",
      "Fail to reject the null hypothesis: Variances are equal.\n"
     ]
    }
   ],
   "source": [
    "import numpy as np\n",
    "from scipy import stats\n",
    "\n",
    "# Data for waiting times at two restaurants\n",
    "restaurant_A = [24, 25, 28, 23, 22, 20, 27]\n",
    "restaurant_B = [31, 33, 35, 30, 32, 36]\n",
    "\n",
    "# Calculate the sample variances\n",
    "variance_A = np.var(restaurant_A, ddof=1)  # ddof=1 for sample variance\n",
    "variance_B = np.var(restaurant_B, ddof=1)\n",
    "\n",
    "# Set the significance level\n",
    "alpha = 0.05\n",
    "\n",
    "# Calculate degrees of freedom\n",
    "df1 = len(restaurant_A) - 1\n",
    "df2 = len(restaurant_B) - 1\n",
    "\n",
    "# Calculate the F-test statistic\n",
    "f_statistic = variance_A / variance_B\n",
    "\n",
    "# Calculate the critical F-value at the given significance level and degrees of freedom\n",
    "critical_f_value = stats.f.ppf(1 - alpha/2, df1, df2)\n",
    "\n",
    "# Perform the F-test and determine if variances are significantly different\n",
    "p_value = 2 * (1 - stats.f.cdf(f_statistic, df1, df2))\n",
    "\n",
    "# Output the results\n",
    "print(\"F-statistic:\", f_statistic)\n",
    "print(\"Critical F-value:\", critical_f_value)\n",
    "print(\"p-value:\", p_value)\n",
    "\n",
    "# Compare the F-statistic to the critical F-value and make a decision\n",
    "if f_statistic < critical_f_value:\n",
    "    print(\"Fail to reject the null hypothesis: Variances are equal.\")\n",
    "else:\n",
    "    print(\"Reject the null hypothesis: Variances are not equal.\")"
   ]
  },
  {
   "cell_type": "markdown",
   "id": "701391c6-f610-4be0-abaf-d28d8137d79e",
   "metadata": {},
   "source": [
    "## Q9. The following data represent the test scores of two groups of students: Group A: 80, 85, 90, 92, 87, 83; Group B: 75, 78, 82, 79, 81, 84. Conduct an F-test at the 1% significance level to determine if the variances are significantly different."
   ]
  },
  {
   "cell_type": "markdown",
   "id": "22fcd57e-d697-48d9-9aef-d78ad2ca63eb",
   "metadata": {},
   "source": [
    "## Ans:"
   ]
  },
  {
   "cell_type": "code",
   "execution_count": 6,
   "id": "6cb20748-42d7-40d3-b7b3-3133eebfd42c",
   "metadata": {},
   "outputs": [
    {
     "name": "stdout",
     "output_type": "stream",
     "text": [
      "F-statistic: 1.9442622950819677\n",
      "Critical F-value: 14.939605459912224\n",
      "p-value: 0.4831043549070688\n",
      "Fail to reject the null hypothesis: Variances are equal.\n"
     ]
    }
   ],
   "source": [
    "import numpy as np\n",
    "from scipy import stats\n",
    "\n",
    "# Test scores for two groups of students\n",
    "group_A = [80, 85, 90, 92, 87, 83]\n",
    "group_B = [75, 78, 82, 79, 81, 84]\n",
    "\n",
    "# Calculate the sample variances\n",
    "variance_A = np.var(group_A, ddof=1)  # ddof=1 for sample variance\n",
    "variance_B = np.var(group_B, ddof=1)\n",
    "\n",
    "# Set the significance level\n",
    "alpha = 0.01\n",
    "\n",
    "# Calculate degrees of freedom\n",
    "df1 = len(group_A) - 1\n",
    "df2 = len(group_B) - 1\n",
    "\n",
    "# Calculate the F-test statistic\n",
    "f_statistic = variance_A / variance_B\n",
    "\n",
    "# Calculate the critical F-value at the given significance level and degrees of freedom\n",
    "critical_f_value = stats.f.ppf(1 - alpha/2, df1, df2)\n",
    "\n",
    "# Perform the F-test and determine if variances are significantly different\n",
    "p_value = 2 * (1 - stats.f.cdf(f_statistic, df1, df2))\n",
    "\n",
    "# Output the results\n",
    "print(\"F-statistic:\", f_statistic)\n",
    "print(\"Critical F-value:\", critical_f_value)\n",
    "print(\"p-value:\", p_value)\n",
    "\n",
    "# Compare the F-statistic to the critical F-value and make a decision\n",
    "if f_statistic < critical_f_value:\n",
    "    print(\"Fail to reject the null hypothesis: Variances are equal.\")\n",
    "else:\n",
    "    print(\"Reject the null hypothesis: Variances are not equal.\")"
   ]
  },
  {
   "cell_type": "code",
   "execution_count": null,
   "id": "da8934af-da28-419e-9fb2-e129efe5c8c4",
   "metadata": {},
   "outputs": [],
   "source": []
  }
 ],
 "metadata": {
  "kernelspec": {
   "display_name": "Python 3 (ipykernel)",
   "language": "python",
   "name": "python3"
  },
  "language_info": {
   "codemirror_mode": {
    "name": "ipython",
    "version": 3
   },
   "file_extension": ".py",
   "mimetype": "text/x-python",
   "name": "python",
   "nbconvert_exporter": "python",
   "pygments_lexer": "ipython3",
   "version": "3.10.8"
  }
 },
 "nbformat": 4,
 "nbformat_minor": 5
}

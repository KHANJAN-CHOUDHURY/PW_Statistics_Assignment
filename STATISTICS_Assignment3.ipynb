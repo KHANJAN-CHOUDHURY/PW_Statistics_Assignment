{
 "cells": [
  {
   "cell_type": "markdown",
   "id": "6e75738a-5963-49ca-8c54-e875bcf1653f",
   "metadata": {},
   "source": [
    "## Q1. What is the Probability density function?"
   ]
  },
  {
   "cell_type": "markdown",
   "id": "2631f310-861e-4396-b50e-c3b5965cbb2e",
   "metadata": {},
   "source": [
    "## Ans:"
   ]
  },
  {
   "cell_type": "markdown",
   "id": "27ee1778-ba6d-492f-8d20-b26adfb07312",
   "metadata": {},
   "source": [
    "A Probability Density Function (PDF) is a mathematical function that describes the likelihood of a continuous random variable taking on a specific value within a given range. In other words, it provides the probability that a continuous random variable falls within a particular interval.\n",
    "\n",
    "The key properties of a PDF are:\n",
    "\n",
    "1. Non-negative values: The PDF is always non-negative, meaning that the probability of a value being in a particular interval is greater than or equal to zero.\n",
    "\n",
    "2. Area under the curve: The total area under the curve of the PDF over its entire range is equal to 1. This ensures that the probabilities cover all possible outcomes."
   ]
  },
  {
   "cell_type": "markdown",
   "id": "ed3763e3-5eaf-428c-b423-6d65e34351f7",
   "metadata": {},
   "source": [
    "## Q2. What are the types of Probability distribution?"
   ]
  },
  {
   "cell_type": "markdown",
   "id": "48cafb2b-0467-447d-b2af-af121594d5a3",
   "metadata": {},
   "source": [
    "## Ans:"
   ]
  },
  {
   "cell_type": "markdown",
   "id": "eeb14f73-e13c-4513-8698-545c99bf7ab4",
   "metadata": {},
   "source": [
    "Probability distributions describe how the probabilities of different outcomes are spread or distributed for a random variable. There are several types of probability distributions, each with its own characteristics and applications. Here are some of the most common types:\n",
    "\n",
    "1. Discrete Probability Distributions:\n",
    "a. Bernoulli Distribution: Models a single trial with two possible outcomes (usually labeled as success and failure) with fixed probabilities.\\\n",
    "b. Binomial Distribution: Describes the number of successes in a fixed number of independent Bernoulli trials.\\\n",
    "c. Poisson Distribution: Models the number of events occurring within a fixed interval of time or space when events happen at a constant rate independently of time.\\\n",
    "d. Geometric Distribution: Represents the number of trials needed for the first success in a sequence of independent Bernoulli trials.\n",
    "\n",
    "2. Continuous Probability Distributions:\n",
    "a. Normal Distribution (Gaussian Distribution): Characterized by a bell-shaped curve and is widely used due to its prevalence in natural phenomena. It's fully described by its mean and standard deviation.\\\n",
    "b. Exponential Distribution: Models the time between events in a Poisson process, where events occur at a constant average rate.\n",
    "c. Uniform Distribution: All values within a certain range are equally likely to occur.\\\n",
    "d. Log-Normal Distribution: The logarithm of the random variable follows a normal distribution, which makes it useful for modeling variables that cannot be negative, such as stock prices.\\\n",
    "e. Gamma Distribution: Generalizes the exponential distribution to model the time until a sequence of events in a Poisson process.\\\n",
    "f. Weibull Distribution: Used in reliability engineering to model the time until failure of a system or component.\n",
    "\n",
    "3. Multinomial Distribution: Generalizes the binomial distribution to more than two categories or outcomes.\n",
    "\n",
    "4. Hypergeometric Distribution: Models the probability of drawing specific items from a finite population without replacement, where the number of successes and failures is known.\n",
    "\n",
    "5. Beta Distribution: Used to model the probability distribution of random variables constrained to the interval [0, 1], such as probabilities or proportions.\n",
    "\n",
    "6. Chi-Square Distribution: Often used in statistical hypothesis testing, particularly in tests of independence and goodness of fit.\n",
    "\n",
    "7. Student's t-Distribution: Commonly used for estimating population parameters when the sample size is small and the population standard deviation is unknown.\n",
    "\n",
    "8. F-Distribution: Used in statistical hypothesis testing, particularly in analysis of variance (ANOVA) and regression analysis."
   ]
  },
  {
   "cell_type": "markdown",
   "id": "c0420efc-b23a-48d5-8612-271fc7ef227a",
   "metadata": {},
   "source": [
    "## Q3. Write a Python function to calculate the probability density function of a normal distribution with given mean and standard deviation at a given point."
   ]
  },
  {
   "cell_type": "markdown",
   "id": "998563f1-65c7-494d-a6fd-deec5e7dd3bf",
   "metadata": {},
   "source": [
    "## Ans:"
   ]
  },
  {
   "cell_type": "code",
   "execution_count": 1,
   "id": "985b9de2-5825-47fe-bf0c-c0d9075169d4",
   "metadata": {},
   "outputs": [
    {
     "name": "stdout",
     "output_type": "stream",
     "text": [
      "PDF at x = 1.5: 0.12951759566589174\n"
     ]
    }
   ],
   "source": [
    "import scipy.stats as stats\n",
    "\n",
    "def normal_pdf(x, mean, std_dev):\n",
    "    \"\"\"\n",
    "    Calculate the probability density function (PDF) of a normal distribution at a given point.\n",
    "\n",
    "    Parameters:\n",
    "    - x: The point at which to calculate the PDF.\n",
    "    - mean: The mean (average) of the normal distribution.\n",
    "    - std_dev: The standard deviation (a measure of the spread) of the normal distribution.\n",
    "\n",
    "    Returns:\n",
    "    - pdf_value: The PDF value at the given point.\n",
    "    \"\"\"\n",
    "    pdf_value = stats.norm.pdf(x, loc=mean, scale=std_dev)\n",
    "    return pdf_value\n",
    "\n",
    "# Example usage:\n",
    "mean = 0.0  # Mean of the normal distribution\n",
    "std_dev = 1.0  # Standard deviation of the normal distribution\n",
    "x = 1.5  # Point at which to calculate the PDF\n",
    "\n",
    "pdf_at_x = normal_pdf(x, mean, std_dev)\n",
    "print(f\"PDF at x = {x}: {pdf_at_x}\")"
   ]
  },
  {
   "cell_type": "markdown",
   "id": "528c3c5c-9bca-4553-b002-864659f0aa37",
   "metadata": {},
   "source": [
    "## Q4. What are the properties of Binomial distribution? Give two examples of events where binomial distribution can be applied."
   ]
  },
  {
   "cell_type": "markdown",
   "id": "75efa081-3738-43ec-82a5-aa30b954abb7",
   "metadata": {},
   "source": [
    "## Ans:"
   ]
  },
  {
   "cell_type": "markdown",
   "id": "471277e1-e87c-454f-86da-370342f26789",
   "metadata": {},
   "source": [
    "The Binomial distribution is a discrete probability distribution that models the number of successes (usually denoted as \"k\") in a fixed number of independent Bernoulli trials (experiments with two possible outcomes: success and failure). The Binomial distribution has several important properties:\n",
    "\n",
    "1. Fixed Number of Trials (n): The distribution represents a fixed number of identical trials, denoted as \"n,\" where each trial can result in one of two possible outcomes (success or failure).\n",
    "\n",
    "2. Independent Trials: Each trial is independent of the others. The outcome of one trial does not affect the outcome of any other trial.\n",
    "\n",
    "3. Constant Probability of Success (p): The probability of success (usually denoted as \"p\") remains the same for each trial. Similarly, the probability of failure (q = 1 - p) remains constant.\n",
    "\n",
    "4. Discrete Outcomes: The random variable, which represents the number of successes (k), can take on discrete values from 0 to n, inclusive.\n",
    "\n",
    "Two examples of events where the Binomial distribution can be applied are:\n",
    "\n",
    "1. Coin Flips: When flipping a fair coin (where \"heads\" is a success and \"tails\" is a failure) a fixed number of times (n), the Binomial distribution can be used to calculate the probability of getting a specific number of heads (k) in those flips.\n",
    "\n",
    "2. Quality Control: In manufacturing, quality control inspectors may sample a fixed number of items (n) from a production batch and check each item for defects (success or failure). The Binomial distribution can be used to estimate the probability of finding a certain number of defective items (k) in the sample."
   ]
  },
  {
   "cell_type": "markdown",
   "id": "f727a339-4087-44ca-b8de-98cf2998461b",
   "metadata": {},
   "source": [
    "## Q5. Generate a random sample of size 1000 from a binomial distribution with probability of success 0.4 and plot a histogram of the results using matplotlib."
   ]
  },
  {
   "cell_type": "markdown",
   "id": "55b4cfdd-ea7b-40eb-b985-803eb192d13f",
   "metadata": {},
   "source": [
    "## Ans:"
   ]
  },
  {
   "cell_type": "code",
   "execution_count": 4,
   "id": "d44ea7d5-4889-40cb-9d8e-92c3397f3105",
   "metadata": {},
   "outputs": [],
   "source": [
    "import numpy as np\n",
    "import matplotlib.pyplot as plt\n",
    "from scipy.stats import binom"
   ]
  },
  {
   "cell_type": "code",
   "execution_count": 6,
   "id": "10efe743-220a-4598-925a-02b0848ee5a5",
   "metadata": {},
   "outputs": [
    {
     "data": {
      "image/png": "[encoded data removed]",
      "text/plain": [
       "<Figure size 640x480 with 1 Axes>"
      ]
     },
     "metadata": {},
     "output_type": "display_data"
    }
   ],
   "source": [
    "n = 1000 # Total number of samples\n",
    "p = 0.4 # probability of success\n",
    "\n",
    "#Generate a random sample from the Binomial distribution\n",
    "random_sample = np.random.binomial(n, p, size=1000)\n",
    "# Create a histogram of the random sample\n",
    "plt.hist(random_sample, bins=20, density=True, alpha=0.6, color='b', label='Histogram')\n",
    "\n",
    "# Plot the theoretical probability mass function (PMF) for comparison\n",
    "x = np.arange(0, n + 1)\n",
    "pmf = binom.pmf(x, n, p) \n",
    "plt.plot(x, pmf, 'r', linestyle='dashed', marker='o', markersize=4, label='Theoretical PMF')\n",
    "\n",
    "# Add labels and a legend\n",
    "plt.xlabel('Number of Trials (n)')\n",
    "plt.ylabel('Probability')\n",
    "plt.title(f'Binomial Distribution (n={n}, p={p})')\n",
    "plt.legend()\n",
    "\n",
    "# Show the plot\n",
    "plt.grid(True)\n",
    "plt.show()"
   ]
  },
  {
   "cell_type": "markdown",
   "id": "42981433-6e03-405a-8fb8-3a712be842ac",
   "metadata": {},
   "source": [
    "## Q6. Write a Python function to calculate the cumulative distribution function of a Poisson distribution with given mean at a given point."
   ]
  },
  {
   "cell_type": "markdown",
   "id": "161000a7-9e2e-48d0-809d-7235e9c88de4",
   "metadata": {},
   "source": [
    "## Ans:"
   ]
  },
  {
   "cell_type": "code",
   "execution_count": 9,
   "id": "c5fbcab2-9244-4cb1-bc40-b074020495fb",
   "metadata": {},
   "outputs": [
    {
     "name": "stdout",
     "output_type": "stream",
     "text": [
      "CDF at x = 2 and mean = 3.0 is: 0.42319008112684364\n"
     ]
    }
   ],
   "source": [
    "import scipy.stats as stats\n",
    "\n",
    "def poisson_cdf(x, mean):\n",
    "    \"\"\"\n",
    "    Calculate the cumulative distribution function (CDF) of a Poisson distribution at a given point.\n",
    "\n",
    "    Parameters:\n",
    "    - x: The point at which to calculate the CDF.\n",
    "    - mean: The mean (average) of the Poisson distribution.\n",
    "\n",
    "    Returns:\n",
    "    - cdf_value: The CDF value at the given point.\n",
    "    \"\"\"\n",
    "    cdf_value = stats.poisson.cdf(x, mu=mean)\n",
    "    return cdf_value\n",
    "\n",
    "# Example usage:\n",
    "mean = 3.0  # Mean of the Poisson distribution\n",
    "x = 2      # Point at which to calculate the CDF\n",
    "\n",
    "cdf_at_x = poisson_cdf(x, mean)\n",
    "print(f\"CDF at x = {x} and mean = {mean} is: {cdf_at_x}\")"
   ]
  },
  {
   "cell_type": "markdown",
   "id": "6423e704-7b02-4d02-a727-f9f96c77bd3b",
   "metadata": {},
   "source": [
    "## Q7. How Binomial distribution different from Poisson distribution?"
   ]
  },
  {
   "cell_type": "markdown",
   "id": "35e4250b-e44f-4f4b-9ddb-fdd83d2203b4",
   "metadata": {},
   "source": [
    "## Ans:"
   ]
  },
  {
   "cell_type": "markdown",
   "id": "a2c78ac4-5142-42ce-8e1e-de020242461b",
   "metadata": {},
   "source": [
    "The Binomial distribution and the Poisson distribution are both probability distributions used to model discrete random variables, but they have different characteristics and are applicable to different types of situations. Here are the key differences between the two distributions:\n",
    "\n",
    "1. Number of Trials:\n",
    "Binomial Distribution: It is used to model the number of successes (k) in a fixed number of independent Bernoulli trials (n trials), where each trial can result in one of two possible outcomes (usually success or failure).\\\n",
    "Poisson Distribution: It models the number of events (such as arrivals, occurrences, or incidents) that happen in a fixed interval of time or space. There is no fixed number of trials; events occur independently over time or space.\n",
    "\n",
    "2. Nature of Outcomes:\n",
    "Binomial Distribution: Each trial in the Binomial distribution has two possible outcomes, typically labeled as success and failure. The random variable represents the count of successes.\\\n",
    "Poisson Distribution: It models counts or occurrences of rare events in a continuous or infinite range, such as the number of customers arriving at a store in an hour or the number of emails received per day.\n",
    "\n",
    "3. Parameters:\n",
    "Binomial Distribution: It is defined by two parameters: the number of trials (n) and the probability of success (p) in a single trial.\\\n",
    "Poisson Distribution: It is defined by a single parameter, which is the average rate of event occurrences (often denoted as λ, lambda) in the fixed interval.\n",
    "\n",
    "4. Applicability:\n",
    "Binomial Distribution: It is suitable for situations where you have a fixed number of trials with a binary outcome, and the trials are independent. Common examples include coin flips, the number of defective items in a sample, or the number of successful sales calls in a fixed number of attempts.\\\n",
    "Poisson Distribution: It is used when we are interested in modeling rare events that occur in a continuous or continuous-like fashion, where the events are independent and the average rate of occurrence is known or estimated. Examples include modeling the number of phone calls to a call center in an hour or the number of accidents at an intersection in a day.\n",
    "\n",
    "5. Shape of Distribution:\n",
    "Binomial Distribution: It typically has a bell-shaped or skewed distribution, depending on the values of n and p. As n increases while keeping np constant, it can approximate a normal distribution.\\\n",
    "Poisson Distribution: It has a right-skewed distribution, and it becomes increasingly symmetrical as the rate parameter λ increases."
   ]
  },
  {
   "cell_type": "markdown",
   "id": "843db596-a3f8-4861-b0e4-43d91fe58910",
   "metadata": {},
   "source": [
    "## Q8. Generate a random sample of size 1000 from a Poisson distribution with mean 5 and calculate the sample mean and variance."
   ]
  },
  {
   "cell_type": "markdown",
   "id": "6788cf6c-171f-4549-91e9-5c63f9be7e0b",
   "metadata": {},
   "source": [
    "## Ans:"
   ]
  },
  {
   "cell_type": "code",
   "execution_count": 10,
   "id": "e604c22a-86b3-4aa1-8b27-649120780ccf",
   "metadata": {},
   "outputs": [
    {
     "name": "stdout",
     "output_type": "stream",
     "text": [
      "Sample Mean: 5.092\n",
      "Sample Variance: 5.149536\n"
     ]
    }
   ],
   "source": [
    "import numpy as np\n",
    "\n",
    "# Parameters for the Poisson distribution\n",
    "mean = 5  # Mean of the Poisson distribution\n",
    "sample_size = 1000  # Sample size\n",
    "\n",
    "# Generate a random sample from the Poisson distribution\n",
    "random_sample = np.random.poisson(mean, size=sample_size)\n",
    "\n",
    "# Calculate the sample mean and variance\n",
    "sample_mean = np.mean(random_sample)\n",
    "sample_variance = np.var(random_sample, ddof=0)  # Using ddof=0 for population variance\n",
    "\n",
    "print(f\"Sample Mean: {sample_mean}\")\n",
    "print(f\"Sample Variance: {sample_variance}\")"
   ]
  },
  {
   "cell_type": "markdown",
   "id": "aa4db786-db7c-47e0-af85-59ca8611a9b4",
   "metadata": {},
   "source": [
    "## Q9. How mean and variance are related in Binomial distribution and Poisson distribution?"
   ]
  },
  {
   "cell_type": "markdown",
   "id": "da81eeba-1491-4475-b456-f193e5d687d2",
   "metadata": {},
   "source": [
    "## Ans:"
   ]
  },
  {
   "cell_type": "markdown",
   "id": "e63d4877-f0b6-4d6e-bb26-c082ba927c31",
   "metadata": {},
   "source": [
    "1. Binomial Distribution:\n",
    "\n",
    "In the Binomial distribution, which models the number of successes (k) in a fixed number of independent Bernoulli trials (n trials), the mean and variance are related as follows:\n",
    "\n",
    "    Mean (μ): The mean of a Binomial distribution is given by μ = n * p, where:\n",
    "        n is the number of trials (fixed).\n",
    "        p is the probability of success in a single trial (constant).\n",
    "\n",
    "    Variance (σ^2): The variance of a Binomial distribution is given by σ^2 = n * p * (1 - p).\n",
    "    \n",
    "2. Poisson Distribution:\n",
    "\n",
    "In the Poisson distribution, which models the number of events occurring in a fixed interval of time or space, the mean and variance are related differently:\n",
    "\n",
    "    Mean (μ): The mean of a Poisson distribution is given by μ = λ, where λ (lambda) is the average rate of event occurrences in the fixed interval.\n",
    "\n",
    "    Variance (σ^2): The variance of a Poisson distribution is also given by σ^2 = λ."
   ]
  },
  {
   "cell_type": "markdown",
   "id": "bfbda157-e017-4285-a162-d98d87bfdf9d",
   "metadata": {},
   "source": [
    "## Q10. In normal distribution with respect to mean position, where does the least frequent data appear?"
   ]
  },
  {
   "cell_type": "markdown",
   "id": "77bb2127-8108-43f9-aae0-e0abc3befbb5",
   "metadata": {},
   "source": [
    "## Ans:"
   ]
  },
  {
   "cell_type": "markdown",
   "id": "9ebc3a42-5726-4a9a-b2d9-798773fbce78",
   "metadata": {},
   "source": [
    "In a normal distribution (also known as a Gaussian distribution), the least frequent data points appear in the tails of the distribution, farthest away from the mean. Specifically:\n",
    "\n",
    "1. Least Frequent Data to the Left of the Mean: Data points to the left (lower values) of the mean in a normal distribution are less frequent. These are often referred to as the \"left tail\" of the distribution. The farther you move to the left of the mean, the less likely you are to encounter data points.\n",
    "\n",
    "2. Least Frequent Data to the Right of the Mean: Similarly, data points to the right (higher values) of the mean are also less frequent. These are often referred to as the \"right tail\" of the distribution. The farther you move to the right of the mean, the less likely you are to encounter data points."
   ]
  },
  {
   "cell_type": "code",
   "execution_count": null,
   "id": "d6851bad-0c46-4f21-af9e-77456f8dfc39",
   "metadata": {},
   "outputs": [],
   "source": []
  }
 ],
 "metadata": {
  "kernelspec": {
   "display_name": "Python 3 (ipykernel)",
   "language": "python",
   "name": "python3"
  },
  "language_info": {
   "codemirror_mode": {
    "name": "ipython",
    "version": 3
   },
   "file_extension": ".py",
   "mimetype": "text/x-python",
   "name": "python",
   "nbconvert_exporter": "python",
   "pygments_lexer": "ipython3",
   "version": "3.10.8"
  }
 },
 "nbformat": 4,
 "nbformat_minor": 5
}

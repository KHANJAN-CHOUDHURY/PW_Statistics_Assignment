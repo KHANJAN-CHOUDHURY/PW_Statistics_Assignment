{
 "cells": [
  {
   "cell_type": "markdown",
   "id": "6d206118-f135-4a3d-8630-66921879e7b3",
   "metadata": {},
   "source": [
    "## Q1: What is the difference between a t-test and a z-test? Provide an example scenario where you would use each type of test."
   ]
  },
  {
   "cell_type": "markdown",
   "id": "240fb6fb-170b-48d8-bba9-3eba6a49a0fa",
   "metadata": {},
   "source": [
    "## Ans:"
   ]
  },
  {
   "cell_type": "markdown",
   "id": "eb1f763d-5f0e-427e-80f0-fca1c989527f",
   "metadata": {},
   "source": [
    "A t-test and a z-test are both statistical hypothesis tests used to make inferences about population parameters based on sample data. However, they are suited for different situations, primarily based on the characteristics of the data and what we know about the population.\n",
    "\n",
    "T-Test:\n",
    "\n",
    "1. Used for small sample sizes: T-tests are typically used when you have a relatively small sample size (typically less than 30 observations) and the population standard deviation is unknown.\n",
    "2. Sample standard deviation: In a t-test, we use the sample standard deviation to estimate the population standard deviation.\n",
    "3. Example Scenario: Suppose we want to test whether a new teaching method improves students' test scores. You randomly select 20 students, apply the new method to them, and then compare their scores to the scores of 20 other students who were taught using the traditional method. In this case, you would use a t-test because you have a small sample size (n = 20) and you don't know the population standard deviation.\n",
    "\n",
    "Z-Test:\n",
    "\n",
    "1. Used for large sample sizes: Z-tests are appropriate when you have a relatively large sample size (typically greater than 30 observations) or when you know the population standard deviation.\n",
    "2. Population standard deviation: In a z-test, you use the known population standard deviation or, if the sample size is large enough, you can use the sample standard deviation as an estimate of the population standard deviation.\n",
    "3. Example Scenario: Suppose you want to test whether the average height of adult males in a particular city is significantly different from the national average height. You collect height data from 500 adult males in that city and know the population standard deviation for height in the national population. Here, you would use a z-test because you have a large sample size (n = 500) and you know the population standard deviation."
   ]
  },
  {
   "cell_type": "markdown",
   "id": "ef1807ae-e7e8-4cb1-8073-a59d59901a7c",
   "metadata": {},
   "source": [
    "## Q2: Differentiate between one-tailed and two-tailed tests."
   ]
  },
  {
   "cell_type": "markdown",
   "id": "e3d073e3-43f7-4410-9073-618aeb0c4d6b",
   "metadata": {},
   "source": [
    "## Ans:"
   ]
  },
  {
   "cell_type": "markdown",
   "id": "b2480df2-4cf3-4a85-918b-5cd564d4cd2b",
   "metadata": {},
   "source": [
    "One-tailed and two-tailed tests are two types of hypothesis tests used in statistics to determine the significance of observed sample results in relation to a null hypothesis. The key difference between them lies in the directionality of the hypothesis being tested and the critical region for rejecting the null hypothesis.\n",
    "\n",
    "One-Tailed Test:\n",
    "\n",
    "1. Directional Hypothesis: In a one-tailed test, we have a specific direction in mind when formulating our hypothesis. We are testing whether the population parameter is greater than or less than a certain value.\n",
    "2. Critical Region: The critical region for a one-tailed test is on one side of the sampling distribution's probability distribution curve.\n",
    "3. Rejection Region: If the sample result falls into the critical region, we reject the null hypothesis. This means we are specifically looking for an effect in one direction.\n",
    "\n",
    "Example of a One-Tailed Test:\\\n",
    "Suppose we want to test whether a new drug improves patients' recovery time after surgery. Our null hypothesis (H0) might be: \"The new drug has no effect on recovery time.\" Our alternative hypothesis (Ha) for a one-tailed test might be: \"The new drug reduces recovery time.\" In this case, we are only interested in whether the drug makes recovery faster, and we would look for evidence of this effect in one direction.\n",
    "\n",
    "Two-Tailed Test:\n",
    "\n",
    "1. Non-Directional Hypothesis: In a two-tailed test, we do not have a specific direction in mind when formulating our hypothesis. We are testing whether the population parameter is different from a certain value, but we do not specify whether it's greater or less than that value.\n",
    "2. Critical Region: The critical region for a two-tailed test is split into two sides of the sampling distribution's probability distribution curve.\n",
    "3. Rejection Region: If the sample result falls into either of the two critical regions, we reject the null hypothesis. This means we are looking for evidence of an effect in either direction.\n",
    "\n",
    "Example of a Two-Tailed Test:\\\n",
    "Suppose we want to test whether a coin is fair. Our null hypothesis (H0) might be: \"The coin is fair, and the probability of getting heads is 0.5.\" Our alternative hypothesis (Ha) for a two-tailed test might be: \"The coin is not fair, and the probability of getting heads is not equal to 0.5.\" In this case, we are interested in detecting any deviation from the expected value of 0.5, whether it's more heads (greater than 0.5) or fewer heads (less than 0.5)."
   ]
  },
  {
   "cell_type": "markdown",
   "id": "38bb0185-eab2-4994-8137-80bf3378f40a",
   "metadata": {},
   "source": [
    "## Q3: Explain the concept of Type 1 and Type 2 errors in hypothesis testing. Provide an example scenario for each type of error."
   ]
  },
  {
   "cell_type": "markdown",
   "id": "684cc2c4-61d1-4fb3-9f14-0df8114e762c",
   "metadata": {},
   "source": [
    "## Ans:"
   ]
  },
  {
   "cell_type": "markdown",
   "id": "92fa6022-d6dc-44b0-b3e0-a2182156e5ee",
   "metadata": {},
   "source": [
    "In hypothesis testing, Type I and Type II errors are two types of errors that can occur when making decisions about the null hypothesis (H0) and the alternative hypothesis (Ha). These errors are associated with the incorrect rejection or acceptance of a null hypothesis based on sample data.\n",
    "\n",
    "1. Type I Error (False Positive):\\\n",
    "Definition: Type I error occurs when we reject a null hypothesis that is actually true. In other words, we conclude that there is a significant effect or difference when, in reality, there is none.\\\n",
    "Symbol: It is denoted by α (alpha).\\\n",
    "Example Scenario for Type I Error:\\\n",
    "Suppose a pharmaceutical company is testing a new drug for its effectiveness in treating a certain condition. They set up their hypothesis test as follows:\n",
    "Null Hypothesis (H0): The new drug has no effect (i.e., it's not better than a placebo).\\\n",
    "Alternative Hypothesis (Ha): The new drug is effective (i.e., it's better than a placebo).\\\n",
    "If, after conducting the test, they incorrectly conclude that the new drug is effective (reject H0) when, in reality, it's not (H0 is true), this would be a Type I error. It could lead to the drug being marketed and prescribed when it's actually ineffective.\n",
    "\n",
    "2. Type II Error (False Negative):\\\n",
    "Definition: Type II error occurs when you fail to reject a null hypothesis that is actually false. In other words, you conclude that there is no significant effect or difference when, in reality, there is one.\\\n",
    "Symbol: It is denoted by β (beta).\\\n",
    "Example Scenario for Type II Error:\\\n",
    "Suppose a quality control team is testing a production process to ensure that it meets certain specifications. They set up their hypothesis test as follows:\\\n",
    "Null Hypothesis (H0): The production process meets specifications.\\\n",
    "Alternative Hypothesis (Ha): The production process does not meet specifications.\\\n",
    "If, after conducting the test, they fail to detect that the production process is not meeting specifications (fail to reject H0) when, in reality, it's producing defective products (Ha is true), this would be a Type II error. Defective products could continue to be produced and shipped, leading to potential quality and safety issues.\n",
    "\n",
    "In summary:\n",
    "\n",
    "    Type I error is the incorrect rejection of a true null hypothesis, leading to a false positive result.\\\n",
    "    Type II error is the failure to reject a false null hypothesis, leading to a false negative result."
   ]
  },
  {
   "cell_type": "markdown",
   "id": "8c4bb2e0-9a6d-4332-b826-e2ecd7d00c36",
   "metadata": {},
   "source": [
    "## Q4: Explain Bayes's theorem with an example."
   ]
  },
  {
   "cell_type": "markdown",
   "id": "dd6234e0-6083-4537-9436-592d7629874f",
   "metadata": {},
   "source": [
    "## Ans:"
   ]
  },
  {
   "cell_type": "markdown",
   "id": "9b060feb-4ec1-4d90-99ab-80b859e8fa83",
   "metadata": {},
   "source": [
    "Bayes's theorem is a fundamental concept in probability theory and statistics used to update the probability of an event based on new information or evidence. The theorem is particularly useful in situations where you want to revise your beliefs or probabilities in light of new data. Bayesian statistics in an approach to data analysis and parameter estimation based on Bayes theorem."
   ]
  },
  {
   "cell_type": "markdown",
   "id": "41ea8655-366d-49b6-b0f8-8baa0e4e77a3",
   "metadata": {},
   "source": [
    "The formula for Bayes's theorem is as follows:\\\n",
    "$P(A|B)=\\frac{P(B|A)P(A)}{P(B)}$"
   ]
  },
  {
   "cell_type": "markdown",
   "id": "33a48b5f-6ff9-4cfe-b863-c46f9ff1fbb9",
   "metadata": {},
   "source": [
    "Where:\n",
    "\n",
    "1. P(A∣B): represents the probability of event A occurring given that event B has occurred.\n",
    "2. P(B∣A): is the probability of event B occurring given that event A has occurred.\n",
    "3. P(A): is the prior probability of event A.\n",
    "4. P(B): is the marginal probability of event B, which serves as a normalization constant."
   ]
  },
  {
   "cell_type": "markdown",
   "id": "93910fdc-4467-4092-8f21-2d560532f487",
   "metadata": {},
   "source": [
    "Example:\n",
    "\n",
    "Let's illustrate Bayes's theorem with a medical diagnosis scenario:\n",
    "\n",
    "Suppose a doctor and want to determine the probability that a patient has a certain rare disease (D) based on the results of a diagnostic test (T). He knows the following probabilities:\n",
    "\n",
    "The probability that a patient has the disease, P(D), is 0.01 (1% of the population has the disease). The probability that the diagnostic test correctly identifies the disease if the patient has it, P(T∣D), is 0.95 (a 95% true positive rate). The probability that the diagnostic test incorrectly indicates the presence of the disease when the patient doesn't have it, P(T∣¬D), is 0.10 (a 10% false positive rate).\n",
    "\n",
    "Now, you want to find the probability that a patient truly has the disease given a positive test result, P(D∣T)."
   ]
  },
  {
   "cell_type": "markdown",
   "id": "5e73de78-de1e-431d-a6e5-353f17c0a17c",
   "metadata": {},
   "source": [
    "Now, you want to find the probability that a patient truly has the disease given a positive test result, P(D∣T).\n",
    "\n",
    "Using Bayes's theorem:"
   ]
  },
  {
   "cell_type": "markdown",
   "id": "402e9b42-a3b6-4803-bd48-dba6f9fac9a2",
   "metadata": {},
   "source": [
    "$P(D|T) = \\frac{P(T|D)P(D)}{P(T)}$"
   ]
  },
  {
   "cell_type": "markdown",
   "id": "b7d626f0-bda3-4241-a35b-affff00bc1d4",
   "metadata": {},
   "source": [
    "To calculate P(T), we can use the law of total probability:\n",
    "\n",
    "P(T)=P(T∣D)⋅P(D)+P(T∣¬D)⋅P(¬D)\n",
    "\n",
    "Where:\n",
    "\n",
    "    P(¬D) is the probability that a patient does not have the disease, which is equal to 1−P(D).\n",
    "\n",
    "Now, plug in the values:\n",
    "\n",
    "P(T)=(0.95⋅0.01)+(0.10⋅0.99)=0.049+0.099=0.148\n",
    "\n",
    "Now, we can calculate P(D∣T):\n",
    "\n",
    "P(D∣T)=(0.95⋅0.010)/(.148)≈0.064"
   ]
  },
  {
   "cell_type": "markdown",
   "id": "ec4a418d-32b5-4adc-85e9-d677a61022b2",
   "metadata": {},
   "source": [
    "## Q5: What is a confidence interval? How to calculate the confidence interval, explain with an example."
   ]
  },
  {
   "cell_type": "markdown",
   "id": "2952d774-636c-42fc-b380-fd0b38c0b17b",
   "metadata": {},
   "source": [
    "## Ans:"
   ]
  },
  {
   "cell_type": "markdown",
   "id": "5e695439-1c7c-47b1-87c3-1f2563a0ba30",
   "metadata": {},
   "source": [
    "A confidence interval is a statistical range or interval constructed around a sample statistic, such as a sample mean or proportion, that is used to estimate the range within which the true population parameter is likely to fall with a certain level of confidence. It provides a measure of the precision or uncertainty associated with the sample statistic.\n",
    "\n",
    "The key components of a confidence interval are:\n",
    "\n",
    "    Sample Statistic: The value computed from the sample data, such as the sample mean or proportion.\n",
    "    Margin of Error: A range added to and subtracted from the sample statistic to create the interval. It represents the precision of the estimate.\n",
    "    Confidence Level: The level of confidence you have that the true population parameter lies within the interval. Common confidence levels are 90%, 95%, and 99%, but other levels can be used.\n",
    "\n",
    "The formula for calculating a confidence interval for a population mean (when the population standard deviation is known) is:"
   ]
  },
  {
   "cell_type": "markdown",
   "id": "af9b8755-88f1-4ee1-9da6-7a4639a367c7",
   "metadata": {},
   "source": [
    "Confidence Interval=Sample Mean±($\\frac{Zσ}{\\sqrt(n)}$)"
   ]
  },
  {
   "cell_type": "markdown",
   "id": "a088d7fd-34be-4d2f-92f8-e7bfedd451b6",
   "metadata": {},
   "source": [
    "Where:\n",
    "\n",
    "    Sample Mean: The mean of the sample data.\n",
    "    Z: The critical value from the standard normal distribution corresponding to the desired confidence level. For example, for a 95% confidence interval, Z ≈ 1.96.\n",
    "    σ: The population standard deviation.\n",
    "    n: The sample size.\n",
    "\n",
    "Now, let's illustrate how to calculate a confidence interval with an example:\n",
    "\n",
    "Example:\n",
    "Suppose we want to estimate the average height of adult males in a certain city. We collect a random sample of 100 adult males and find that the sample mean height is 175 cm, and we know from previous research that the population standard deviation is 8 cm. We want to calculate a 95% confidence interval for the population mean height.\n",
    "\n",
    "    Find the critical value (Z) for a 95% confidence level. For a 95% confidence level, Z ≈ 1.96 \n",
    "    Plug the values into the formula:\n",
    "    Confidence Interval=175±(1.96⋅8/10)\n",
    "\n",
    "Calculate the margin of error:\n",
    "Margin of Error=1.96⋅8100≈1.568\n",
    "\n",
    "    Calculate the confidence interval:\n",
    "    Confidence Interval=175±1.568=(173.432,176.568)\n",
    "\n",
    "So, with 95% confidence, we can say that the true average height of adult males in the city is likely to fall within the interval of 173.432 cm to 176.568 cm based on our sample data and the known population standard deviation."
   ]
  },
  {
   "cell_type": "markdown",
   "id": "b4958605-a7d5-44d6-8488-5aceb177d15c",
   "metadata": {},
   "source": [
    "## Q7. Calculate the 95% confidence interval for a sample of data with a mean of 50 and a standard deviation of 5. Interpret the results."
   ]
  },
  {
   "cell_type": "markdown",
   "id": "6ba8ab16-7f95-47fd-b96e-88f8a5ffc615",
   "metadata": {},
   "source": [
    "## Ans:"
   ]
  },
  {
   "cell_type": "markdown",
   "id": "27399070-006f-4b06-adbe-cdde8a34f92d",
   "metadata": {},
   "source": [
    "![](7.jpg)"
   ]
  },
  {
   "cell_type": "markdown",
   "id": "8c638bed-20c9-4d20-8a84-73443bf9400e",
   "metadata": {},
   "source": [
    "## Q8. What is the margin of error in a confidence interval? How does sample size affect the margin of error? Provide an example of a scenario where a larger sample size would result in a smaller margin of error."
   ]
  },
  {
   "cell_type": "markdown",
   "id": "0367ad39-38c2-47dd-97a1-3af85facb0bc",
   "metadata": {},
   "source": [
    "## Ans:"
   ]
  },
  {
   "cell_type": "markdown",
   "id": "4c3bdeae-39dc-4137-8264-b009391e566f",
   "metadata": {},
   "source": [
    "The margin of error (MOE) in a confidence interval is a measure of the range or uncertainty associated with the estimate of a population parameter, such as the population mean or proportion, based on a sample. It quantifies how much the sample statistic (e.g., sample mean or sample proportion) is expected to vary from the true population parameter if we were to take multiple random samples from the same population.\n",
    "\n",
    "The key points about the margin of error are as follows:\n",
    "\n",
    "    Inverse Relationship with Confidence Level: The margin of error is inversely related to the confidence level. In other words, as we increase the confidence level (e.g., from 90% to 95% to 99%), the margin of error will also increase because we are widening the interval to be more confident about capturing the true parameter.\n",
    "\n",
    "    Direct Relationship with Sample Size: The margin of error is directly related to the sample size. As the sample size increases, the margin of error decreases. Larger sample sizes provide more information about the population, leading to more precise estimates.\n",
    "\n",
    "Example Scenario:\n",
    "\n",
    "Let's consider an example involving a political poll to understand how sample size affects the margin of error:\n",
    "\n",
    "Suppose you want to estimate the proportion of voters in a city who support Candidate A in an upcoming election. You decide to conduct a survey, and we have two options for the sample size:\n",
    "\n",
    "Option 1: Survey 200 randomly selected voters.\n",
    "Option 2: Survey 1,000 randomly selected voters.\n",
    "\n",
    "We want to calculate 95% confidence intervals for both options.\n",
    "\n",
    "    Option 1 (Sample size = 200):\n",
    "        The margin of error will be relatively larger because the sample size is smaller.\n",
    "        The confidence interval may be, for example, 45% to 55%, with a margin of error around ±5%.\n",
    "\n",
    "    Option 2 (Sample size = 1,000):\n",
    "        The margin of error will be relatively smaller because the sample size is larger.\n",
    "        The confidence interval may be, for example, 48% to 52%, with a smaller margin of error around ±2%."
   ]
  },
  {
   "cell_type": "markdown",
   "id": "45b92894-6eed-47e2-9528-b9fbca59f693",
   "metadata": {},
   "source": [
    "## Q9. Calculate the z-score for a data point with a value of 75, a population mean of 70, and a population standard deviation of 5. Interpret the results."
   ]
  },
  {
   "cell_type": "markdown",
   "id": "1ba272fa-5ab0-4bd8-bd2c-5d5fdade560d",
   "metadata": {},
   "source": [
    "## Ans:"
   ]
  },
  {
   "cell_type": "markdown",
   "id": "61de0d89-8b87-418c-b2cc-0926c07730aa",
   "metadata": {},
   "source": [
    "Z-score = $\\frac{x-\\mu}{\\sigma} = \\frac{75-70}{5}$=1"
   ]
  },
  {
   "cell_type": "markdown",
   "id": "3859c12f-256d-4391-a345-2bbc637ce7fa",
   "metadata": {},
   "source": [
    "## Q10. In a study of the effectiveness of a new weight loss drug, a sample of 50 participants lost an average of 6 pounds with a standard deviation of 2.5 pounds. Conduct a hypothesis test to determine if the drug is significantly effective at a 95% confidence level using a t-test."
   ]
  },
  {
   "cell_type": "markdown",
   "id": "565e282f-be41-418a-80d8-862a7db75a5e",
   "metadata": {},
   "source": [
    "## Ans:"
   ]
  },
  {
   "cell_type": "markdown",
   "id": "20379b75-aa26-4e75-a86e-49b446c60911",
   "metadata": {},
   "source": [
    "![](10.jpg)"
   ]
  },
  {
   "cell_type": "markdown",
   "id": "330afae3-0c46-458c-8006-b376c455242b",
   "metadata": {},
   "source": [
    "## Q11. In a survey of 500 people, 65% reported being satisfied with their current job. Calculate the 95% confidence interval for the true proportion of people who are satisfied with their job."
   ]
  },
  {
   "cell_type": "markdown",
   "id": "c9a974c2-04a3-4ee6-a992-d51d719f88c7",
   "metadata": {},
   "source": [
    "## Ans:"
   ]
  },
  {
   "cell_type": "markdown",
   "id": "1edfeb4b-a43c-46d0-8167-76ee6572154d",
   "metadata": {},
   "source": [
    "![](11.jpg)"
   ]
  },
  {
   "cell_type": "markdown",
   "id": "a92a35de-1511-43f0-95ab-84abf8a26b40",
   "metadata": {},
   "source": [
    "## Q12. A researcher is testing the effectiveness of two different teaching methods on student performance. Sample A has a mean score of 85 with a standard deviation of 6, while sample B has a mean score of 82 with a standard deviation of 5. Conduct a hypothesis test to determine if the two teaching methods have a significant difference in student performance using a t-test with a significance level of 0.01."
   ]
  },
  {
   "cell_type": "markdown",
   "id": "c947c361-1c1d-4422-92e4-205f9b60d253",
   "metadata": {},
   "source": [
    "## Ans:"
   ]
  },
  {
   "cell_type": "markdown",
   "id": "a5019b70-4366-4fae-98bb-48049eb05ef8",
   "metadata": {},
   "source": [
    "![](12a.jpg)"
   ]
  },
  {
   "cell_type": "markdown",
   "id": "774f3283-ad3e-41e7-b658-d33345461c51",
   "metadata": {},
   "source": [
    "![](12b.jpg)"
   ]
  },
  {
   "cell_type": "markdown",
   "id": "4609fcfd-e973-48d0-bcf3-f7010235e3ba",
   "metadata": {},
   "source": [
    "## Q13. A population has a mean of 60 and a standard deviation of 8. A sample of 50 observations has a mean of 65. Calculate the 90% confidence interval for the true population mean."
   ]
  },
  {
   "cell_type": "markdown",
   "id": "7470eb03-bb7d-4834-a884-16e78e65a696",
   "metadata": {},
   "source": [
    "## Ans:"
   ]
  },
  {
   "cell_type": "markdown",
   "id": "d38386d7-0b11-4f3f-992c-e379a45ecc1b",
   "metadata": {},
   "source": [
    "![](13.jpg)"
   ]
  },
  {
   "cell_type": "markdown",
   "id": "b7b3571a-86ce-42db-9d94-d381fc805a70",
   "metadata": {},
   "source": [
    "## Q14. In a study of the effects of caffeine on reaction time, a sample of 30 participants had an average reaction time of 0.25 seconds with a standard deviation of 0.05 seconds. Conduct a hypothesis test to determine if the caffeine has a significant effect on reaction time at a 90% confidence level using a t-test."
   ]
  },
  {
   "cell_type": "markdown",
   "id": "f1ac2b0f-12ae-4234-aa1d-b1dd886fdcd8",
   "metadata": {},
   "source": [
    "## Ans:"
   ]
  },
  {
   "cell_type": "code",
   "execution_count": null,
   "id": "e55a9c03-71e2-4ec2-bddc-80c0877ecfe9",
   "metadata": {},
   "outputs": [],
   "source": [
    "![]()"
   ]
  }
 ],
 "metadata": {
  "kernelspec": {
   "display_name": "Python 3 (ipykernel)",
   "language": "python",
   "name": "python3"
  },
  "language_info": {
   "codemirror_mode": {
    "name": "ipython",
    "version": 3
   },
   "file_extension": ".py",
   "mimetype": "text/x-python",
   "name": "python",
   "nbconvert_exporter": "python",
   "pygments_lexer": "ipython3",
   "version": "3.10.8"
  }
 },
 "nbformat": 4,
 "nbformat_minor": 5
}

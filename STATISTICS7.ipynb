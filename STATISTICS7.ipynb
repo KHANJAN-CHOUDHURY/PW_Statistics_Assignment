{
 "cells": [
  {
   "cell_type": "markdown",
   "id": "56607738-cc52-43e3-b38f-736a4880396d",
   "metadata": {},
   "source": [
    "## Q1. Calculate the 95% confidence interval for a sample of data with a mean of 50 and a standard deviation of 5 using Python. Interpret the results."
   ]
  },
  {
   "cell_type": "markdown",
   "id": "c6d52c9f-f224-4295-be90-2eed1a0c8000",
   "metadata": {},
   "source": [
    "## Ans:"
   ]
  },
  {
   "cell_type": "code",
   "execution_count": 1,
   "id": "b0419ca9-6f6b-46bf-8f51-36dfadbf5c60",
   "metadata": {},
   "outputs": [
    {
     "name": "stdout",
     "output_type": "stream",
     "text": [
      "95% Confidence Interval: (49.02001800772997, 50.97998199227003)\n"
     ]
    }
   ],
   "source": [
    "import scipy.stats as stats\n",
    "\n",
    "# Sample statistics\n",
    "mean = 50\n",
    "std_dev = 5\n",
    "sample_size = 100  # You should specify the actual sample size\n",
    "\n",
    "# Confidence level (95%)\n",
    "confidence_level = 0.95\n",
    "\n",
    "# Calculate crtitical t-value\n",
    "CV_t = stats.norm.ppf((1 + confidence_level) / 2) \n",
    "# (1 + confidence_level) / 2 = 0.975\n",
    "# Since C.I. = 0.95. So in two tailed test each tails contains 0.025. So we need critical t-value at 0.975\n",
    "# Calculate the margin of error\n",
    "margin_of_error = CV_t * (std_dev / (sample_size**0.5))\n",
    "\n",
    "# Calculate the confidence interval\n",
    "confidence_interval = (mean - margin_of_error, mean + margin_of_error)\n",
    "\n",
    "print(\"95% Confidence Interval:\", confidence_interval)\n"
   ]
  },
  {
   "cell_type": "markdown",
   "id": "efbfa6e7-7279-4c5d-9fca-f67173dde2dc",
   "metadata": {},
   "source": [
    "scipy.stats.norm.ppf(q) is a function from the SciPy library used to find the percent-point function (PPF) of the normal (Gaussian) distribution. It essentially calculates the inverse of the cumulative distribution function (CDF) of the normal distribution. In other words, it finds the value x for which P(X <= x) = q, where X is a random variable following a standard normal distribution (mean = 0, standard deviation = 1).\n",
    "\n",
    "Here's how scipy.stats.norm.ppf(q) works:\n",
    "\n",
    "    q: This is the probability value (quantile) for which you want to find the corresponding value in the standard normal distribution. It should be a value between 0 and 1.\n",
    "\n",
    "The function returns the value x such that the probability of observing a value less than or equal to x in a standard normal distribution is equal to q.\n",
    "\n",
    "For example:\n",
    "\n",
    "    scipy.stats.norm.ppf(0.5) would return 0 because it's asking for the value x such that there's a 50% chance of observing a value less than or equal to x in a standard normal distribution, and that value is 0 (since the mean of the standard normal distribution is 0).\n",
    "\n",
    "    scipy.stats.norm.ppf(0.975) would return approximately 1.96 because it's asking for the value x such that there's a 97.5% chance of observing a value less than or equal to x in a standard normal distribution, and 1.96 is the critical value for a 95% confidence interval (with 2.5% in each tail).\n",
    "\n",
    "In the context of hypothesis testing and confidence intervals, the ppf function is often used to find critical values that define regions of interest in the distribution, such as the critical values for a confidence interval or the cutoff values for a hypothesis test."
   ]
  },
  {
   "cell_type": "markdown",
   "id": "d3726d57-9441-4228-a8f9-45060441d289",
   "metadata": {},
   "source": [
    "Interpretation of the results:\n",
    "\n",
    "    The 95% confidence interval for the sample data with a mean of 50 and a standard deviation of 5 is given by (47.89, 52.11) assuming a sample size of 100.\n",
    "    This means that we are 95% confident that the true population mean falls within this interval.\n",
    "    In practical terms, if you were to take many random samples of the same size and calculate a confidence interval for each, you would expect that about 95% of these intervals would contain the true population mean.\n",
    "\n",
    "Keep in mind that the confidence interval's width is influenced by the sample size. A larger sample size will result in a narrower confidence interval, making your estimate of the population mean more precise."
   ]
  },
  {
   "cell_type": "markdown",
   "id": "f47821e6-36f0-4442-a176-52c2ac1694e0",
   "metadata": {},
   "source": [
    "## Q2. Conduct a chi-square goodness of fit test to determine if the distribution of colors of M&Ms in a bag matches the expected distribution of 20% blue, 20% orange, 20% green, 10% yellow, 10% red, and 20% brown. Use Python to perform the test with a significance level of 0.05."
   ]
  },
  {
   "cell_type": "markdown",
   "id": "b4e0de80-5b59-49f7-8129-9bd4e9386481",
   "metadata": {},
   "source": [
    "## Ans:"
   ]
  },
  {
   "cell_type": "code",
   "execution_count": 2,
   "id": "25e98d5b-e22b-415e-a95e-26d8e1fc9b11",
   "metadata": {},
   "outputs": [
    {
     "name": "stdout",
     "output_type": "stream",
     "text": [
      "Fail to reject the null hypothesis: The distribution of M&M colors matches the expected distribution.\n",
      "Chi-square statistic: 2.5\n",
      "p-value: 0.7764950711233227\n"
     ]
    }
   ],
   "source": [
    "import numpy as np\n",
    "from scipy.stats import chisquare\n",
    "\n",
    "# Observed frequencies of colors in the M&M bag\n",
    "observed_frequencies = np.array([50, 45, 55, 30, 25, 45])  # You should replace these with your actual data\n",
    "\n",
    "# Expected frequencies based on the expected distribution\n",
    "expected_frequencies = np.array([0.2, 0.2, 0.2, 0.1, 0.1, 0.2]) * np.sum(observed_frequencies)\n",
    "\n",
    "# Perform the chi-square goodness of fit test\n",
    "chi2_statistic, p_value = chisquare(f_obs=observed_frequencies, f_exp=expected_frequencies)\n",
    "\n",
    "# Set the significance level\n",
    "alpha = 0.05\n",
    "\n",
    "# Check if the p-value is less than the significance level\n",
    "if p_value < alpha:\n",
    "    print(\"Reject the null hypothesis: The distribution of M&M colors does not match the expected distribution.\")\n",
    "else:\n",
    "    print(\"Fail to reject the null hypothesis: The distribution of M&M colors matches the expected distribution.\")\n",
    "\n",
    "print(\"Chi-square statistic:\", chi2_statistic)\n",
    "print(\"p-value:\", p_value)"
   ]
  },
  {
   "cell_type": "markdown",
   "id": "c904c1e2-1574-41f1-ad4e-49d7516ef921",
   "metadata": {},
   "source": [
    "## Q3. Use Python to calculate the chi-square statistic and p-value for a contingency table with the following data:"
   ]
  },
  {
   "cell_type": "code",
   "execution_count": 3,
   "id": "1796228c-c1da-41f9-923b-4c58da13f35d",
   "metadata": {},
   "outputs": [],
   "source": [
    "import pandas as pd"
   ]
  },
  {
   "cell_type": "code",
   "execution_count": 4,
   "id": "27b43dc1-054f-4ae1-b917-f963f5b45aae",
   "metadata": {},
   "outputs": [
    {
     "data": {
      "text/html": [
       "<div>\n",
       "<style scoped>\n",
       "    .dataframe tbody tr th:only-of-type {\n",
       "        vertical-align: middle;\n",
       "    }\n",
       "\n",
       "    .dataframe tbody tr th {\n",
       "        vertical-align: top;\n",
       "    }\n",
       "\n",
       "    .dataframe thead th {\n",
       "        text-align: right;\n",
       "    }\n",
       "</style>\n",
       "<table border=\"1\" class=\"dataframe\">\n",
       "  <thead>\n",
       "    <tr style=\"text-align: right;\">\n",
       "      <th></th>\n",
       "      <th>0</th>\n",
       "      <th>1</th>\n",
       "      <th>2</th>\n",
       "    </tr>\n",
       "  </thead>\n",
       "  <tbody>\n",
       "    <tr>\n",
       "      <th>0</th>\n",
       "      <td>Outcomes</td>\n",
       "      <td>Group A</td>\n",
       "      <td>Group B</td>\n",
       "    </tr>\n",
       "    <tr>\n",
       "      <th>1</th>\n",
       "      <td>Outcome 1</td>\n",
       "      <td>20</td>\n",
       "      <td>15</td>\n",
       "    </tr>\n",
       "    <tr>\n",
       "      <th>2</th>\n",
       "      <td>Outcome 2</td>\n",
       "      <td>10</td>\n",
       "      <td>25</td>\n",
       "    </tr>\n",
       "    <tr>\n",
       "      <th>3</th>\n",
       "      <td>Outcome 2</td>\n",
       "      <td>15</td>\n",
       "      <td>20</td>\n",
       "    </tr>\n",
       "  </tbody>\n",
       "</table>\n",
       "</div>"
      ],
      "text/plain": [
       "           0        1        2\n",
       "0   Outcomes  Group A  Group B\n",
       "1  Outcome 1       20       15\n",
       "2  Outcome 2       10       25\n",
       "3  Outcome 2       15       20"
      ]
     },
     "execution_count": 4,
     "metadata": {},
     "output_type": "execute_result"
    }
   ],
   "source": [
    "list1 = [['Outcomes','Group A', 'Group B'],\n",
    "      ['Outcome 1', 20, 15],\n",
    "      ['Outcome 2', 10, 25],\n",
    "      ['Outcome 2', 15, 20]]\n",
    "df = pd.DataFrame(list1)\n",
    "df"
   ]
  },
  {
   "cell_type": "markdown",
   "id": "090a61e5-e28c-4592-9570-5a3212fc4bd2",
   "metadata": {},
   "source": [
    "## Interpret the results of the test."
   ]
  },
  {
   "cell_type": "markdown",
   "id": "8f63f7b9-a59b-4991-9434-39869b1ddba9",
   "metadata": {},
   "source": [
    "## Ans:"
   ]
  },
  {
   "cell_type": "code",
   "execution_count": 5,
   "id": "153fd363-b5a4-4f8a-9588-1767e2785579",
   "metadata": {},
   "outputs": [
    {
     "name": "stdout",
     "output_type": "stream",
     "text": [
      "Fail to reject the null hypothesis: There is no significant association between the outcomes and the groups.\n",
      "Chi-square statistic: 5.833333333333334\n",
      "p-value: 0.05411376622282158\n",
      "Degrees of freedom: 2\n",
      "Expected frequencies:\n",
      " [[15. 20.]\n",
      " [15. 20.]\n",
      " [15. 20.]]\n"
     ]
    }
   ],
   "source": [
    "import numpy as np\n",
    "from scipy.stats import chi2_contingency\n",
    "# chi2_contingency is used when observed and expected data are matrix formate\n",
    "\n",
    "# Define the contingency table\n",
    "data = np.array([\n",
    "    [20, 15],\n",
    "    [10, 25],\n",
    "    [15, 20]\n",
    "])\n",
    "\n",
    "# Perform the chi-square test of independence\n",
    "chi2_statistic, p_value, dof, expected = chi2_contingency(data)\n",
    "\n",
    "# Set the significance level\n",
    "alpha = 0.05\n",
    "\n",
    "# Check if the p-value is less than the significance level\n",
    "if p_value < alpha:\n",
    "    print(\"Reject the null hypothesis: There is a significant association between the outcomes and the groups.\")\n",
    "else:\n",
    "    print(\"Fail to reject the null hypothesis: There is no significant association between the outcomes and the groups.\")\n",
    "\n",
    "print(\"Chi-square statistic:\", chi2_statistic)\n",
    "print(\"p-value:\", p_value)\n",
    "print(\"Degrees of freedom:\", dof)\n",
    "print(\"Expected frequencies:\\n\", expected)"
   ]
  },
  {
   "cell_type": "markdown",
   "id": "c60282da-7ecb-4ef7-b159-4176394ba651",
   "metadata": {},
   "source": [
    "In this code:\n",
    "\n",
    "    data represents the contingency table where each row corresponds to an outcome, and each column corresponds to a group.\n",
    "    The chi2_contingency function is used to perform the chi-square test of independence.\n",
    "    The null hypothesis is that there is no association between outcomes and groups.\n",
    "    The code then checks if the p-value is less than the chosen significance level (0.05) and prints whether you should reject or fail to reject the null hypothesis.\n",
    "\n",
    "Additionally, it provides the chi-square statistic, degrees of freedom, and the expected frequencies for each cell in the contingency table.\n",
    "\n",
    "Interpretation of the results:\n",
    "\n",
    "    If the p-value is less than our chosen significance level (0.05 in this case), you would reject the null hypothesis.\n",
    "    If the p-value is greater than or equal to our significance level, you would fail to reject the null hypothesis.\n",
    "    In this specific example, the interpretation would depend on the actual context of our data and research question. If we reject the null hypothesis, it suggests that there is a significant association between the outcomes and the groups. If we fail to reject the null hypothesis, it suggests that there is no significant association. The expected frequencies can also be useful for understanding which cells contribute the most to any significant associations found."
   ]
  },
  {
   "cell_type": "markdown",
   "id": "f20bb183-e71d-4abf-b55f-c1bd6828dbd4",
   "metadata": {},
   "source": [
    "## Q4. A study of the prevalence of smoking in a population of 500 individuals found that 60 individuals smoked. Use Python to calculate the 95% confidence interval for the true proportion of individuals in the population who smoke."
   ]
  },
  {
   "cell_type": "markdown",
   "id": "90203bfe-808d-4319-ae37-7f6eef712e6f",
   "metadata": {},
   "source": [
    "## Ans:"
   ]
  },
  {
   "cell_type": "code",
   "execution_count": 16,
   "id": "2e354b32-d96d-4648-baae-44b12950eb0d",
   "metadata": {},
   "outputs": [
    {
     "name": "stdout",
     "output_type": "stream",
     "text": [
      "Confidence Interval value: (45.758194435653536, 74.24180556434645)\n",
      "Confidence Interval Percentage: (9.151638887130707, 14.848361112869291)\n",
      "Sample Proportion percentage: 12.0\n"
     ]
    }
   ],
   "source": [
    "import math\n",
    "total_number = 500\n",
    "smoker = 60\n",
    "sample_proportion = smoker/total_number\n",
    "significance = 0.95\n",
    "Zcv = stats.norm.ppf((1+significance)/2)\n",
    "Confidence_interval = (sample_proportion-Zcv*math.sqrt((sample_proportion*(1-sample_proportion))/total_number),sample_proportion+Zcv*math.sqrt((sample_proportion*(1-sample_proportion))/total_number))\n",
    "Confidence_interval1 = (Confidence_interval[0]*100,Confidence_interval[1]*100)\n",
    "Confidence_interval2 = (Confidence_interval[0]*500,Confidence_interval[1]*500)\n",
    "print('Confidence Interval value:',Confidence_interval2)\n",
    "print('Confidence Interval Percentage:',Confidence_interval1)\n",
    "print('Sample Proportion percentage:',sample_proportion*100)"
   ]
  },
  {
   "cell_type": "markdown",
   "id": "2cf81bd0-8f68-4bea-a0ca-e13f4f6372bb",
   "metadata": {},
   "source": [
    "## Q5. Calculate the 90% confidence interval for a sample of data with a mean of 75 and a standard deviation of 12 using Python. Interpret the results."
   ]
  },
  {
   "cell_type": "markdown",
   "id": "9baf622f-4db0-454e-8327-84c81af07f13",
   "metadata": {},
   "source": [
    "## Ans:"
   ]
  },
  {
   "cell_type": "code",
   "execution_count": 1,
   "id": "459645a1-5166-4066-a933-205e6b824b33",
   "metadata": {},
   "outputs": [
    {
     "name": "stdout",
     "output_type": "stream",
     "text": [
      "95% Confidence Interval: (73.02617564765823, 76.97382435234177)\n"
     ]
    }
   ],
   "source": [
    "import scipy.stats as stats\n",
    "\n",
    "# Sample statistics\n",
    "mean = 75\n",
    "std_dev = 12\n",
    "sample_size = 100  # You should specify the actual sample size\n",
    "\n",
    "# Confidence level (95%)\n",
    "confidence_level = 0.90\n",
    "\n",
    "# Calculate crtitical t-value\n",
    "CV_t = stats.norm.ppf((1 + confidence_level) / 2) \n",
    "# (1 + confidence_level) / 2 = 0.95\n",
    "# Since C.I. = 0.90. So in two tailed test each tails contains 0.05. So we need critical t-value at 0.95\n",
    "# Calculate the margin of error\n",
    "MOE = (CV_t*std_dev)/(sample_size**0.5)\n",
    "# Calculate the confidence interval\n",
    "confidence_interval = (mean - MOE, mean + MOE)\n",
    "\n",
    "print(\"95% Confidence Interval:\", confidence_interval)"
   ]
  },
  {
   "cell_type": "markdown",
   "id": "af54331d-c677-4f26-9fe5-a28200fcb488",
   "metadata": {},
   "source": [
    "Interpretation of the results:\n",
    "\n",
    "    The 90% confidence interval for the sample data with a mean of 75 and a standard deviation of 12 is given by two values: a lower bound and an upper bound.\n",
    "    This means that we are 90% confident that the true population mean falls within this interval.\n",
    "    In practical terms, if we were to take many random samples of the same size and calculate a confidence interval for each, we would expect that about 90% of these intervals would contain the true population mean."
   ]
  },
  {
   "cell_type": "markdown",
   "id": "49f2ba9d-ae45-4739-9810-b88f7023d478",
   "metadata": {},
   "source": [
    "## Q6. Use Python to plot the chi-square distribution with 10 degrees of freedom. Label the axes and shade the area corresponding to a chi-square statistic of 15."
   ]
  },
  {
   "cell_type": "markdown",
   "id": "ba7a45a6-de15-44c0-942b-8f40d8f8ae04",
   "metadata": {},
   "source": [
    "## Ans:"
   ]
  },
  {
   "cell_type": "code",
   "execution_count": 3,
   "id": "243e5628-ced3-49e0-ab9b-7bef2563ea03",
   "metadata": {},
   "outputs": [
    {
     "data": {
      "image/png": "[encoded data removed]",
      "text/plain": [
       "<Figure size 800x600 with 1 Axes>"
      ]
     },
     "metadata": {},
     "output_type": "display_data"
    }
   ],
   "source": [
    "import numpy as np\n",
    "import matplotlib.pyplot as plt\n",
    "import scipy.stats as stats\n",
    "\n",
    "# Define the degrees of freedom\n",
    "df = 10\n",
    "\n",
    "# Generate values for the chi-square distribution\n",
    "x = np.linspace(0, 30, 1000)  # Adjust the range and number of points as needed\n",
    "\n",
    "# Calculate the chi-square probability density function (PDF) for the given degrees of freedom\n",
    "pdf = stats.chi2.pdf(x, df)\n",
    "\n",
    "# Create the plot\n",
    "plt.figure(figsize=(8, 6))\n",
    "plt.plot(x, pdf, label=f'Chi-square PDF (df={df})', color='blue')\n",
    "\n",
    "# Shade the area corresponding to a chi-square statistic of 15\n",
    "x_shaded = np.linspace(0, 15, 1000)\n",
    "pdf_shaded = stats.chi2.pdf(x_shaded, df)\n",
    "plt.fill_between(x_shaded, pdf_shaded, color='orange', alpha=0.5, label='Chi-square < 15')\n",
    "\n",
    "# Label the axes and add a legend\n",
    "plt.xlabel('Chi-square Statistic')\n",
    "plt.ylabel('Probability Density')\n",
    "plt.title(f'Chi-square Distribution (df={df})')\n",
    "plt.legend()\n",
    "\n",
    "# Show the plot\n",
    "plt.grid(True)\n",
    "plt.show()"
   ]
  },
  {
   "cell_type": "markdown",
   "id": "dd3243c1-f041-42b9-b607-23629b3f12e1",
   "metadata": {},
   "source": [
    "## Q7. A random sample of 1000 people was asked if they preferred Coke or Pepsi. Of the sample, 520 preferred Coke. Calculate a 99% confidence interval for the true proportion of people in the population who prefer Coke."
   ]
  },
  {
   "cell_type": "markdown",
   "id": "86636012-4b83-4129-a235-323f884adeb1",
   "metadata": {},
   "source": [
    "## Ans:"
   ]
  },
  {
   "cell_type": "code",
   "execution_count": 2,
   "id": "865d34f4-f557-43ea-a0fd-795f3e584c4f",
   "metadata": {},
   "outputs": [
    {
     "name": "stdout",
     "output_type": "stream",
     "text": [
      "99% Confidence Interval for Proportion Preferring Coke: (0.4793051576779699, 0.5606948423220302)\n"
     ]
    }
   ],
   "source": [
    "   import math\n",
    "\n",
    "# Sample size and proportion\n",
    "sample_size = 1000\n",
    "sample_proportion = 520 / sample_size\n",
    "\n",
    "# Confidence level (99%)\n",
    "confidence_level = 0.99\n",
    "\n",
    "# Z-value for the given confidence level\n",
    "z_value = stats.norm.ppf((1 + confidence_level) / 2)\n",
    "\n",
    "# Calculate the margin of error\n",
    "margin_of_error = z_value * math.sqrt((sample_proportion * (1 - sample_proportion)) / sample_size)\n",
    "\n",
    "# Calculate the confidence interval\n",
    "confidence_interval = (sample_proportion - margin_of_error, sample_proportion + margin_of_error)\n",
    "\n",
    "print(\"99% Confidence Interval for Proportion Preferring Coke:\", confidence_interval)"
   ]
  },
  {
   "cell_type": "markdown",
   "id": "d5e17219-3933-4ea1-81cf-03dcd50fa875",
   "metadata": {},
   "source": [
    "## Q8. A researcher hypothesizes that a coin is biased towards tails. They flip the coin 100 times and observe 45 tails. Conduct a chi-square goodness of fit test to determine if the observed frequencies match the expected frequencies of a fair coin. Use a significance level of 0.05."
   ]
  },
  {
   "cell_type": "markdown",
   "id": "09d5dde2-48ce-46b1-b2ab-b6a90535cd76",
   "metadata": {},
   "source": [
    "## Ans:"
   ]
  },
  {
   "cell_type": "code",
   "execution_count": 1,
   "id": "9de7caac-9fbb-4432-87e0-203ad1c80534",
   "metadata": {},
   "outputs": [
    {
     "name": "stdout",
     "output_type": "stream",
     "text": [
      "Fail to reject the null hypothesis: The coin is not biased towards tails.\n",
      "Chi-square statistic: 1.0\n",
      "p-value: 0.31731050786291115\n"
     ]
    }
   ],
   "source": [
    "import scipy.stats as stats\n",
    "\n",
    "# Observed and expected frequencies\n",
    "observed_frequencies = [45, 55]  # Tails, Heads\n",
    "expected_frequencies = [50, 50]  # Expected frequencies for a fair coin\n",
    "\n",
    "# Calculate the chi-square test statistic and p-value\n",
    "chi2_statistic, p_value = stats.chisquare(f_obs=observed_frequencies, f_exp=expected_frequencies)\n",
    "\n",
    "# Set the significance level\n",
    "alpha = 0.05\n",
    "\n",
    "# Check the p-value and make a decision\n",
    "if p_value < alpha:\n",
    "    print(\"Reject the null hypothesis: The coin is biased towards tails.\")\n",
    "else:\n",
    "    print(\"Fail to reject the null hypothesis: The coin is not biased towards tails.\")\n",
    "\n",
    "print(\"Chi-square statistic:\", chi2_statistic)\n",
    "print(\"p-value:\", p_value)"
   ]
  },
  {
   "cell_type": "markdown",
   "id": "2b16e5d1-d303-41f5-8909-6d9b70c9f4c2",
   "metadata": {},
   "source": [
    "## Q9. A study was conducted to determine if there is an association between smoking status (smoker or non-smoker) and lung cancer diagnosis (yes or no). The results are shown in the contingency table below. Conduct a chi-square test for independence to determine if there is a significant association between smoking status and lung cancer diagnosis. Use a significance level of 0.05."
   ]
  },
  {
   "cell_type": "code",
   "execution_count": 6,
   "id": "96f9e413-ba9d-41d0-be23-7a05d5419e37",
   "metadata": {},
   "outputs": [
    {
     "data": {
      "text/html": [
       "<div>\n",
       "<style scoped>\n",
       "    .dataframe tbody tr th:only-of-type {\n",
       "        vertical-align: middle;\n",
       "    }\n",
       "\n",
       "    .dataframe tbody tr th {\n",
       "        vertical-align: top;\n",
       "    }\n",
       "\n",
       "    .dataframe thead th {\n",
       "        text-align: right;\n",
       "    }\n",
       "</style>\n",
       "<table border=\"1\" class=\"dataframe\">\n",
       "  <thead>\n",
       "    <tr style=\"text-align: right;\">\n",
       "      <th></th>\n",
       "      <th>0</th>\n",
       "      <th>1</th>\n",
       "      <th>2</th>\n",
       "    </tr>\n",
       "  </thead>\n",
       "  <tbody>\n",
       "    <tr>\n",
       "      <th>0</th>\n",
       "      <td>Smoker/Non-Smoker</td>\n",
       "      <td>Lung cancer: yes</td>\n",
       "      <td>Lung cancer: no</td>\n",
       "    </tr>\n",
       "    <tr>\n",
       "      <th>1</th>\n",
       "      <td>Smoker</td>\n",
       "      <td>60</td>\n",
       "      <td>140</td>\n",
       "    </tr>\n",
       "    <tr>\n",
       "      <th>2</th>\n",
       "      <td>Non-smoker</td>\n",
       "      <td>30</td>\n",
       "      <td>170</td>\n",
       "    </tr>\n",
       "  </tbody>\n",
       "</table>\n",
       "</div>"
      ],
      "text/plain": [
       "                   0                 1                2\n",
       "0  Smoker/Non-Smoker  Lung cancer: yes  Lung cancer: no\n",
       "1             Smoker                60              140\n",
       "2         Non-smoker                30              170"
      ]
     },
     "execution_count": 6,
     "metadata": {},
     "output_type": "execute_result"
    }
   ],
   "source": [
    "import pandas as pd\n",
    "list1 = [['Smoker/Non-Smoker','Lung cancer: yes','Lung cancer: no'],\n",
    "      ['Smoker', 60, 140],\n",
    "      ['Non-smoker', 30, 170]]\n",
    "df = pd.DataFrame(list1)\n",
    "df"
   ]
  },
  {
   "cell_type": "markdown",
   "id": "36e9fce9-39bc-4656-bc54-df167b8bddf9",
   "metadata": {},
   "source": [
    "## Ans:"
   ]
  },
  {
   "cell_type": "code",
   "execution_count": 1,
   "id": "05d51a2e-a9c0-4b1c-aa79-4bc1d43b7503",
   "metadata": {},
   "outputs": [
    {
     "name": "stdout",
     "output_type": "stream",
     "text": [
      "Reject the null hypothesis: There is a significant association between smoking status and Lung cancer.\n",
      "Chi-square statistic: 12.057347670250895\n",
      "p-value: 0.0005158863863703744\n",
      "Degrees of freedom: 1\n",
      "Expected frequencies:\n",
      " [[ 45. 155.]\n",
      " [ 45. 155.]]\n"
     ]
    }
   ],
   "source": [
    "import numpy as np\n",
    "from scipy.stats import chi2_contingency\n",
    "# chi2_contingency is used when observed and expected data are matrix formate\n",
    "\n",
    "# Define the contingency table\n",
    "data = np.array([\n",
    "    [60, 140],\n",
    "    [30, 170],\n",
    "])\n",
    "\n",
    "# Perform the chi-square test of independence\n",
    "chi2_statistic, p_value, dof, expected = chi2_contingency(data)\n",
    "\n",
    "# Set the significance level\n",
    "alpha = 0.05\n",
    "\n",
    "# Check if the p-value is less than the significance level\n",
    "if p_value < alpha:\n",
    "    print(\"Reject the null hypothesis: There is a significant association between smoking status and Lung cancer.\")\n",
    "else:\n",
    "    print(\"Fail to reject the null hypothesis: There is no significant association between smoking status and Lung cancer.\")\n",
    "\n",
    "print(\"Chi-square statistic:\", chi2_statistic)\n",
    "print(\"p-value:\", p_value)\n",
    "print(\"Degrees of freedom:\", dof)\n",
    "print(\"Expected frequencies:\\n\", expected)"
   ]
  },
  {
   "cell_type": "markdown",
   "id": "5007b7f3-6524-48c9-a840-7fabfdfe68e2",
   "metadata": {},
   "source": [
    "## Q10. A study was conducted to determine if the proportion of people who prefer milk chocolate, dark chocolate, or white chocolate is different in the U.S. versus the U.K. A random sample of 500 people from the U.S. and a random sample of 500 people from the U.K. were surveyed. The results are shown in the contingency table below. Conduct a chi-square test for independence to determine if there is a significant association between chocolate preference and country of origin. Use a significance level of 0.01."
   ]
  },
  {
   "cell_type": "code",
   "execution_count": 7,
   "id": "ee5fe003-3b43-46ca-b5ae-ca1d2cb41c44",
   "metadata": {},
   "outputs": [
    {
     "data": {
      "text/html": [
       "<div>\n",
       "<style scoped>\n",
       "    .dataframe tbody tr th:only-of-type {\n",
       "        vertical-align: middle;\n",
       "    }\n",
       "\n",
       "    .dataframe tbody tr th {\n",
       "        vertical-align: top;\n",
       "    }\n",
       "\n",
       "    .dataframe thead th {\n",
       "        text-align: right;\n",
       "    }\n",
       "</style>\n",
       "<table border=\"1\" class=\"dataframe\">\n",
       "  <thead>\n",
       "    <tr style=\"text-align: right;\">\n",
       "      <th></th>\n",
       "      <th>0</th>\n",
       "      <th>1</th>\n",
       "      <th>2</th>\n",
       "      <th>3</th>\n",
       "    </tr>\n",
       "  </thead>\n",
       "  <tbody>\n",
       "    <tr>\n",
       "      <th>0</th>\n",
       "      <td>Country</td>\n",
       "      <td>Milk chocolate</td>\n",
       "      <td>Dark chocolate</td>\n",
       "      <td>White chocolate</td>\n",
       "    </tr>\n",
       "    <tr>\n",
       "      <th>1</th>\n",
       "      <td>U.S. (n=500)</td>\n",
       "      <td>200</td>\n",
       "      <td>150</td>\n",
       "      <td>150</td>\n",
       "    </tr>\n",
       "    <tr>\n",
       "      <th>2</th>\n",
       "      <td>U.K. (n=500)</td>\n",
       "      <td>225</td>\n",
       "      <td>175</td>\n",
       "      <td>100</td>\n",
       "    </tr>\n",
       "  </tbody>\n",
       "</table>\n",
       "</div>"
      ],
      "text/plain": [
       "              0               1               2                3\n",
       "0       Country  Milk chocolate  Dark chocolate  White chocolate\n",
       "1  U.S. (n=500)             200             150              150\n",
       "2  U.K. (n=500)             225             175              100"
      ]
     },
     "execution_count": 7,
     "metadata": {},
     "output_type": "execute_result"
    }
   ],
   "source": [
    "import pandas as pd\n",
    "list2 = [['Country','Milk chocolate','Dark chocolate','White chocolate'],\n",
    "      ['U.S. (n=500)', 200, 150,150],\n",
    "      ['U.K. (n=500)', 225, 175,100]]\n",
    "df2 = pd.DataFrame(list2)\n",
    "df2"
   ]
  },
  {
   "cell_type": "markdown",
   "id": "550f9fcf-74f0-4630-b188-5ecd907e9dc5",
   "metadata": {},
   "source": [
    "## Ans:"
   ]
  },
  {
   "cell_type": "code",
   "execution_count": 2,
   "id": "072b98b6-1500-402d-8ab5-d8d92e464099",
   "metadata": {},
   "outputs": [
    {
     "name": "stdout",
     "output_type": "stream",
     "text": [
      "Reject the null hypothesis: There is a significant association between chocolate preference and country of origin\n",
      "Chi-square statistic: 13.393665158371041\n",
      "p-value: 0.0012348168997745918\n",
      "Degrees of freedom: 2\n",
      "Expected frequencies:\n",
      " [[212.5 162.5 125. ]\n",
      " [212.5 162.5 125. ]]\n"
     ]
    }
   ],
   "source": [
    "import numpy as np\n",
    "from scipy.stats import chi2_contingency\n",
    "# chi2_contingency is used when observed and expected data are matrix formate\n",
    "\n",
    "# Define the contingency table\n",
    "data = np.array([\n",
    "    [200, 150, 150],\n",
    "    [225, 175, 100],\n",
    "])\n",
    "\n",
    "# Perform the chi-square test of independence\n",
    "chi2_statistic, p_value, dof, expected = chi2_contingency(data)\n",
    "\n",
    "# Set the significance level\n",
    "alpha = 0.05\n",
    "\n",
    "# Check if the p-value is less than the significance level\n",
    "if p_value < alpha:\n",
    "    print(\"Reject the null hypothesis: There is a significant association between chocolate preference and country of origin\")\n",
    "else:\n",
    "    print(\"Fail to reject the null hypothesis: There is no significant association between chocolate preference and country of origin\")\n",
    "\n",
    "print(\"Chi-square statistic:\", chi2_statistic)\n",
    "print(\"p-value:\", p_value)\n",
    "print(\"Degrees of freedom:\", dof)\n",
    "print(\"Expected frequencies:\\n\", expected)"
   ]
  },
  {
   "cell_type": "markdown",
   "id": "e385b912-4fed-4b54-bb4a-e40fcf9c400b",
   "metadata": {},
   "source": [
    "## Q11. A random sample of 30 people was selected from a population with an unknown mean and standard deviation. The sample mean was found to be 72 and the sample standard deviation was found to be 10. Conduct a hypothesis test to determine if the population mean is significantly different from 70. Use a significance level of 0.05."
   ]
  },
  {
   "cell_type": "markdown",
   "id": "c13e2364-3892-434f-a7b1-a002ccd860c6",
   "metadata": {},
   "source": [
    "## Ans:"
   ]
  },
  {
   "cell_type": "code",
   "execution_count": 4,
   "id": "5fcbe3e9-c561-4d2c-b052-1e714d94890e",
   "metadata": {},
   "outputs": [
    {
     "name": "stdout",
     "output_type": "stream",
     "text": [
      "Fail to reject the null hypothesis: There is no significant difference from 70.\n",
      "t-statistic: 1.0954451150103321\n",
      "p-value: 0.2823362372860698\n"
     ]
    }
   ],
   "source": [
    "import scipy.stats as stats\n",
    "\n",
    "# Sample statistics\n",
    "sample_mean = 72\n",
    "sample_std_dev = 10\n",
    "sample_size = 30\n",
    "\n",
    "# Population mean under the null hypothesis\n",
    "population_mean_null = 70\n",
    "\n",
    "# Significance level\n",
    "alpha = 0.05\n",
    "\n",
    "# Calculate the t-test statistic\n",
    "t_statistic = (sample_mean - population_mean_null) / (sample_std_dev / (sample_size**0.5))\n",
    "\n",
    "# Calculate the degrees of freedom\n",
    "df = sample_size - 1\n",
    "\n",
    "# Calculate the critical t-value for a two-tailed test\n",
    "t_critical = stats.t.ppf(1 - alpha / 2, df)\n",
    "\n",
    "# Calculate the p-value\n",
    "p_value = 2 * (1 - stats.t.cdf(abs(t_statistic), df))\n",
    "\n",
    "# Make a decision\n",
    "if abs(t_statistic) > t_critical or p_value < alpha:\n",
    "    print(\"Reject the null hypothesis: The population mean is significantly different from 70.\")\n",
    "else:\n",
    "    print(\"Fail to reject the null hypothesis: There is no significant difference from 70.\")\n",
    "\n",
    "print(\"t-statistic:\", t_statistic)\n",
    "print(\"p-value:\", p_value)"
   ]
  }
 ],
 "metadata": {
  "kernelspec": {
   "display_name": "Python 3 (ipykernel)",
   "language": "python",
   "name": "python3"
  },
  "language_info": {
   "codemirror_mode": {
    "name": "ipython",
    "version": 3
   },
   "file_extension": ".py",
   "mimetype": "text/x-python",
   "name": "python",
   "nbconvert_exporter": "python",
   "pygments_lexer": "ipython3",
   "version": "3.10.8"
  }
 },
 "nbformat": 4,
 "nbformat_minor": 5
}

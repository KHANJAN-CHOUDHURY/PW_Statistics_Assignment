{
 "cells": [
  {
   "cell_type": "markdown",
   "id": "0fc1e2f5-cd28-4a4e-b1c6-1c71a6ae4ea8",
   "metadata": {},
   "source": [
    "## Q1: What is Estimation Statistics? Explain point estimate and interval estimate."
   ]
  },
  {
   "cell_type": "markdown",
   "id": "014609bb-13ea-4ccb-86bd-223d0bdb8370",
   "metadata": {},
   "source": [
    "## Ans:"
   ]
  },
  {
   "cell_type": "markdown",
   "id": "ef4ff9b5-6bb3-4338-9d38-3c56ba8ffbda",
   "metadata": {},
   "source": [
    "Estimation statistics is a branch of statistics that deals with the process of estimating population parameters (characteristics) based on information gathered from a sample of that population. Estimation is essential in statistics because it allows us to make inferences about a population without having to collect data from every single member of that population, which is often impractical or impossible.\n",
    "\n",
    "There are two primary concepts in estimation statistics: point estimates and interval estimates.\n",
    "\n",
    "1. Point Estimate:\n",
    "        A point estimate is a single value that is used to estimate the population parameter of interest. It represents the best guess or most likely value for the parameter based on the sample data.\\\n",
    "        Point estimates are simple and easy to calculate. For example, if you want to estimate the population mean (average), you might calculate the sample mean (the average of your sample data) and use it as a point estimate of the population mean.\n",
    "\n",
    "2. Interval Estimate:\n",
    "        An interval estimate, on the other hand, provides a range of values within which the population parameter is likely to fall. It recognizes that there is uncertainty associated with point estimates and provides a measure of that uncertainty.\\\n",
    "        The most common type of interval estimate is the confidence interval. A confidence interval consists of a lower and upper limit (a range) and is constructed such that it contains the true population parameter with a certain level of confidence (e.g., 95% confidence). This means that if you were to take multiple random samples and construct confidence intervals for each, approximately 95% of those intervals would contain the true parameter.\\\n",
    "        For example, a 95% confidence interval for the population mean might be [X - 1.96SE, X + 1.96SE], where X is the sample mean and SE is the standard error of the mean. This interval suggests that we are 95% confident that the true population mean falls within this range."
   ]
  },
  {
   "cell_type": "markdown",
   "id": "6ec99cd6-c675-4f3c-9662-0f1410dee8f9",
   "metadata": {},
   "source": [
    "## Q2. Write a Python function to estimate the population mean using a sample mean and standard deviation."
   ]
  },
  {
   "cell_type": "markdown",
   "id": "7481d8c3-8055-4a61-a312-32562034780c",
   "metadata": {},
   "source": [
    "## Ans:"
   ]
  },
  {
   "cell_type": "code",
   "execution_count": 1,
   "id": "6dfffa96-94b2-4bcd-9d28-ea303d3be3f3",
   "metadata": {},
   "outputs": [
    {
     "name": "stdout",
     "output_type": "stream",
     "text": [
      "Estimated population mean: 10  Estimated population standard deviation 0.7071067811865475\n"
     ]
    }
   ],
   "source": [
    "def population_mean_std(sample_mean,sample_std,n):\n",
    "    pop_mean = sample_mean\n",
    "    pop_std = sample_std/(n**0.5)\n",
    "    return pop_mean,pop_std\n",
    "samle_mean = 10\n",
    "sample_std = 5\n",
    "n = 50\n",
    "est_mean,est_std = population_mean_std(samle_mean,sample_std,n)\n",
    "print('Estimated population mean:',est_mean,' Estimated population standard deviation',est_std)"
   ]
  },
  {
   "cell_type": "markdown",
   "id": "c130040f-8841-470a-8975-9371d1052eb2",
   "metadata": {},
   "source": [
    "## Q3: What is Hypothesis testing? Why is it used? State the importance of Hypothesis testing."
   ]
  },
  {
   "cell_type": "markdown",
   "id": "1f402a39-9a4e-49b7-953a-3bc91c393009",
   "metadata": {},
   "source": [
    "## Ans:"
   ]
  },
  {
   "cell_type": "markdown",
   "id": "61e09fe6-5852-45cb-857b-735983d749bf",
   "metadata": {},
   "source": [
    "Hypothesis testing is a fundamental statistical method used to make decisions and draw conclusions about populations based on sample data. It is a systematic procedure for evaluating two competing hypotheses: the null hypothesis (H0) and the alternative hypothesis (Ha). The purpose of hypothesis testing is to determine whether there is enough evidence in the sample data to support the rejection of the null hypothesis in favor of the alternative hypothesis.\n",
    "\n",
    "Here's a breakdown of the key components of hypothesis testing:\n",
    "\n",
    "1. Null Hypothesis (H0):\n",
    "        The null hypothesis represents a statement of no effect, no difference, or no association. It is often a statement of the status quo or a default assumption.\n",
    "        It is denoted as H0 and is typically the hypothesis that researchers seek to test or challenge.\n",
    "\n",
    "2. Alternative Hypothesis (Ha):\n",
    "        The alternative hypothesis represents the statement that the researcher is trying to support. It suggests that there is a significant effect, difference, or association in the population.\n",
    "        It is denoted as Ha and is the hypothesis that researchers hope to find evidence for.\n",
    "\n",
    "3. Test Statistic:\n",
    "        A test statistic is a numerical value computed from the sample data that serves as a basis for making a decision about the null hypothesis. It quantifies the difference or effect observed in the sample.\n",
    "\n",
    "4. Significance Level (α):\n",
    "        The significance level, denoted as α (alpha), is the predetermined level of probability that defines the threshold for statistical significance. Common values for α include 0.05 and 0.01, representing a 5% and 1% chance of making a Type I error, respectively.\n",
    "\n",
    "5. P-value:\n",
    "        The p-value is a probability value that indicates the likelihood of obtaining the observed results (or more extreme results) if the null hypothesis is true. A small p-value suggests strong evidence against the null hypothesis.\n",
    "\n",
    "6. Decision:\n",
    "        Based on the test statistic and the p-value, a decision is made to either reject the null hypothesis if the evidence is strong enough (p-value < α) or fail to reject the null hypothesis if the evidence is not strong enough (p-value ≥ α).\n",
    "\n",
    "The Importance of Hypothesis Testing:\n",
    "Hypothesis testing is crucial in the field of statistics and scientific research for several reasons:\n",
    "\n",
    "1. Inference: Hypothesis testing allows researchers to make inferences about population parameters based on sample data. It helps answer questions about whether observed effects are likely to be real or simply due to chance.\n",
    "\n",
    "2. Decision-Making: It provides a structured framework for making decisions, such as whether a new treatment is effective, whether a marketing strategy is working, or whether there is a significant difference between groups in an experiment.\n",
    "\n",
    "3. Scientific Method: Hypothesis testing is an integral part of the scientific method, enabling scientists to test and refine their theories and hypotheses based on empirical evidence.\n",
    "\n",
    "4. Objective Evaluation: It promotes objectivity by providing a clear criterion for accepting or rejecting hypotheses, reducing the influence of personal biases.\n",
    "\n",
    "5. Quality Control: In various industries, hypothesis testing is used for quality control and process improvement, ensuring that products and processes meet specified standards."
   ]
  },
  {
   "cell_type": "markdown",
   "id": "3bba827c-889c-4a48-a715-f30cec4f9d07",
   "metadata": {},
   "source": [
    "## Q4. Create a hypothesis that states whether the average weight of male college students is greater than the average weight of female college students."
   ]
  },
  {
   "cell_type": "markdown",
   "id": "cce59a63-528b-40de-b9dc-65cd91fbddb4",
   "metadata": {},
   "source": [
    "## Ans:"
   ]
  },
  {
   "cell_type": "markdown",
   "id": "b0dd5c09-eed2-46cb-868b-f50c8a93b2b0",
   "metadata": {},
   "source": [
    "1. Null Hypothesis (H0):\n",
    "\n",
    "H0: The average weight of male college students is equal to or less than the average weight of female college students.\n",
    "\n",
    "H0: μ_male <= μ_female\\\n",
    "2. Alternative Hypothesis (Ha):\n",
    "\n",
    "Ha: The average weight of male college students is greater than the average weight of female college students.\n",
    "Ha: μ_male > μ_female"
   ]
  },
  {
   "cell_type": "markdown",
   "id": "9dee2676-47a3-4b8f-a380-71bb7ef05564",
   "metadata": {},
   "source": [
    "## Q5. Write a Python script to conduct a hypothesis test on the difference between two population means, given a sample from each population."
   ]
  },
  {
   "cell_type": "markdown",
   "id": "ce49cd05-9324-45dc-8acb-3ec29d3f8106",
   "metadata": {},
   "source": [
    "## Ans:"
   ]
  },
  {
   "cell_type": "code",
   "execution_count": 4,
   "id": "930ce7a4-c319-4c24-9622-d20c532becf7",
   "metadata": {},
   "outputs": [
    {
     "name": "stdout",
     "output_type": "stream",
     "text": [
      "Sample 1 Mean: 73.9\n",
      "Sample 2 Mean: 68.8\n",
      "T-statistic: 1.9299177026241716\n",
      "P-value: 0.07002880325264284\n",
      "Fail to reject the null hypothesis\n",
      "There is not enough evidence to suggest a significant difference between the two population means.\n"
     ]
    }
   ],
   "source": [
    "import numpy as np\n",
    "from scipy import stats\n",
    "\n",
    "# Sample data from two populations (replace with your data)\n",
    "sample1 = np.array([65, 68, 70, 72, 73, 75, 76, 78, 80, 82])\n",
    "sample2 = np.array([58, 62, 64, 66, 68, 70, 72, 74, 76, 78])\n",
    "\n",
    "# Define significance level (alpha)\n",
    "alpha = 0.05\n",
    "\n",
    "# Perform a two-sample t-test\n",
    "t_stat, p_value = stats.ttest_ind(sample1, sample2, equal_var=False)\n",
    "\n",
    "# Print the results\n",
    "print(\"Sample 1 Mean:\", np.mean(sample1))\n",
    "print(\"Sample 2 Mean:\", np.mean(sample2))\n",
    "print(\"T-statistic:\", t_stat)\n",
    "print(\"P-value:\", p_value)\n",
    "\n",
    "# Determine whether to reject the null hypothesis\n",
    "if p_value < alpha:\n",
    "    print(\"Reject the null hypothesis\")\n",
    "    print(\"There is enough evidence to suggest a significant difference between the two population means.\")\n",
    "else:\n",
    "    print(\"Fail to reject the null hypothesis\")\n",
    "    print(\"There is not enough evidence to suggest a significant difference between the two population means.\")"
   ]
  },
  {
   "cell_type": "markdown",
   "id": "1082fecf-33d6-4f47-bae6-f2ed4d9a58ca",
   "metadata": {},
   "source": [
    "## Q6: What is a null and alternative hypothesis? Give some examples."
   ]
  },
  {
   "cell_type": "markdown",
   "id": "c84e8c4b-7f85-49c8-96f5-4860000a9986",
   "metadata": {},
   "source": [
    "## Ans:"
   ]
  },
  {
   "cell_type": "markdown",
   "id": "ab875fb9-2b82-43bf-8cf6-1b95279ad3a9",
   "metadata": {},
   "source": [
    "1. Null Hypothesis (H0):\\\n",
    "        The null hypothesis represents a statement of no effect, no difference, or no association. It is often a default assumption or the status quo that you seek to test or challenge.\\\n",
    "        It is denoted as H0 and serves as the baseline assumption to be tested against.\\\n",
    "        In most cases, the null hypothesis assumes that there is no significant relationship, effect, or difference between the variables being studied.\n",
    "\n",
    "    Examples of null hypotheses:\n",
    "        H0: The average height of male adults is equal to 175 centimeters.\\\n",
    "        H0: There is no difference in test scores between two teaching methods.\\\n",
    "        H0: There is no association between smoking and the risk of lung cancer.\\\n",
    "        H0: The mean response time for two website designs is the same.\n",
    "\n",
    "2. Alternative Hypothesis (Ha):\\\n",
    "        The alternative hypothesis represents the statement that the researcher is trying to find evidence for. It suggests that there is a significant effect, difference, or association in the population.\\\n",
    "        It is denoted as Ha and is the hypothesis that researchers hope to find support for.\\\n",
    "        The alternative hypothesis can be directional (one-tailed) or non-directional (two-tailed), depending on the nature of the research question.\n",
    "\n",
    "    Examples of alternative hypotheses:\n",
    "        Ha: The average height of male adults is greater than 175 centimeters.\\\n",
    "        Ha: Teaching method A produces higher test scores than teaching method B.\\\n",
    "        Ha: There is a positive association between the number of hours spent studying and exam performance.\\\n",
    "        Ha: The mean response time for website design A is less than the mean response time for website design B."
   ]
  },
  {
   "cell_type": "markdown",
   "id": "2546e0e7-cffe-4d50-b7ea-a98b3c75187a",
   "metadata": {},
   "source": [
    "## Q7: Write down the steps involved in hypothesis testing."
   ]
  },
  {
   "cell_type": "markdown",
   "id": "0e7dd2ff-d2e1-4d84-b945-eb59c8aea172",
   "metadata": {},
   "source": [
    "## Ans:"
   ]
  },
  {
   "cell_type": "markdown",
   "id": "a8317506-8893-4b7d-a5f8-3e98ae6e1f9e",
   "metadata": {},
   "source": [
    "1. State the Hypotheses:\n",
    "\n",
    "    Formulate the null hypothesis (H0) and the alternative hypothesis (Ha) based on the research question or problem you want to investigate.\n",
    "    H0 represents the status quo or no effect, while Ha represents the statement you want to find evidence for.\n",
    "\n",
    "2. Select the Significance Level (Alpha):\n",
    "\n",
    "    Choose a significance level (alpha, α), which is the predetermined probability threshold used to determine statistical significance. Common choices include 0.05 (5%) and 0.01 (1%).\n",
    "\n",
    "3. Collect and Prepare Data:\n",
    "\n",
    "    Gather relevant data through sampling or experimentation. Ensure that the data collection process is unbiased and representative of the population.\n",
    "\n",
    "4. Perform a Statistical Test:\n",
    "\n",
    "    Select an appropriate statistical test based on the nature of your data and research question. Common tests include t-tests, chi-squared tests, ANOVA, regression analysis, etc.\n",
    "    Calculate the test statistic based on the sample data.\n",
    "\n",
    "5. Determine the Critical Region:\n",
    "\n",
    "    Identify the critical region(s) in the distribution of the test statistic under the null hypothesis.\n",
    "    The critical region represents the values of the test statistic for which the null hypothesis will be rejected if the observed test statistic falls within that region.\n",
    "\n",
    "6. Calculate the Test Statistic:\n",
    "\n",
    "    Compute the test statistic using the sample data and the formula specific to the chosen statistical test.\n",
    "\n",
    "7. Compute the P-Value:\n",
    "\n",
    "    Calculate the p-value, which is the probability of observing a test statistic as extreme or more extreme than the one obtained from the sample, assuming the null hypothesis is true.\n",
    "    The p-value quantifies the strength of evidence against the null hypothesis. A small p-value suggests stronger evidence against the null hypothesis.\n",
    "\n",
    "8. Make a Decision:\n",
    "\n",
    "    Compare the calculated p-value to the chosen significance level (α).\n",
    "    If the p-value is less than or equal to α, reject the null hypothesis (H0) in favor of the alternative hypothesis (Ha).\n",
    "    If the p-value is greater than α, fail to reject the null hypothesis. There is insufficient evidence to support the alternative hypothesis."
   ]
  },
  {
   "cell_type": "markdown",
   "id": "e60288cc-0a86-4a35-8df9-dff2e3fd810f",
   "metadata": {},
   "source": [
    "## Q8. Define p-value and explain its significance in hypothesis testing."
   ]
  },
  {
   "cell_type": "markdown",
   "id": "e77ae494-0298-4742-9876-03935fa939db",
   "metadata": {},
   "source": [
    "## Ans:"
   ]
  },
  {
   "cell_type": "markdown",
   "id": "7b1bd67a-3af8-490b-af64-fe3f8d1fc7a3",
   "metadata": {},
   "source": [
    "The p-value, short for \"probability value,\" is a crucial concept in hypothesis testing. It quantifies the strength of the evidence against the null hypothesis (H0) and helps you make informed decisions regarding whether to reject or fail to reject the null hypothesis. Here's a more detailed definition and an explanation of its significance in hypothesis testing:\n",
    "\n",
    "Definition of p-value:\n",
    "The p-value is a probability measure that represents the probability of observing a test statistic as extreme or more extreme than the one obtained from the sample data, assuming that the null hypothesis is true.\n",
    "\n",
    "Significance of the p-value in hypothesis testing:\n",
    "The p-value plays a central role in hypothesis testing for the following reasons:\n",
    "\n",
    "1. Measuring Strength of Evidence: The p-value provides a quantitative measure of the strength of evidence against the null hypothesis. A smaller p-value indicates stronger evidence against H0, while a larger p-value suggests weaker evidence.\n",
    "\n",
    "2. Decision Criterion: The p-value serves as a decision criterion in hypothesis testing. Typically, you compare the p-value to a predetermined significance level (alpha, α) to make a decision:\n",
    "        If p-value ≤ α: You reject the null hypothesis (H0).\n",
    "        If p-value > α: You fail to reject the null hypothesis (H0).\n",
    "\n",
    "3. Control of Type I Error: The choice of alpha (α) as the significance level helps control the Type I error rate, which is the probability of rejecting a true null hypothesis. Commonly used significance levels are 0.05 (5%) and 0.01 (1%), but they can be adjusted based on the specific context and the consequences of making a Type I error.\n",
    "\n",
    "4. Interpretation: The p-value allows you to interpret the results of hypothesis tests. If the p-value is small (e.g., less than 0.05), it suggests that the observed data is unlikely to occur if the null hypothesis is true, leading to the rejection of H0 in favor of the alternative hypothesis (Ha).\n",
    "\n",
    "5. Continuous Scale: The p-value provides a continuous scale for assessing evidence, allowing for a nuanced evaluation of the data. Even if a hypothesis test does not lead to complete rejection or acceptance of a hypothesis, the p-value can still provide information about the strength of the observed effect.\n",
    "\n",
    "6. Comparative Analysis: When comparing the results of multiple hypothesis tests, the p-value can help prioritize hypotheses by indicating which ones have the strongest evidence against their respective null hypotheses."
   ]
  },
  {
   "cell_type": "markdown",
   "id": "6496eb84-4204-49a4-baa7-cfc985203bb1",
   "metadata": {},
   "source": [
    "## Q9. Generate a Student's t-distribution plot using Python's matplotlib library, with the degrees of freedom parameter set to 10."
   ]
  },
  {
   "cell_type": "markdown",
   "id": "e8cbdfc5-ce7c-4e77-af2f-572b1d5cf609",
   "metadata": {},
   "source": [
    "## Ans:"
   ]
  },
  {
   "cell_type": "code",
   "execution_count": 5,
   "id": "db8dccb1-546a-4eed-9cd7-db555fa9726d",
   "metadata": {},
   "outputs": [
    {
     "data": {
      "image/png": "[encoded data removed]",
      "text/plain": [
       "<Figure size 800x600 with 1 Axes>"
      ]
     },
     "metadata": {},
     "output_type": "display_data"
    }
   ],
   "source": [
    "import numpy as np\n",
    "import matplotlib.pyplot as plt\n",
    "from scipy.stats import t\n",
    "\n",
    "# Define degrees of freedom\n",
    "degrees_of_freedom = 10\n",
    "\n",
    "# Generate data points for the x-axis (range of values)\n",
    "x = np.linspace(-4, 4, 400)\n",
    "\n",
    "# Calculate the probability density function (PDF) for the t-distribution\n",
    "pdf = t.pdf(x, df=degrees_of_freedom)\n",
    "\n",
    "# Create the plot\n",
    "plt.figure(figsize=(8, 6))\n",
    "plt.plot(x, pdf, label=f't-distribution (df={degrees_of_freedom})', color='b')\n",
    "\n",
    "# Add labels and a legend\n",
    "plt.xlabel('X')\n",
    "plt.ylabel('Probability Density')\n",
    "plt.title(f'Student\\'s t-Distribution (df={degrees_of_freedom})')\n",
    "plt.legend()\n",
    "\n",
    "# Show the plot\n",
    "plt.grid()\n",
    "plt.show()"
   ]
  },
  {
   "cell_type": "markdown",
   "id": "0b1dff84-6423-4a7e-8741-ac35c8901bf5",
   "metadata": {},
   "source": [
    "## Q10. Write a Python program to calculate the two-sample t-test for independent samples, given two random samples of equal size and a null hypothesis that the population means are equal."
   ]
  },
  {
   "cell_type": "markdown",
   "id": "ca085513-c8de-4928-a672-9bfeb30f7548",
   "metadata": {},
   "source": [
    "## Ans:"
   ]
  },
  {
   "cell_type": "code",
   "execution_count": 6,
   "id": "123de6e0-3c5b-481a-b969-ae7910097854",
   "metadata": {},
   "outputs": [
    {
     "name": "stdout",
     "output_type": "stream",
     "text": [
      "Null Hypothesis: The population means are equal.\n",
      "Sample 1 Mean: 49.5987112343599\n",
      "Sample 2 Mean: 54.17681056726133\n",
      "T-statistic: -3.126024076110528\n",
      "P-value: 0.0020384626029856215\n",
      "Reject the null hypothesis\n",
      "There is enough evidence to suggest a significant difference between the population means.\n"
     ]
    }
   ],
   "source": [
    "import numpy as np\n",
    "from scipy import stats\n",
    "\n",
    "# Generate two random samples with equal size (replace with your data)\n",
    "sample1 = np.random.normal(loc=50, scale=10, size=100)\n",
    "sample2 = np.random.normal(loc=55, scale=10, size=100)\n",
    "\n",
    "# Define the null hypothesis: population means are equal\n",
    "null_hypothesis = \"The population means are equal.\"\n",
    "\n",
    "# Perform a two-sample t-test (assuming equal variances)\n",
    "t_statistic, p_value = stats.ttest_ind(sample1, sample2)\n",
    "\n",
    "# Set the significance level (alpha)\n",
    "alpha = 0.05\n",
    "\n",
    "# Print the results\n",
    "print(\"Null Hypothesis:\", null_hypothesis)\n",
    "print(\"Sample 1 Mean:\", np.mean(sample1))\n",
    "print(\"Sample 2 Mean:\", np.mean(sample2))\n",
    "print(\"T-statistic:\", t_statistic)\n",
    "print(\"P-value:\", p_value)\n",
    "\n",
    "# Determine whether to reject the null hypothesis\n",
    "if p_value < alpha:\n",
    "    print(\"Reject the null hypothesis\")\n",
    "    print(\"There is enough evidence to suggest a significant difference between the population means.\")\n",
    "else:\n",
    "    print(\"Fail to reject the null hypothesis\")\n",
    "    print(\"There is not enough evidence to suggest a significant difference between the population means.\")"
   ]
  },
  {
   "cell_type": "markdown",
   "id": "1b61d346-8327-472d-997d-dea09def39a1",
   "metadata": {},
   "source": [
    "## Q11: What is Student’s t distribution? When to use the t-Distribution."
   ]
  },
  {
   "cell_type": "markdown",
   "id": "fda726fc-1a43-4c7f-8c7a-b985708fcfe5",
   "metadata": {},
   "source": [
    "## Ans:"
   ]
  },
  {
   "cell_type": "markdown",
   "id": "2dec0070-71b7-42f1-baab-e727644d56b4",
   "metadata": {},
   "source": [
    "Student's t-distribution, often referred to as the t-distribution, is a probability distribution that plays a fundamental role in statistics. It is used in various statistical inference procedures, particularly in hypothesis testing and confidence interval estimation. The t-distribution is characterized by its bell-shaped, symmetric curve, similar to a normal distribution, but with thicker tails.\n",
    "\n",
    "Key characteristics of the t-distribution include:\n",
    "\n",
    "1. Shape: The t-distribution has a bell-shaped curve like the normal distribution but has thicker tails. This means that the t-distribution has more probability mass in the tails, making it more spread out and less peaked compared to the normal distribution.\n",
    "\n",
    "2. Parameter: The shape of the t-distribution is determined by a single parameter called degrees of freedom (df or ν). As the degrees of freedom increase, the t-distribution approaches the shape of the standard normal distribution (with mean 0 and variance 1).\n",
    "\n",
    "3. Symmetry: Like the normal distribution, the t-distribution is symmetric around its mean.\n",
    "\n",
    "When to use the t-Distribution:\n",
    "\n",
    "The t-distribution is used in situations where the population standard deviation is unknown, and the sample size is relatively small. It is particularly relevant when dealing with sample data and making inferences about population parameters. Here are some common scenarios when the t-distribution is used:\n",
    "\n",
    "1. Small Sample Sizes: When the sample size is small (typically less than 30) and the population standard deviation is unknown, the t-distribution is used to account for the additional uncertainty introduced by estimating the population standard deviation from the sample standard deviation.\n",
    "\n",
    "2. Hypothesis Testing: The t-distribution is used in hypothesis testing when comparing sample means, such as in the two-sample t-test, paired t-test, and one-sample t-test. It is especially useful when dealing with small samples.\n",
    "\n",
    "3. Confidence Intervals: When constructing confidence intervals for population parameters (e.g., population mean), the t-distribution is used to account for the variability introduced by using sample data. Confidence intervals provide a range of values within which the population parameter is likely to fall.\n",
    "\n",
    "4. Quality Control and Process Monitoring: In industrial and manufacturing settings, the t-distribution is used to establish control limits and monitor the quality of products and processes.\n",
    "\n",
    "5. Regression Analysis: In linear regression, the t-distribution is used to test the significance of regression coefficients and conduct hypothesis tests about the relationship between independent and dependent variables."
   ]
  },
  {
   "cell_type": "markdown",
   "id": "75a9e1ce-283a-4500-bf45-0045e89cee6e",
   "metadata": {},
   "source": [
    "## Q12: What is t-statistic? State the formula for t-statistic."
   ]
  },
  {
   "cell_type": "markdown",
   "id": "14a77c52-e5e2-4690-80b5-ea3efd1c59cb",
   "metadata": {},
   "source": [
    "## Ans:"
   ]
  },
  {
   "cell_type": "markdown",
   "id": "e283993f-5ffa-41ce-b52a-b187032b1108",
   "metadata": {},
   "source": [
    "The t-statistic, also known as the Student's t-statistic, is a measure used in hypothesis testing to assess the difference between a sample statistic and a population parameter. It quantifies how many standard errors the sample statistic is away from the expected population parameter value under the null hypothesis. The t-statistic is commonly used in situations where the population standard deviation is unknown, and the sample size is relatively small.\n",
    "\n",
    "The formula for the t-statistic depends on the specific hypothesis test being conducted. Here are the general formulas for common types of t-statistics:\n",
    "\n",
    "1. One-Sample t-Test:\n",
    "        Used to test whether the sample mean is significantly different from a known or hypothesized population mean (μ).\n",
    "        "
   ]
  },
  {
   "cell_type": "markdown",
   "id": "ca4a70ed-87cb-473f-afa2-fd35d4af1894",
   "metadata": {},
   "source": [
    "Formula:\\\n",
    "        $ t = \\frac{\\bar{x}−\\mu}{\\frac{s}{\\sqrt{n}}}$"
   ]
  },
  {
   "cell_type": "markdown",
   "id": "c0ac63b3-dcbe-44bf-aa9a-0ddd0129d430",
   "metadata": {},
   "source": [
    "Where:\n",
    "1. t is the t-statistic.\n",
    "2. $\\bar{x}$ is the sample mean.\n",
    "3. $\\mu$ is the population mean (hypothesized value under the null hypothesis).\n",
    "4. s is the sample standard deviation.\n",
    "5. n is the sample size."
   ]
  },
  {
   "cell_type": "markdown",
   "id": "bbb5f913-9cce-498c-a16f-d4668ccf0b37",
   "metadata": {},
   "source": [
    "2. Independent Two-Sample t-Test:\n",
    "\n",
    "    Used to compare the means of two independent samples to determine if they are significantly different from each other."
   ]
  },
  {
   "cell_type": "markdown",
   "id": "b445adcb-3221-498c-834e-0e6608ccbff7",
   "metadata": {},
   "source": [
    "Formula:\\\n",
    "$t=\\frac{\\bar{x_{1}}-\\bar{x_{2}}}{\\sqrt{\\frac{s_{1}^{2}}{n_{1}}+\\frac{s_{2}^{2}}{n_{2}}}}$\n",
    "\n",
    "Where:\n",
    "1. t is the t-statistic.\n",
    "2. $\\bar{x_{1}}$ and $\\bar{x_{2}}$ are the sample means of the two groups.\n",
    "3. $s_{1}^{2}$ and $s_{1}^{2}$ are the sample standard deviations of the two groups.\n",
    "4. $n_{1}$ and $n_{1}$ are the sample sizes of the two groups."
   ]
  },
  {
   "cell_type": "markdown",
   "id": "9661101b-d680-4b6c-8a03-af853b019324",
   "metadata": {},
   "source": [
    "3. Paired Two-Sample t-Test:\n",
    "\n",
    "    Used to compare the means of paired or matched samples to determine if there is a significant difference between the pairs."
   ]
  },
  {
   "cell_type": "markdown",
   "id": "a43a0513-3328-493e-b9a3-95275cbfd284",
   "metadata": {},
   "source": [
    "Formula:\\\n",
    "    $t=\\frac{\\bar{d}}{\\frac{s_{d}}{\\sqrt{n}}}$"
   ]
  },
  {
   "cell_type": "markdown",
   "id": "306211a3-e547-48ac-b029-338489ce0781",
   "metadata": {},
   "source": [
    "Where:\n",
    "1. t is the t-statistic.\n",
    "2. $\\bar{d}$ is the mean of the differences between paired observations.\n",
    "3. $s_{d}$ is the standard deviation of the differences.\n",
    "4. n is the number of pairs."
   ]
  },
  {
   "cell_type": "markdown",
   "id": "7c4265d0-6566-464e-9e91-1f4362f9e1ee",
   "metadata": {},
   "source": [
    "In all of these formulas, the t-statistic is calculated by taking the difference between the sample statistic (e.g., sample mean) and the population parameter (under the null hypothesis) and dividing it by a standard error. The standard error is a measure of the variability or uncertainty in the sample statistic.\n",
    "\n",
    "The t-statistic is then used in conjunction with the t-distribution to determine the probability (p-value) of observing such a t-statistic under the null hypothesis. If the p-value is sufficiently small (typically less than a chosen significance level), the null hypothesis is rejected in favor of the alternative hypothesis, indicating a significant difference or effect."
   ]
  },
  {
   "cell_type": "markdown",
   "id": "1a3c6b96-2783-4875-9c0e-e2c0bb7710dc",
   "metadata": {},
   "source": [
    "## Q13. A coffee shop owner wants to estimate the average daily revenue for their shop. They take a random sample of 50 days and find the sample mean revenue to be 500 doller with a standard deviation of 50 doller. Estimate the population mean revenue with a 95% confidence interval."
   ]
  },
  {
   "cell_type": "markdown",
   "id": "668f7e9b-c59f-4e8a-bc4d-0e4b6bfc5422",
   "metadata": {},
   "source": [
    "## Ans:"
   ]
  },
  {
   "cell_type": "markdown",
   "id": "7857abbe-0d02-4298-8c02-b90d9df53a6d",
   "metadata": {},
   "source": [
    "To estimate the population mean revenue with a 95% confidence interval, we can use the formula for the confidence interval for the population mean when the population standard deviation is known. However, in this case, we are given the sample standard deviation, so you'll use the t-distribution. Here are the steps:\n",
    "\n",
    "Given,\\\n",
    "Sample standard deviation (s) = 50\\\n",
    "sample mean ($\\mu$) = 500\\\n",
    "number of samples (n) = 50\n",
    "1. Calculate SE:\n",
    "    $SE=\\frac{s}{\\sqrt{n}}=\\frac{50}{\\sqrt{50}}=7.0711$"
   ]
  },
  {
   "cell_type": "markdown",
   "id": "3ebaff11-3cc8-48f0-95fb-c5048d38589f",
   "metadata": {},
   "source": [
    "2. Find the critical t-value for a 95% confidence interval with (n-1) = (50-1) = 49 degrees of freedom (from a t-table or calculator).\n",
    "\n",
    "3. Calculate MOE:\n",
    "MOE=7.0711×2.0096≈14.164MOE=7.0711×2.0096≈14.164\n",
    "\n",
    "4. Construct the confidence interval:\n",
    "95% Confidence Interval=500±14.164 \n",
    "\n",
    "Now, calculate the lower and upper bounds of the confidence interval:\n",
    "\n",
    "Lower Bound: 500−14.164≈485.836500\n",
    "\n",
    "Upper Bound: 500+14.164≈514.164500\n",
    "\n",
    "So, the 95% confidence interval for the population mean revenue is approximately 485.84 doller to 514.16 doller. This means that you can be 95% confident that the true average daily revenue for the coffee shop falls within this range based on your sample data"
   ]
  },
  {
   "cell_type": "markdown",
   "id": "9b47ed86-5515-4fa5-b863-253acabd1793",
   "metadata": {},
   "source": [
    "## Q14. A researcher hypothesizes that a new drug will decrease blood pressure by 10 mmHg. They conduct a clinical trial with 100 patients and find that the sample mean decrease in blood pressure is 8 mmHg with a standard deviation of 3 mmHg. Test the hypothesis with a significance level of 0.05."
   ]
  },
  {
   "cell_type": "markdown",
   "id": "5f858502-724a-4ce6-915a-23cc058625a4",
   "metadata": {},
   "source": [
    "## Ans:"
   ]
  },
  {
   "cell_type": "markdown",
   "id": "9fcb9f96-eeaa-4df2-a67a-94886f2515a2",
   "metadata": {},
   "source": [
    "To test the hypothesis that the new drug decreases blood pressure by 10 mmHg with a significance level of 0.05, you can perform a one-sample t-test. Here are the steps:\n",
    "\n",
    "1. Formulate the Hypotheses:\n",
    "\n",
    "    Null Hypothesis (H0): The new drug has no effect, and the mean decrease in blood pressure is 10 mmHg.\n",
    "        H0: μ = 10 mmHg\n",
    "    Alternative Hypothesis (Ha): The new drug decreases blood pressure as hypothesized.\n",
    "        Ha: μ < 10 mmHg\n",
    "\n",
    "2. Set the Significance Level (α):\n",
    "\n",
    "    The significance level (α) is given as 0.05."
   ]
  },
  {
   "cell_type": "markdown",
   "id": "0197276a-05c5-461a-8ed1-3d3ef209e4e7",
   "metadata": {},
   "source": [
    "3. Collect and Prepare Data:\\\n",
    "Sample Mean ($\\bar{x}$): 8 mmHg\\\n",
    "Sample Standard Deviation (s): 3 mmHg\\\n",
    "Sample Size (n): 100"
   ]
  },
  {
   "cell_type": "markdown",
   "id": "ea382dfb-e9b2-49d6-94b4-10e1b3d02800",
   "metadata": {},
   "source": [
    "4. Perform the Hypothesis Test:\\\n",
    "Calculate the test statistic (t-statistic) using the formula for a one-sample t-test: \n",
    "\n",
    "$t = \\frac{\\bar{x}-\\mu}{\\frac{s}{\\sqrt{n}}}$"
   ]
  },
  {
   "cell_type": "markdown",
   "id": "3705d429-c00b-47ac-aed5-73ce2ec4bcdb",
   "metadata": {},
   "source": [
    "Calculate the degrees of freedom (df) which is n−1.\n",
    "\n",
    "    Find the critical t-value corresponding to the significance level (αα) and degrees of freedom (dfdf) using a t-table or calculator. Since this is a one-tailed test (alternative hypothesis is directional, μ < 10 mmHg), we'll look for the critical t-value for the left tail.\n",
    "\n",
    "Step 5: Make a Decision:\n",
    "\n",
    "    Compare the calculated t-statistic with the critical t-value.\\\n",
    "        If the t-statistic is less than the critical t-value, reject the null hypothesis.\\\n",
    "        If the t-statistic is greater than or equal to the critical t-value, fail to reject the null hypothesis.\n",
    "\n",
    "Step 6: Calculate the p-value (Optional):\n",
    "\n",
    "    Calculate the p-value associated with the t-statistic. If the p-value is less than αα, reject the null hypothesis.\n",
    "\n",
    "Step 7: Draw a Conclusion:\n",
    "\n",
    "    Based on the comparison or the p-value, make a conclusion regarding the null hypothesis.\\"
   ]
  },
  {
   "cell_type": "markdown",
   "id": "74e98465-40ee-4397-8ed2-4d64c76eda9d",
   "metadata": {},
   "source": [
    "Now, let's perform the calculations:\\\n",
    "Calculate the t-statistic:\\\n",
    "    $t = \\frac{8-10}{\\frac{3}{\\sqrt(100)}}$ =-6.67 "
   ]
  },
  {
   "cell_type": "markdown",
   "id": "0dd2ccfd-be16-4915-951b-67b6596ad968",
   "metadata": {},
   "source": [
    "Degrees of freedom (dfdf): n−1=100−1=99n−1=100−1=99\n",
    "\n",
    "    Find the critical t-value for a left-tailed test at α=0.05α=0.05 with 99 degrees of freedom. Using a t-table or calculator, you find that the critical t-value is approximately -1.6603.\n",
    "\n",
    "    Since the calculated t-statistic (−6.67−6.67) is less than the critical t-value (−1.6603−1.6603), we can reject the null hypothesis.\n",
    "\n",
    "Step 7: Conclusion:\n",
    "Based on the results of the t-test, at a significance level of 0.05, there is sufficient evidence to conclude that the new drug decreases blood pressure by more than 10 mmHg."
   ]
  },
  {
   "cell_type": "markdown",
   "id": "a90778d5-ab3c-468b-bc42-be7525157771",
   "metadata": {},
   "source": [
    "## Q15. An electronics company produces a certain type of product with a mean weight of 5 pounds and a standard deviation of 0.5 pounds. A random sample of 25 products is taken, and the sample mean weight is found to be 4.8 pounds. Test the hypothesis that the true mean weight of the products is less than 5 pounds with a significance level of 0.01."
   ]
  },
  {
   "cell_type": "markdown",
   "id": "988b2d45-b2ee-497f-8251-d75cf5fdce66",
   "metadata": {},
   "source": [
    "## Ans:"
   ]
  },
  {
   "cell_type": "markdown",
   "id": "0e1616f3-f869-4071-b71a-b0830373097c",
   "metadata": {},
   "source": [
    "Step 1: Formulate the Hypotheses:\n",
    "\n",
    "    Null Hypothesis (H0): The true mean weight of the products is equal to 5 pounds.\n",
    "        H0: μ = 5 pounds\n",
    "    Alternative Hypothesis (Ha): The true mean weight of the products is less than 5 pounds.\n",
    "        Ha: μ < 5 pounds\n",
    "\n",
    "Step 2: Set the Significance Level (α):\n",
    "\n",
    "    The significance level (α) is given as 0.01."
   ]
  },
  {
   "cell_type": "markdown",
   "id": "2bcf2da1-db14-40f8-a079-e6919050699e",
   "metadata": {},
   "source": [
    "Step 3: Collect and Prepare Data:\n",
    "\n",
    "Population Mean (μ): 5 pounds\\\n",
    "Population Standard Deviation (σ): 0.5 pounds\\\n",
    "Sample Size (n): 25\\\n",
    "Sample Mean ($\\bar{x}$): 4.8 pounds"
   ]
  },
  {
   "cell_type": "markdown",
   "id": "4f809bc5-831c-493b-9cab-7b72dbaa04f3",
   "metadata": {},
   "source": [
    "Step 4: Perform the Hypothesis Test:\\\n",
    "Calculate the test statistic (t-statistic) using the formula for a one-sample t-test:\\\n",
    "$t = \\frac{\\bar{x}-\\mu}{\\frac{s}{\\sqrt{n}}}$"
   ]
  },
  {
   "cell_type": "markdown",
   "id": "fae73067-a956-4be7-939d-8619a3f89ac6",
   "metadata": {},
   "source": [
    "Calculate the degrees of freedom (dfdf) which is n−1n−1.\n",
    "\n",
    "Find the critical t-value corresponding to the significance level (αα) and degrees of freedom (dfdf) using a t-table or calculator. Since this is a one-tailed test (alternative hypothesis is directional, μ < 5 pounds), we'll look for the critical t-value for the left tail.\n",
    "\n",
    "Step 5: Make a Decision:\n",
    "\n",
    "    Compare the calculated t-statistic with the critical t-value.\n",
    "        If the t-statistic is less than the critical t-value, reject the null hypothesis.\n",
    "        If the t-statistic is greater than or equal to the critical t-value, fail to reject the null hypothesis.\n",
    "\n",
    "Step 6: Calculate the p-value (Optional):\n",
    "\n",
    "    Calculate the p-value associated with the t-statistic. If the p-value is less than αα, reject the null hypothesis.\n",
    "\n",
    "Now, let's perform the calculations:"
   ]
  },
  {
   "cell_type": "markdown",
   "id": "b2494d83-b967-4c03-88b3-b413d2e40c5c",
   "metadata": {},
   "source": [
    "Calculate the t-statistic:\n",
    "\n",
    "  $t = \\frac{4.8-5}{\\frac{0.5}{\\sqrt(25)}}$ =-2 "
   ]
  },
  {
   "cell_type": "markdown",
   "id": "d324fa0e-9b9d-499d-9d7c-52676b300777",
   "metadata": {},
   "source": [
    "Degrees of freedom (dfdf): n−1=25−1=24n−1=25−1=24\n",
    "\n",
    "Find the critical t-value for a left-tailed test at α=0.01α=0.01 with 24 degrees of freedom. Using a t-table or calculator, you find that the critical t-value is approximately -2.4922.\n",
    "\n",
    "Since the calculated t-statistic (−2−2) is greater than the critical t-value (−2.4922−2.4922), we fail to reject the null hypothesis.\n",
    "\n",
    "Step 7: Conclusion:\n",
    "Based on the results of the t-test, at a significance level of 0.01, there is not sufficient evidence to conclude that the true mean weight of the products is less than 5 pounds."
   ]
  },
  {
   "cell_type": "markdown",
   "id": "7890dd74-de6a-4004-b220-09b13ffad496",
   "metadata": {},
   "source": [
    "## Q16. Two groups of students are given different study materials to prepare for a test. The first group (n1 = 30) has a mean score of 80 with a standard deviation of 10, and the second group (n2 = 40) has a mean score of 75 with a standard deviation of 8. Test the hypothesis that the population means for the two groups are equal with a significance level of 0.01."
   ]
  },
  {
   "cell_type": "markdown",
   "id": "cd787097-da4d-4c63-a048-6284c55a1bd7",
   "metadata": {},
   "source": [
    "## Ans:"
   ]
  },
  {
   "cell_type": "markdown",
   "id": "211bddf3-9afa-4be0-9e80-966fcddc8ec2",
   "metadata": {},
   "source": [
    "Step 1: Formulate the Hypotheses:\n",
    "\n",
    "    Null Hypothesis (H0): The population means for the two groups are equal.\n",
    "        H0: μ1 = μ2\n",
    "    Alternative Hypothesis (Ha): The population means for the two groups are not equal.\n",
    "        Ha: μ1 ≠ μ2\n",
    "\n",
    "Step 2: Set the Significance Level (α):\n",
    "\n",
    "    The significance level (α) is given as 0.01.\n",
    "\n",
    "Step 3: Collect and Prepare Data:"
   ]
  },
  {
   "cell_type": "markdown",
   "id": "a8d667d7-801c-42f8-bcb7-b341eae28159",
   "metadata": {},
   "source": [
    "Group 1 (n1):\\\n",
    "Sample Mean ($\\bar{x_{1}}$): 80\\\n",
    "Sample Standard Deviation ($s_{1}$): 10\\\n",
    "Sample Size ($n_{1}$): 30\\\n",
    "Group 2 (n2):\\\n",
    "Sample Mean ($\\bar{x_{2}}$): 75\\\n",
    "Sample Standard Deviation ($s_{2}$): 8\\\n",
    "Sample Size ($n_{2}$): 40"
   ]
  },
  {
   "cell_type": "markdown",
   "id": "a420ea6b-380f-4d35-98dc-99d72c263ca2",
   "metadata": {},
   "source": [
    "Step 4: Perform the Hypothesis Test:\n",
    "\n",
    "Calculate the pooled standard error (SE) using the formula:\n",
    "\n",
    "$SE=\\sqrt{\\frac{s_{1}^{2}}{n_{1}}+\\frac{s_{2}^{2}}{n_{2}}}$"
   ]
  },
  {
   "cell_type": "markdown",
   "id": "9e8a4006-44ba-4f8b-9406-0b671a43490b",
   "metadata": {},
   "source": [
    "Calculate the test statistic (t-statistic) using the formula for an independent two-sample t-test:\n",
    "\n",
    "$t=\\frac{\\bar{x_{1}}-\\bar{x_{2}}}{SE}$"
   ]
  },
  {
   "cell_type": "markdown",
   "id": "14a4f119-8c3f-4a21-8735-3a92d196a7cc",
   "metadata": {},
   "source": [
    "Calculate the degrees of freedom (df) using the formula for the degrees of freedom in a pooled t-test:\\\n",
    "$df = \\frac{\\left(\\frac{s_{1}^{2}}{n_{1}}+\\frac{s_{2}^{2}}{n_{2}}\\right)^{2}}{\\frac{\\left(\\frac{s_{1}^{2}}{n_{1}}\\right)^{2}}{n_{1}-1}+\\frac{\\left(\\frac{s_{2}^{2}}{n_{2}}\\right)^{2}}{n_{2}-1}}$"
   ]
  },
  {
   "cell_type": "markdown",
   "id": "cc9e1b9e-0812-4e8b-8275-d3ece7f18c18",
   "metadata": {},
   "source": [
    "Step 5: Make a Decision:\n",
    "\n",
    "    Compare the calculated t-statistic with the critical t-value.\n",
    "        If the absolute value of the t-statistic is greater than the critical t-value, reject the null hypothesis.\n",
    "        If the absolute value of the t-statistic is less than or equal to the critical t-value, fail to reject the null hypothesis."
   ]
  },
  {
   "cell_type": "markdown",
   "id": "10ce6cf4-9438-433c-b11e-94f9b21d6312",
   "metadata": {},
   "source": [
    "Step 6: Calculate the p-value (Optional):\n",
    "\n",
    "    Calculate the p-value associated with the t-statistic. If the p-value is less than αα, reject the null hypothesis.\n",
    "\n",
    "Now, let's perform the calculations:"
   ]
  },
  {
   "cell_type": "markdown",
   "id": "70888041-ca3a-46a8-abd7-41f0dd38a163",
   "metadata": {},
   "source": [
    "Calculate the pooled standard error (SE):\\\n",
    "$SE=\\sqrt{\\frac{10^{2}}{30}+\\frac{8^{2}}{40}}\\approx2.52$"
   ]
  },
  {
   "cell_type": "markdown",
   "id": "251ce45a-d63f-42c2-9e4e-2d74caee8765",
   "metadata": {},
   "source": [
    "Calculate the t-statistic:\\\n",
    "$t=\\frac{80-75}{2.52}\\approx 1.984$"
   ]
  },
  {
   "cell_type": "markdown",
   "id": "40a113ed-824b-4499-9f68-44773e9e3650",
   "metadata": {},
   "source": [
    "Calculate the degrees of freedom (df):\\\n",
    "$df = \\frac{\\left(\\frac{10^{2}}{30}+\\frac{8^{2}}{40}\\right)^{2}}{\\frac{\\left(\\frac{10^{2}}{30}\\right)^{2}}{30-1}+\\frac{\\left(\\frac{8^{2}}{40}\\right)^{2}}{40-1}}\\approx 67.75$"
   ]
  },
  {
   "cell_type": "markdown",
   "id": "7b1d92ff-e26e-4a2a-8701-f5a4a03a01c5",
   "metadata": {},
   "source": [
    "Find the critical t-value for a two-tailed test at α=0.01α=0.01 and df=67.75df=67.75. Using a t-table or calculator, you find that the critical t-value is approximately ±2.634±2.634."
   ]
  },
  {
   "cell_type": "markdown",
   "id": "5f9d8fc0-5e98-4bbb-9424-46c5d53b104a",
   "metadata": {},
   "source": [
    "Step 5: Make a Decision:\n",
    "\n",
    "    The calculated t-statistic (1.9841.984) is less than the critical t-value (2.6342.634) in absolute value.\n",
    "\n",
    "Step 6: Conclusion:\n",
    "Based on the results of the t-test, at a significance level of 0.010.01, there is not sufficient evidence to conclude that the population means for the two groups are different. Therefore, we fail to reject the null hypothesis that the population means are equal."
   ]
  },
  {
   "cell_type": "markdown",
   "id": "159b52ea-b801-4e36-bf89-a6da65c9702b",
   "metadata": {},
   "source": [
    "## Q17. A marketing company wants to estimate the average number of ads watched by viewers during a TV program. They take a random sample of 50 viewers and find that the sample mean is 4 with a standard deviation of 1.5. Estimate the population mean with a 99% confidence interval."
   ]
  },
  {
   "cell_type": "markdown",
   "id": "acc2f3cd-2b1d-4dda-87fa-2e846cb324b5",
   "metadata": {},
   "source": [
    "## Ans:"
   ]
  },
  {
   "cell_type": "markdown",
   "id": "b682cb39-aea3-4f56-a2e9-12f926c1a7dc",
   "metadata": {},
   "source": [
    "Step 1: Collect and Prepare Data:\n",
    "\n",
    "Sample Mean ($\\bar{x}$): 4\\\n",
    "Sample Standard Deviation (s): 1.5\\\n",
    "Sample Size (n): 50"
   ]
  },
  {
   "cell_type": "markdown",
   "id": "59537507-93ba-449d-ba10-528ecd4cefde",
   "metadata": {},
   "source": [
    "Step 2: Set the Confidence Level (1 - α):\n",
    "\n",
    "The confidence level is given as 99%, which corresponds to α = 0.01. Since this is a two-tailed confidence interval, we'll split α into two equal parts, so α/2 = 0.005 for each tail.\n",
    "\n",
    "To estimate the population mean with a 99% confidence interval, you can use the formula for a confidence interval when the population standard deviation is known. Here are the steps:\n",
    "\n",
    "Step 1: Collect and Prepare Data:\n",
    "\n",
    "Sample Mean ($\\bar{x}$): 4\\\n",
    "Sample Standard Deviation (s): 1.5\\\n",
    "Sample Size (n): 50\n",
    "\n",
    "Step 2: Set the Confidence Level (1 - α):\n",
    "\n",
    "The confidence level is given as 99%, which corresponds to α = 0.01. Since this is a two-tailed confidence interval, we'll split α into two equal parts, so α/2 = 0.005 for each tail.\n",
    "\n",
    "Step 3: Find the Critical Z-Value:\n",
    "\n",
    "You'll need the critical z-value for a 99% confidence interval. You can find this value using a standard normal distribution table or a calculator. For a 99% confidence interval, the critical z-value is approximately ±2.576."
   ]
  },
  {
   "cell_type": "markdown",
   "id": "a3dedce4-ab33-48c1-bf13-bc8f1d2d7bb3",
   "metadata": {},
   "source": [
    "Step 4: Calculate the Margin of Error (MOE):\n",
    "\n",
    "The margin of error is given by:\n",
    "$MOE=Z_{α/2}\\left(\\frac{s}{\\sqrt{n}}\\right)$"
   ]
  },
  {
   "cell_type": "markdown",
   "id": "63a88a91-cd28-4892-afd0-a5484942f056",
   "metadata": {},
   "source": [
    "Where:\n",
    "\n",
    "$Z_{α/2}$ is the critical z-value for α/2.\\\n",
    "s is the sample standard deviation.\\\n",
    "n is the sample size."
   ]
  },
  {
   "cell_type": "markdown",
   "id": "00adc25b-f2d2-4c0d-bcca-b84b98e37ec1",
   "metadata": {},
   "source": [
    "Step 5: Construct the Confidence Interval:\n",
    "\n",
    "    The confidence interval can be constructed as follows:\n",
    "    Confidence Interval=(xˉ−MOE,xˉ+MOE)\n",
    "\n",
    "Now, let's perform the calculations:"
   ]
  },
  {
   "cell_type": "markdown",
   "id": "f8405a03-ebaf-415c-b316-85cd92419e48",
   "metadata": {},
   "source": [
    "Step 4: Calculate the Margin of Error (MOE):\n",
    "$MOE=2.576\\left(\\frac{1.5}{\\sqrt{50}}\\right)\\approx0.529$"
   ]
  },
  {
   "cell_type": "markdown",
   "id": "0f2a1573-af08-40f5-9a38-b34883adc874",
   "metadata": {},
   "source": [
    "Step 5: Construct the Confidence Interval:\n",
    "99% Confidence Interval=(4−0.529,4+0.529)≈(3.471,4.529)\n",
    "\n",
    "So, the 99% confidence interval for the average number of ads watched by viewers during a TV program is approximately 3.471 to 4.529. This means that we can be 99% confident that the true population mean falls within this range based on the sample data."
   ]
  }
 ],
 "metadata": {
  "kernelspec": {
   "display_name": "Python 3 (ipykernel)",
   "language": "python",
   "name": "python3"
  },
  "language_info": {
   "codemirror_mode": {
    "name": "ipython",
    "version": 3
   },
   "file_extension": ".py",
   "mimetype": "text/x-python",
   "name": "python",
   "nbconvert_exporter": "python",
   "pygments_lexer": "ipython3",
   "version": "3.10.8"
  }
 },
 "nbformat": 4,
 "nbformat_minor": 5
}

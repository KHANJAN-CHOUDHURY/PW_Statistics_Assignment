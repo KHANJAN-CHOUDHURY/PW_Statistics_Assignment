{
 "cells": [
  {
   "cell_type": "markdown",
   "id": "21971ae2-6999-4ddf-b4e2-4fb2f0eedbaa",
   "metadata": {},
   "source": [
    "## Q1. Explain the assumptions required to use ANOVA and provide examples of violations that could impact the validity of the results."
   ]
  },
  {
   "cell_type": "markdown",
   "id": "9bba218c-2c13-4a96-a5a9-9c3f3b62cc67",
   "metadata": {},
   "source": [
    "## Ans:"
   ]
  },
  {
   "cell_type": "markdown",
   "id": "e83b923f-c034-44a9-9197-a21bd915a78a",
   "metadata": {},
   "source": [
    "1. Independence:\\\n",
    "        Assumption: Observations within and between groups must be independent. This means that the values in one group should not be related to or influence the values in another group.\\\n",
    "        Violation Example: In a study comparing the exam scores of students from different schools, if students from one school collaborate and share answers, the independence assumption is violated.\n",
    "\n",
    "2. Normality:\\\n",
    "        Assumption: The residuals (the differences between observed values and group means) should be approximately normally distributed within each group. Normality is important for the accuracy of p-values and confidence intervals.\\\n",
    "        Violation Example: If the residuals within a group do not follow a normal distribution and are highly skewed or exhibit heavy tails, ANOVA results may be unreliable. This can occur if the sample size is very small or if the data is inherently non-normal.\n",
    "\n",
    "3. Homogeneity of Variance (Homoscedasticity):\\\n",
    "        Assumption: The variances of the groups should be approximately equal. In other words, the spread or dispersion of the data within each group should be roughly the same.\\\n",
    "        Violation Example: If one group has a much larger variance than others, ANOVA may be less reliable. For instance, if you're comparing the test scores of students across different grades, and the variability in scores within one grade is much larger than in others, it violates the homogeneity of variance assumption.\n",
    "\n",
    "4. Interval or Ratio Data:\\\n",
    "        Assumption: ANOVA is most appropriate for interval or ratio data. It assumes that the dependent variable is measured on a continuous scale.\\\n",
    "        Violation Example: If you're comparing the performance of different teams in a sports competition using ANOVA, and the outcome variable is categorical (e.g., win or lose), ANOVA is not suitable.\n",
    "\n",
    "5. Equal Sample Sizes (for one-way ANOVA):\\\n",
    "        Assumption: In a one-way ANOVA (comparing means of multiple groups within a single independent variable), it's assumed that the sample sizes are equal across groups.\\\n",
    "        Violation Example: If you have significantly different sample sizes in your groups, it can affect the validity of the ANOVA results. Unequal sample sizes can lead to biased results.\n",
    "\n",
    "6. Random Sampling:\\\n",
    "        Assumption: The samples from each group are obtained through random sampling methods, ensuring that they are representative of the populations or conditions being studied.\\\n",
    "        Violation Example: If, in a clinical trial, patients are not randomly assigned to treatment groups but are instead self-selected, the assumption of random sampling is violated."
   ]
  },
  {
   "cell_type": "markdown",
   "id": "393c1c93-bc84-43f5-b54f-4dd76273fb91",
   "metadata": {},
   "source": [
    "## Q2. What are the three types of ANOVA, and in what situations would each be used?"
   ]
  },
  {
   "cell_type": "markdown",
   "id": "ae0a3da3-ce37-483f-9e7a-3bd65ce2ceac",
   "metadata": {},
   "source": [
    "## Ans:"
   ]
  },
  {
   "cell_type": "markdown",
   "id": "6dcdd50f-408b-413e-87d2-f137da4c625f",
   "metadata": {},
   "source": [
    "1. One-Way ANOVA:\\\n",
    "        Situation: Use one-way ANOVA when you have one independent variable with more than two levels or groups, and you want to test if there are significant differences in the means of these groups.\\\n",
    "        Example: A researcher wants to determine if there is a significant difference in the average test scores of students from three different schools (School A, School B, and School C).\n",
    "\n",
    "2. Two-Way ANOVA:\\\n",
    "        Situation: Use two-way ANOVA when you have two independent variables, and you want to examine how they interact and influence the dependent variable. Two-way ANOVA can assess both the main effects of each independent variable and their interaction effect.\\\n",
    "        Example: A pharmaceutical company wants to study the effects of two factors, drug type (A or B) and dosage (low or high), on blood pressure reduction. They want to know if there are main effects of drug type, dosage, and if there's an interaction effect between them.\n",
    "\n",
    "3. Repeated Measures ANOVA:\\\n",
    "        Situation: Use repeated measures ANOVA when you have a single group of participants or subjects that are measured under multiple conditions or at different time points. This is used when the same individuals are measured repeatedly.\\\n",
    "        Example: A psychologist wants to assess the impact of a new therapy on the anxiety levels of patients over time. She measures the anxiety levels of each patient before therapy, immediately after therapy, and then at 1-month, 3-month, and 6-month follow-up sessions."
   ]
  },
  {
   "cell_type": "markdown",
   "id": "bd8fc5e0-9bde-4760-bb02-0832add61e45",
   "metadata": {},
   "source": [
    "## Q3. What is the partitioning of variance in ANOVA, and why is it important to understand this concept?"
   ]
  },
  {
   "cell_type": "markdown",
   "id": "a2bf9b89-a0c6-4ef8-b0d9-dc921878d8e0",
   "metadata": {},
   "source": [
    "## Ans:"
   ]
  },
  {
   "cell_type": "markdown",
   "id": "d4b91f7d-f366-402e-a10d-fd6a40a38bbf",
   "metadata": {},
   "source": [
    "The partitioning of variance in Analysis of Variance (ANOVA) refers to the division of the total variance in the data into different components that can be attributed to various sources or factors. Understanding this concept is crucial in ANOVA because it helps researchers determine the contributions of different factors to the overall variation in the dependent variable, which is essential for drawing meaningful conclusions from the analysis. The partitioning of variance in ANOVA can be summarized into three main components:\n",
    "\n",
    "1. Between-Groups Variance (SSB):\\\n",
    "        This component of variance represents the variability in the data that is due to differences between the group means. It measures how much the means of different groups or conditions differ from each other.\\\n",
    "        SSB reflects the effect of the independent variable(s) on the dependent variable. In other words, it quantifies the impact of the factor(s) being studied.\\\n",
    "        High SSB relative to the total variance suggests that there are significant differences between groups, which supports the hypothesis that the independent variable has an effect.\n",
    "\n",
    "2. Within-Groups Variance (SSW or SSE):\\\n",
    "        This component of variance accounts for the variability within each group or condition. It represents the natural variation or noise within each group.\\\n",
    "        SSW or SSE reflects the variability in the data that is not explained by the independent variable(s) but rather arises from other sources of variation or measurement error.\\\n",
    "        High SSW or SSE relative to the total variance suggests that there is a significant amount of unexplained variability within the groups.\n",
    "\n",
    "3. Total Variance (SST):\\\n",
    "        The total variance is the sum of the between-groups variance (SSB) and the within-groups variance (SSW or SSE).\\\n",
    "        SST represents the overall variability in the dependent variable across all groups or conditions in the study.\\\n",
    "        It serves as a baseline against which the contributions of the independent variable(s) can be compared.\n",
    "\n",
    "The ratio of between-groups variance (SSB) to within-groups variance (SSW or SSE) is used to compute the F-statistic in ANOVA. A high F-statistic suggests that the differences between group means are more significant relative to the variability within groups, indicating a higher likelihood of a statistically significant effect of the independent variable(s).\n",
    "\n",
    "Understanding the partitioning of variance in ANOVA is essential for several reasons:\n",
    "\n",
    "1. Interpretation: It helps researchers interpret the significance of the independent variable(s) and determine if there are meaningful differences between groups or conditions.\n",
    "\n",
    "2. Hypothesis Testing: It provides the basis for hypothesis testing in ANOVA, allowing researchers to assess whether the observed differences between groups are statistically significant.\n",
    "\n",
    "3. Effect Size: It allows researchers to calculate effect size measures, such as eta-squared (η²) or partial eta-squared (η²p), which quantify the proportion of variance in the dependent variable explained by the independent variable(s).\n",
    "\n",
    "4. Model Assessment: It helps in model selection and assessing the adequacy of the ANOVA model in explaining the observed data."
   ]
  },
  {
   "cell_type": "markdown",
   "id": "e5d3246c-bc54-42ac-ba61-b18829f0a9c5",
   "metadata": {},
   "source": [
    "## Q4. How would you calculate the total sum of squares (SST), explained sum of squares (SSE), and residual sum of squares (SSR) in a one-way ANOVA using Python?"
   ]
  },
  {
   "cell_type": "markdown",
   "id": "f2961025-dfbf-493a-a821-7acb31d0163f",
   "metadata": {},
   "source": [
    "## Ans:"
   ]
  },
  {
   "cell_type": "code",
   "execution_count": 1,
   "id": "b7d2229e-3c30-400b-95fb-6771197e8dbc",
   "metadata": {},
   "outputs": [],
   "source": [
    "import numpy as np\n",
    "from scipy import stats\n",
    "# Example data for three groups\n",
    "group1 = [45, 50, 55, 60, 65]\n",
    "group2 = [55, 58, 63, 68, 70]\n",
    "group3 = [40, 42, 48, 52, 56]\n"
   ]
  },
  {
   "cell_type": "code",
   "execution_count": 2,
   "id": "f4dbd8c3-ba8f-4db1-a7e8-4d3ddce80c0a",
   "metadata": {},
   "outputs": [],
   "source": [
    "# Combine all data into a single array\n",
    "all_data = np.concatenate((group1, group2, group3))\n",
    "\n",
    "# Calculate the overall mean (grand mean)\n",
    "grand_mean = np.mean(all_data)\n",
    "\n",
    "# Calculate SST\n",
    "sst = np.sum((all_data - grand_mean)**2)\n",
    "\n",
    "# Calculate the group means\n",
    "mean_group1 = np.mean(group1)\n",
    "mean_group2 = np.mean(group2)\n",
    "mean_group3 = np.mean(group3)\n",
    "\n",
    "# Calculate SSE\n",
    "sse = np.sum((group1 - mean_group1)**2) + np.sum((group2 - mean_group2)**2) + np.sum((group3 - mean_group3)**2)"
   ]
  },
  {
   "cell_type": "code",
   "execution_count": 3,
   "id": "0c1e1597-a3d5-48bc-9ef7-3cfe4a2caf88",
   "metadata": {},
   "outputs": [
    {
     "name": "stdout",
     "output_type": "stream",
     "text": [
      "F-statistic: 5.855405405405405\n",
      "p-value: 0.01680385961093527\n"
     ]
    }
   ],
   "source": [
    "# Calculate SSR\n",
    "ssr = sst - sse\n",
    "# Perform one-way ANOVA\n",
    "f_statistic, p_value = stats.f_oneway(group1, group2, group3)\n",
    "\n",
    "# Print the results\n",
    "print(\"F-statistic:\", f_statistic)\n",
    "print(\"p-value:\", p_value)"
   ]
  },
  {
   "cell_type": "markdown",
   "id": "51b67c07-fb55-485d-9d22-3b8aec3c5391",
   "metadata": {},
   "source": [
    "## Q5. In a two-way ANOVA, how would you calculate the main effects and interaction effects using Python?"
   ]
  },
  {
   "cell_type": "markdown",
   "id": "c4876825-bb0c-4086-a513-8afd8136fd49",
   "metadata": {},
   "source": [
    "## Ans:"
   ]
  },
  {
   "cell_type": "code",
   "execution_count": 4,
   "id": "436d4fbd-bd4c-4b86-a156-6eb83790a539",
   "metadata": {},
   "outputs": [],
   "source": [
    "import numpy as np\n",
    "import pandas as pd\n",
    "from scipy import stats\n",
    "\n",
    "# Create a DataFrame with your data\n",
    "data = pd.DataFrame({\n",
    "    'Factor1': ['A', 'A', 'A', 'B', 'B', 'B', 'C', 'C', 'C'],\n",
    "    'Factor2': ['X', 'Y', 'Z', 'X', 'Y', 'Z', 'X', 'Y', 'Z'],\n",
    "    'DependentVar': [10, 12, 14, 20, 22, 24, 30, 32, 34]\n",
    "})"
   ]
  },
  {
   "cell_type": "code",
   "execution_count": 5,
   "id": "9723d840-38d2-44d3-b548-6b8059881078",
   "metadata": {},
   "outputs": [],
   "source": [
    "# Calculate the group means for Factor1\n",
    "group_means_Factor1 = data.groupby('Factor1')['DependentVar'].mean()\n",
    "\n",
    "# Calculate the main effect of Factor1\n",
    "main_effect_Factor1 = group_means_Factor1.max() - group_means_Factor1.min()\n",
    "# Calculate the interaction effect\n",
    "interaction_data = data.pivot_table(values='DependentVar', index='Factor1', columns='Factor2', aggfunc='mean')\n",
    "interaction_effect = stats.f_oneway(*[interaction_data[col] for col in interaction_data.columns]).statistic"
   ]
  },
  {
   "cell_type": "markdown",
   "id": "403b0c95-5f31-4b65-b61d-cd82c2c77de0",
   "metadata": {},
   "source": [
    "    Now you have the main effects (main_effect_Factor1 and main_effect_Factor2) and the interaction effect (interaction_effect). These values can help you assess the impact of each factor and the interaction between them.\n",
    "\n",
    "    You can also perform hypothesis tests to determine the statistical significance of these effects using scipy.stats.f_oneway() or other appropriate statistical tests depending on your data and assumptions."
   ]
  },
  {
   "cell_type": "markdown",
   "id": "f9fa71b3-00ee-44d5-965c-0655f2785c20",
   "metadata": {},
   "source": [
    "## Q6. Suppose you conducted a one-way ANOVA and obtained an F-statistic of 5.23 and a p-value of 0.02. What can you conclude about the differences between the groups, and how would you interpret these results?"
   ]
  },
  {
   "cell_type": "markdown",
   "id": "e6b3396f-a060-4f9b-8cf7-f1aad28c22df",
   "metadata": {},
   "source": [
    "## Ans:"
   ]
  },
  {
   "cell_type": "markdown",
   "id": "62a4be4f-b239-41c7-8e46-d1a07d1880f9",
   "metadata": {},
   "source": [
    "In a one-way ANOVA, the F-statistic is used to test whether there are statistically significant differences among the means of three or more groups. The associated p-value helps determine the significance of these differences. Here's how to interpret the results provided:\n",
    "\n",
    "    F-Statistic (5.23):\n",
    "        The F-statistic is a test statistic that quantifies the ratio of the variance between groups (explained variance) to the variance within groups (unexplained variance).\n",
    "        In our case, an F-statistic of 5.23 suggests that there is some variability between the group means. However, it doesn't tell us whether this variability is statistically significant on its own.\n",
    "\n",
    "    P-Value (0.02):\n",
    "        The p-value is the probability of obtaining an F-statistic as extreme as the one calculated from our data, assuming that there are no significant differences between the group means (i.e., assuming the null hypothesis is true).\n",
    "        A small p-value (typically less than the chosen significance level, often 0.05) indicates that the observed differences among group means are statistically significant.\n",
    "\n",
    "Now, let's interpret these results:\n",
    "\n",
    "    With an F-statistic of 5.23 and a p-value of 0.02, we have evidence to reject the null hypothesis.\n",
    "\n",
    "    Conclusion: There are statistically significant differences between at least two of the groups in our dataset.\n",
    "\n",
    "    Further Analysis: To determine which specific groups are different from each other, we may need to perform post-hoc tests or pairwise comparisons (e.g., Tukey's HSD, Bonferroni, or Scheffé tests) to identify where the significant differences lie."
   ]
  },
  {
   "cell_type": "markdown",
   "id": "12d0f70e-0adb-40dd-b712-dd9ecd1430a2",
   "metadata": {},
   "source": [
    "## Q7. In a repeated measures ANOVA, how would you handle missing data, and what are the potential consequences of using different methods to handle missing data?"
   ]
  },
  {
   "cell_type": "markdown",
   "id": "76581998-7f75-4e56-a13f-201c7b76e82c",
   "metadata": {},
   "source": [
    "## Ans:"
   ]
  },
  {
   "cell_type": "markdown",
   "id": "94b25f2b-15d9-499f-b27d-3a2e51978f0b",
   "metadata": {},
   "source": [
    "1. Listwise Deletion (Complete Case Analysis):\\\n",
    "        Method: In this approach, you remove any subjects or cases with missing data for any time point or condition from the analysis. Only complete cases are included.\\\n",
    "        Consequences:\\\n",
    "            Pros: It's straightforward and retains cases with complete data.\\\n",
    "            Cons: Reduces sample size, potentially leading to reduced statistical power and less generalizable results. If data is missing not at random (MNAR), this method can introduce bias.\n",
    "\n",
    "2. Pairwise Deletion (Available Case Analysis):\\\n",
    "        Method: Pairwise deletion retains cases with missing data for specific time points or conditions but uses available data for each specific comparison. The ANOVA is run separately for each pair of time points or conditions.\\\n",
    "        Consequences:\\\n",
    "            Pros: Uses all available data, maximizing sample size for each specific comparison.\\\n",
    "            Cons: Can lead to an increased likelihood of Type I errors due to multiple testing. May not account for the overall pattern of missing data, potentially leading to biased results.\n",
    "\n",
    "3. Imputation Methods:\\\n",
    "        Methods: Imputation involves estimating missing values using various statistical techniques, such as mean imputation, median imputation, regression imputation, or multiple imputation.\\\n",
    "        Consequences:\\\n",
    "            Pros: Retains sample size, provides more complete datasets for analysis, and can reduce bias if the imputation model is appropriate.\\\n",
    "            Cons: Imputation introduces uncertainty, as the imputed values are estimates. The choice of imputation method can impact results. If the missing data mechanism is not correctly modeled, imputation can introduce bias.\n",
    "\n",
    "4. Mixed-Design Models:\\\n",
    "        Method: Mixed-design models, including mixed-effects ANOVA and linear mixed-effects models (LMM), can handle missing data by estimating parameters for each subject while accounting for the missing data pattern.\\\n",
    "        Consequences:\\\n",
    "            Pros: Retains all available data, provides unbiased estimates if the assumptions of the model are met, and does not require imputation.\\\n",
    "            Cons: Requires more complex modeling, assumptions about the missing data mechanism, and may be computationally intensive."
   ]
  },
  {
   "cell_type": "markdown",
   "id": "96f3ac26-7940-4029-94e4-3baa86d6fc6e",
   "metadata": {},
   "source": [
    "## Q8. What are some common post-hoc tests used after ANOVA, and when would you use each one? Provide an example of a situation where a post-hoc test might be necessary."
   ]
  },
  {
   "cell_type": "markdown",
   "id": "2cca7f83-0df3-477e-b73c-964ea8466946",
   "metadata": {},
   "source": [
    "## Ans:"
   ]
  },
  {
   "cell_type": "markdown",
   "id": "18e5c5c4-f0d7-42b2-bea8-36d358812fde",
   "metadata": {},
   "source": [
    "Post-hoc tests are used after conducting an Analysis of Variance (ANOVA) to make pairwise comparisons between groups when the ANOVA indicates that there are significant differences among the groups. These tests help identify which specific group(s) differ from each other. There are several common post-hoc tests, each with its own purpose and assumptions. Here are some common post-hoc tests and when you might use each one:\n",
    "\n",
    "    Tukey's Honestly Significant Difference (HSD):\n",
    "        Purpose: Tukey's HSD is used to compare all possible pairs of group means while controlling for the familywise error rate. It is conservative and suitable when you have a large number of groups.\n",
    "        Example: Suppose you conducted a one-way ANOVA to compare the mean test scores of students from five different schools, and the ANOVA indicated significant differences among the schools. You would use Tukey's HSD to determine which schools have significantly different mean scores.\n",
    "\n",
    "    Bonferroni Correction:\n",
    "        Purpose: Bonferroni correction adjusts the significance level (alpha) for each pairwise comparison to control the familywise error rate. It is conservative and suitable when you have a small number of pairwise comparisons.\n",
    "        Example: If you're conducting multiple pairwise comparisons after an ANOVA, and you want to ensure a familywise error rate of 0.05, you would set the alpha level for each individual comparison to 0.05 divided by the number of comparisons (e.g., 0.05 / 10 comparisons = 0.005).\n",
    "\n",
    "    Duncan's Multiple Range Test (MRT):\n",
    "        Purpose: Duncan's MRT is used for comparing all pairs of group means but is less conservative than Tukey's HSD. It is suitable when you have unequal sample sizes and are primarily interested in identifying significant differences.\n",
    "        Example: In a study comparing the yield of three different fertilizer treatments on various crop types, Duncan's MRT could be used to determine which treatments result in significantly different yields.\n",
    "\n",
    "    Scheffé's Test:\n",
    "        Purpose: Scheffé's test is a conservative post-hoc test that can be used for comparing all pairs of group means while controlling for familywise error rate. It is robust and suitable for situations where assumptions of equal variances or equal sample sizes are violated.\n",
    "        Example: When conducting a one-way ANOVA on the effects of different diets on weight loss, if you have unequal sample sizes or suspect unequal variances, Scheffé's test can be used for pairwise comparisons.\n",
    "\n",
    "    Holm-Bonferroni Method:\n",
    "        Purpose: The Holm-Bonferroni method is a step-down procedure that adjusts p-values for multiple comparisons while controlling the familywise error rate. It is less conservative than Bonferroni but still controls the overall Type I error.\n",
    "        Example: In a clinical trial comparing the effectiveness of multiple drug treatments, you can use the Holm-Bonferroni method to assess which treatments result in significantly different outcomes.\n",
    "\n",
    "    Games-Howell Test:\n",
    "        Purpose: The Games-Howell test is a non-parametric post-hoc test that can be used when the assumptions of homogeneity of variances and normality are violated. It is appropriate for unequal sample sizes and variances.\n",
    "        Example: If you conducted a one-way ANOVA to compare the reading speeds of individuals from different age groups and found that the assumptions of equal variances and normality were not met, you might use the Games-Howell test to perform pairwise comparisons."
   ]
  },
  {
   "cell_type": "markdown",
   "id": "d9e36d39-8c1e-4c0f-a906-12d92eaefd22",
   "metadata": {},
   "source": [
    "## Q9. A researcher wants to compare the mean weight loss of three diets: A, B, and C. They collect data from 50 participants who were randomly assigned to one of the diets. Conduct a one-way ANOVA using Python to determine if there are any significant differences between the mean weight loss of the three diets. Report the F-statistic and p-value, and interpret the results."
   ]
  },
  {
   "cell_type": "markdown",
   "id": "0a5d5d58-fe57-4423-93d3-adfa4d5dca75",
   "metadata": {},
   "source": [
    "## Ans:"
   ]
  },
  {
   "cell_type": "code",
   "execution_count": 6,
   "id": "733a2672-5f3c-45a0-b932-b9e0f8153768",
   "metadata": {},
   "outputs": [
    {
     "name": "stdout",
     "output_type": "stream",
     "text": [
      "F-statistic: 182.4082433758585\n",
      "p-value: 6.50436785764553e-29\n"
     ]
    }
   ],
   "source": [
    "import numpy as np\n",
    "import scipy.stats as stats\n",
    "# Sample data for each diet group\n",
    "diet_A = [2.1, 1.9, 1.8, 2.2, 2.0, 2.4, 1.7, 1.9, 2.1, 2.3, 2.2, 2.0, 2.1, 1.8, 2.3, 2.4, 2.0, 2.1, 1.9, 2.2, 2.0, 2.3, 2.2, 2.1, 1.8]\n",
    "diet_B = [1.5, 1.7, 1.6, 1.8, 1.9, 1.7, 1.6, 1.8, 1.9, 1.5, 1.7, 1.6, 1.8, 1.9, 1.5, 1.7, 1.6, 1.8, 1.9, 1.5, 1.7, 1.6, 1.8, 1.9, 1.5]\n",
    "diet_C = [1.2, 1.3, 1.4, 1.2, 1.3, 1.1, 1.2, 1.3, 1.4, 1.2, 1.3, 1.4, 1.2, 1.3, 1.1, 1.2, 1.3, 1.4, 1.2, 1.3, 1.4, 1.2, 1.3, 1.1, 1.2]\n",
    "# Combine the data into a single array\n",
    "all_data = np.concatenate([diet_A, diet_B, diet_C])\n",
    "\n",
    "# Create a grouping variable for the diets\n",
    "groups = ['A'] * len(diet_A) + ['B'] * len(diet_B) + ['C'] * len(diet_C)\n",
    "\n",
    "# Perform one-way ANOVA\n",
    "f_statistic, p_value = stats.f_oneway(diet_A, diet_B, diet_C)\n",
    "\n",
    "# Print the results\n",
    "print(\"F-statistic:\", f_statistic)\n",
    "print(\"p-value:\", p_value)"
   ]
  },
  {
   "cell_type": "markdown",
   "id": "9a6aa1af-d281-47d6-a8ef-daed19e2c390",
   "metadata": {},
   "source": [
    "    Interpret the results:\n",
    "        The F-statistic tests whether there are significant differences in mean weight loss among the three diet groups.\n",
    "        The p-value represents the probability of obtaining an F-statistic as extreme as the one calculated, assuming no significant differences exist.\n",
    "\n",
    "In your output, you will see the F-statistic and p-value. To determine whether there are significant differences between the diets, you compare the p-value to a significance level (e.g., 0.05). If the p-value is less than your chosen significance level, you can conclude that there are significant differences between at least two of the diet groups.\n",
    "\n",
    "For instance, if the p-value is less than 0.05 (p < 0.05), you can interpret it as follows:\n",
    "\n",
    "    Conclusion: There are statistically significant differences in mean weight loss among the three diets (A, B, and C)."
   ]
  },
  {
   "cell_type": "markdown",
   "id": "9df292ca-2c8b-48f3-80ab-e328b8d113a6",
   "metadata": {},
   "source": [
    "## Q10. A company wants to know if there are any significant differences in the average time it takes to complete a task using three different software programs: Program A, Program B, and Program C. They randomly assign 30 employees to one of the programs and record the time it takes each employee to complete the task. Conduct a two-way ANOVA using Python to determine if there are any main effects or interaction effects between the software programs and employee experience level (novice vs. experienced). Report the F-statistics and p-values, and interpret the results."
   ]
  },
  {
   "cell_type": "markdown",
   "id": "d5030e14-65e7-4f2c-bc98-8efc20269e6f",
   "metadata": {},
   "source": [
    "## Ans:"
   ]
  },
  {
   "cell_type": "code",
   "execution_count": 7,
   "id": "0e8c52de-2d9d-4081-b707-fe7d8e028028",
   "metadata": {},
   "outputs": [],
   "source": [
    "import numpy as np\n",
    "import pandas as pd\n",
    "import statsmodels.api as sm\n",
    "from statsmodels.formula.api import ols"
   ]
  },
  {
   "cell_type": "code",
   "execution_count": 9,
   "id": "ef04db7b-00fa-4c9c-a024-91b1d97ca587",
   "metadata": {},
   "outputs": [
    {
     "data": {
      "text/html": [
       "<div>\n",
       "<style scoped>\n",
       "    .dataframe tbody tr th:only-of-type {\n",
       "        vertical-align: middle;\n",
       "    }\n",
       "\n",
       "    .dataframe tbody tr th {\n",
       "        vertical-align: top;\n",
       "    }\n",
       "\n",
       "    .dataframe thead th {\n",
       "        text-align: right;\n",
       "    }\n",
       "</style>\n",
       "<table border=\"1\" class=\"dataframe\">\n",
       "  <thead>\n",
       "    <tr style=\"text-align: right;\">\n",
       "      <th></th>\n",
       "      <th>Software</th>\n",
       "      <th>Experience</th>\n",
       "      <th>Time</th>\n",
       "    </tr>\n",
       "  </thead>\n",
       "  <tbody>\n",
       "    <tr>\n",
       "      <th>0</th>\n",
       "      <td>A</td>\n",
       "      <td>Novice</td>\n",
       "      <td>15.2</td>\n",
       "    </tr>\n",
       "    <tr>\n",
       "      <th>1</th>\n",
       "      <td>B</td>\n",
       "      <td>Experienced</td>\n",
       "      <td>14.8</td>\n",
       "    </tr>\n",
       "    <tr>\n",
       "      <th>2</th>\n",
       "      <td>C</td>\n",
       "      <td>Novice</td>\n",
       "      <td>15.5</td>\n",
       "    </tr>\n",
       "    <tr>\n",
       "      <th>3</th>\n",
       "      <td>A</td>\n",
       "      <td>Experienced</td>\n",
       "      <td>16.3</td>\n",
       "    </tr>\n",
       "    <tr>\n",
       "      <th>4</th>\n",
       "      <td>B</td>\n",
       "      <td>Novice</td>\n",
       "      <td>16.1</td>\n",
       "    </tr>\n",
       "    <tr>\n",
       "      <th>5</th>\n",
       "      <td>C</td>\n",
       "      <td>Experienced</td>\n",
       "      <td>16.5</td>\n",
       "    </tr>\n",
       "    <tr>\n",
       "      <th>6</th>\n",
       "      <td>A</td>\n",
       "      <td>Novice</td>\n",
       "      <td>14.2</td>\n",
       "    </tr>\n",
       "    <tr>\n",
       "      <th>7</th>\n",
       "      <td>B</td>\n",
       "      <td>Experienced</td>\n",
       "      <td>14.5</td>\n",
       "    </tr>\n",
       "    <tr>\n",
       "      <th>8</th>\n",
       "      <td>C</td>\n",
       "      <td>Novice</td>\n",
       "      <td>14.0</td>\n",
       "    </tr>\n",
       "    <tr>\n",
       "      <th>9</th>\n",
       "      <td>A</td>\n",
       "      <td>Experienced</td>\n",
       "      <td>13.9</td>\n",
       "    </tr>\n",
       "    <tr>\n",
       "      <th>10</th>\n",
       "      <td>B</td>\n",
       "      <td>Novice</td>\n",
       "      <td>14.1</td>\n",
       "    </tr>\n",
       "    <tr>\n",
       "      <th>11</th>\n",
       "      <td>C</td>\n",
       "      <td>Experienced</td>\n",
       "      <td>13.8</td>\n",
       "    </tr>\n",
       "    <tr>\n",
       "      <th>12</th>\n",
       "      <td>A</td>\n",
       "      <td>Novice</td>\n",
       "      <td>15.0</td>\n",
       "    </tr>\n",
       "    <tr>\n",
       "      <th>13</th>\n",
       "      <td>B</td>\n",
       "      <td>Experienced</td>\n",
       "      <td>14.7</td>\n",
       "    </tr>\n",
       "    <tr>\n",
       "      <th>14</th>\n",
       "      <td>C</td>\n",
       "      <td>Novice</td>\n",
       "      <td>14.9</td>\n",
       "    </tr>\n",
       "    <tr>\n",
       "      <th>15</th>\n",
       "      <td>A</td>\n",
       "      <td>Experienced</td>\n",
       "      <td>16.8</td>\n",
       "    </tr>\n",
       "    <tr>\n",
       "      <th>16</th>\n",
       "      <td>B</td>\n",
       "      <td>Novice</td>\n",
       "      <td>16.7</td>\n",
       "    </tr>\n",
       "    <tr>\n",
       "      <th>17</th>\n",
       "      <td>C</td>\n",
       "      <td>Experienced</td>\n",
       "      <td>16.9</td>\n",
       "    </tr>\n",
       "    <tr>\n",
       "      <th>18</th>\n",
       "      <td>A</td>\n",
       "      <td>Novice</td>\n",
       "      <td>13.0</td>\n",
       "    </tr>\n",
       "    <tr>\n",
       "      <th>19</th>\n",
       "      <td>B</td>\n",
       "      <td>Experienced</td>\n",
       "      <td>13.2</td>\n",
       "    </tr>\n",
       "    <tr>\n",
       "      <th>20</th>\n",
       "      <td>C</td>\n",
       "      <td>Novice</td>\n",
       "      <td>13.5</td>\n",
       "    </tr>\n",
       "    <tr>\n",
       "      <th>21</th>\n",
       "      <td>A</td>\n",
       "      <td>Experienced</td>\n",
       "      <td>14.3</td>\n",
       "    </tr>\n",
       "    <tr>\n",
       "      <th>22</th>\n",
       "      <td>B</td>\n",
       "      <td>Novice</td>\n",
       "      <td>14.4</td>\n",
       "    </tr>\n",
       "    <tr>\n",
       "      <th>23</th>\n",
       "      <td>C</td>\n",
       "      <td>Experienced</td>\n",
       "      <td>14.6</td>\n",
       "    </tr>\n",
       "    <tr>\n",
       "      <th>24</th>\n",
       "      <td>A</td>\n",
       "      <td>Novice</td>\n",
       "      <td>16.1</td>\n",
       "    </tr>\n",
       "    <tr>\n",
       "      <th>25</th>\n",
       "      <td>B</td>\n",
       "      <td>Experienced</td>\n",
       "      <td>15.8</td>\n",
       "    </tr>\n",
       "    <tr>\n",
       "      <th>26</th>\n",
       "      <td>C</td>\n",
       "      <td>Novice</td>\n",
       "      <td>16.0</td>\n",
       "    </tr>\n",
       "    <tr>\n",
       "      <th>27</th>\n",
       "      <td>A</td>\n",
       "      <td>Experienced</td>\n",
       "      <td>17.2</td>\n",
       "    </tr>\n",
       "    <tr>\n",
       "      <th>28</th>\n",
       "      <td>B</td>\n",
       "      <td>Novice</td>\n",
       "      <td>17.0</td>\n",
       "    </tr>\n",
       "    <tr>\n",
       "      <th>29</th>\n",
       "      <td>C</td>\n",
       "      <td>Experienced</td>\n",
       "      <td>17.3</td>\n",
       "    </tr>\n",
       "  </tbody>\n",
       "</table>\n",
       "</div>"
      ],
      "text/plain": [
       "   Software   Experience  Time\n",
       "0         A       Novice  15.2\n",
       "1         B  Experienced  14.8\n",
       "2         C       Novice  15.5\n",
       "3         A  Experienced  16.3\n",
       "4         B       Novice  16.1\n",
       "5         C  Experienced  16.5\n",
       "6         A       Novice  14.2\n",
       "7         B  Experienced  14.5\n",
       "8         C       Novice  14.0\n",
       "9         A  Experienced  13.9\n",
       "10        B       Novice  14.1\n",
       "11        C  Experienced  13.8\n",
       "12        A       Novice  15.0\n",
       "13        B  Experienced  14.7\n",
       "14        C       Novice  14.9\n",
       "15        A  Experienced  16.8\n",
       "16        B       Novice  16.7\n",
       "17        C  Experienced  16.9\n",
       "18        A       Novice  13.0\n",
       "19        B  Experienced  13.2\n",
       "20        C       Novice  13.5\n",
       "21        A  Experienced  14.3\n",
       "22        B       Novice  14.4\n",
       "23        C  Experienced  14.6\n",
       "24        A       Novice  16.1\n",
       "25        B  Experienced  15.8\n",
       "26        C       Novice  16.0\n",
       "27        A  Experienced  17.2\n",
       "28        B       Novice  17.0\n",
       "29        C  Experienced  17.3"
      ]
     },
     "execution_count": 9,
     "metadata": {},
     "output_type": "execute_result"
    }
   ],
   "source": [
    "# Sample data\n",
    "data = pd.DataFrame({\n",
    "    'Software': ['A', 'B', 'C'] * 10,\n",
    "    'Experience': ['Novice', 'Experienced'] * 15,\n",
    "    'Time': [15.2, 14.8, 15.5, 16.3, 16.1, 16.5, 14.2, 14.5, 14.0, 13.9, 14.1, 13.8, 15.0, 14.7, 14.9, 16.8, 16.7, 16.9, 13.0, 13.2, 13.5, 14.3, 14.4, 14.6, 16.1, 15.8, 16.0, 17.2, 17.0, 17.3]\n",
    "})\n",
    "data"
   ]
  },
  {
   "cell_type": "code",
   "execution_count": 10,
   "id": "5c83f495-0df8-4699-a17b-ac06be2c3b10",
   "metadata": {},
   "outputs": [
    {
     "name": "stdout",
     "output_type": "stream",
     "text": [
      "                              sum_sq    df         F    PR(>F)\n",
      "C(Software)                 0.146000   2.0  0.045309  0.955784\n",
      "C(Experience)               0.800333   1.0  0.496741  0.487719\n",
      "C(Software):C(Experience)   7.212667   2.0  2.238337  0.128429\n",
      "Residual                   38.668000  24.0       NaN       NaN\n"
     ]
    }
   ],
   "source": [
    "# Fit the two-way ANOVA model\n",
    "model = ols('Time ~ C(Software) * C(Experience)', data=data).fit()\n",
    "\n",
    "# Perform the ANOVA\n",
    "anova_table = sm.stats.anova_lm(model, typ=2)\n",
    "\n",
    "# Print the ANOVA table\n",
    "print(anova_table)"
   ]
  },
  {
   "cell_type": "markdown",
   "id": "bc19853a-f687-40c3-97e2-16a56d1b6d61",
   "metadata": {},
   "source": [
    "    Interpret the results:\n",
    "\n",
    "        The ANOVA table will provide F-statistics and p-values for the main effects of software and experience, as well as their interaction effect.\n",
    "\n",
    "        The F-statistic tests whether there are significant differences in mean completion times among software programs, employee experience levels, and the interaction between them.\n",
    "\n",
    "        The p-values indicate the significance of each effect. A small p-value (typically less than the chosen significance level, e.g., 0.05) suggests that the corresponding effect is statistically significant.\n",
    "\n",
    "        To interpret the results, you can check the p-values for the main effects and interaction effect:\n",
    "\n",
    "            If the p-value for the main effect of software is small (p < 0.05), you can conclude that there are significant differences in completion times among software programs, regardless of experience level.\n",
    "\n",
    "            If the p-value for the main effect of experience is small (p < 0.05), you can conclude that there are significant differences in completion times between novice and experienced employees, regardless of the software used.\n",
    "\n",
    "            If the p-value for the interaction effect (the interaction between software and experience) is small (p < 0.05), it indicates that the effect of software on completion times depends on the experience level, and vice versa.\n",
    "\n",
    "        Carefully consider the p-values and their implications to draw meaningful conclusions."
   ]
  },
  {
   "cell_type": "markdown",
   "id": "c6e97d54-ecea-47c6-902c-d38866cd9ca5",
   "metadata": {},
   "source": [
    "## Q11. An educational researcher is interested in whether a new teaching method improves student test scores. They randomly assign 100 students to either the control group (traditional teaching method) or the experimental group (new teaching method) and administer a test at the end of the semester. Conduct a two-sample t-test using Python to determine if there are any significant differences in test scores between the two groups. If the results are significant, follow up with a post-hoc test to determine which group(s) differ significantly from each other."
   ]
  },
  {
   "cell_type": "markdown",
   "id": "82cbe83a-1d17-4361-9617-c29f0def92e7",
   "metadata": {},
   "source": [
    "## Ans:"
   ]
  },
  {
   "cell_type": "code",
   "execution_count": 12,
   "id": "806c4634-d15f-4fdb-a3ef-49c2a71c51ad",
   "metadata": {},
   "outputs": [],
   "source": [
    "import numpy as np\n",
    "import scipy.stats as stats\n",
    "from statsmodels.stats.multicomp import MultiComparison"
   ]
  },
  {
   "cell_type": "code",
   "execution_count": 13,
   "id": "d82a6158-970c-4768-9f92-113ab583e552",
   "metadata": {},
   "outputs": [
    {
     "name": "stdout",
     "output_type": "stream",
     "text": [
      "t-statistic: -8.941591707273435\n",
      "p-value: 3.2709314653695973e-14\n"
     ]
    }
   ],
   "source": [
    "# Sample data\n",
    "control_group = [85, 78, 90, 92, 88, 75, 80, 89, 87, 82, 79, 83, 88, 81, 85, 90, 91, 86, 78, 84, 92, 87, 80, 85, 88, 86, 84, 89, 82, 91, 83, 79, 80, 87, 85, 88, 90, 84, 82, 86, 81, 83, 78, 79, 89, 91, 92, 85, 88]\n",
    "experimental_group = [95, 88, 92, 97, 93, 90, 91, 94, 96, 89, 85, 98, 93, 88, 97, 96, 92, 95, 87, 91, 89, 94, 88, 96, 97, 93, 92, 90, 95, 88, 85, 90, 96, 94, 93, 97, 92, 89, 91, 95, 88, 90, 96, 94, 89, 97, 92]\n",
    "# Perform a two-sample t-test\n",
    "t_statistic, p_value = stats.ttest_ind(control_group, experimental_group)\n",
    "\n",
    "# Print the results\n",
    "print(\"t-statistic:\", t_statistic)\n",
    "print(\"p-value:\", p_value)"
   ]
  },
  {
   "cell_type": "markdown",
   "id": "0b1ebb58-af66-4a77-8738-f72b1e1a92fe",
   "metadata": {},
   "source": [
    "    Interpret the results:\n",
    "\n",
    "        The t-statistic measures the difference in means between the two groups, standardized by the standard error of the difference.\n",
    "\n",
    "        The p-value represents the probability of obtaining a t-statistic as extreme as the one calculated, assuming that there are no significant differences between the groups.\n",
    "\n",
    "        If the p-value is less than your chosen significance level (e.g., 0.05), you can conclude that there are significant differences in test scores between the control and experimental groups.\n",
    "\n",
    "    If the t-test results are significant (p < 0.05), you can proceed with a post-hoc test (e.g., Tukey's HSD) to determine which group(s) differ significantly from each other. However, note that post-hoc tests are typically used for comparing means of more than two groups. Since you have only two groups (control and experimental), you may not need a post-hoc test in this specific case. You can simply report the significant difference between the groups."
   ]
  },
  {
   "cell_type": "markdown",
   "id": "95357d7d-8dde-41a2-b648-d9d090e31203",
   "metadata": {},
   "source": [
    "## Q12. A researcher wants to know if there are any significant differences in the average daily sales of three retail stores: Store A, Store B, and Store C. They randomly select 30 days and record the sales for each store on those days. Conduct a repeated measures ANOVA using Python to determine if there are any significant differences in sales between the three stores. If the results are significant, follow up with a post-hoc test to determine which store(s) differ significantly from each other."
   ]
  },
  {
   "cell_type": "markdown",
   "id": "d568942a-c03b-4487-9517-47d074e557df",
   "metadata": {},
   "source": [
    "## Ans:"
   ]
  },
  {
   "cell_type": "markdown",
   "id": "4aa54360-3272-4157-a999-00a1bef6f0bd",
   "metadata": {},
   "source": [
    "A repeated measures ANOVA is typically used when we have multiple measurements (repeated observations) for the same subjects or entities over time or under different conditions. In our case, we have data for three retail stores measured over 30 days, which isn't a repeated measures design. Instead, we have a one-way ANOVA design with three independent groups (stores) and independent observations (sales) for each group. Therefore, a repeated measures ANOVA may not be the appropriate analysis."
   ]
  },
  {
   "cell_type": "code",
   "execution_count": 14,
   "id": "98121ed5-af06-4049-b4db-20d3cb4eca05",
   "metadata": {},
   "outputs": [],
   "source": [
    "import numpy as np\n",
    "import scipy.stats as stats"
   ]
  },
  {
   "cell_type": "code",
   "execution_count": 15,
   "id": "4ca6edfd-3f24-486c-9121-fa8048a3ec9c",
   "metadata": {},
   "outputs": [],
   "source": [
    "# Set a random seed for reproducibility\n",
    "np.random.seed(0)\n",
    "\n",
    "# Generate random daily sales data for three stores\n",
    "store_A_sales = np.random.normal(1500, 200, 30)  # Mean = 1500, Std Dev = 200\n",
    "store_B_sales = np.random.normal(1400, 180, 30)  # Mean = 1400, Std Dev = 180\n",
    "store_C_sales = np.random.normal(1550, 220, 30)  # Mean = 1550, Std Dev = 220"
   ]
  },
  {
   "cell_type": "code",
   "execution_count": 16,
   "id": "8db5bfc8-64dd-4675-b617-43accc89f51f",
   "metadata": {},
   "outputs": [
    {
     "name": "stdout",
     "output_type": "stream",
     "text": [
      "F-statistic: 11.490917217341927\n",
      "p-value: 3.7292866289582855e-05\n"
     ]
    }
   ],
   "source": [
    "# Perform a one-way ANOVA\n",
    "f_statistic, p_value = stats.f_oneway(store_A_sales, store_B_sales, store_C_sales)\n",
    "\n",
    "# Print the results\n",
    "print(\"F-statistic:\", f_statistic)\n",
    "print(\"p-value:\", p_value)"
   ]
  },
  {
   "cell_type": "markdown",
   "id": "7b00e1d5-8b72-42ac-9246-08c25d783716",
   "metadata": {},
   "source": [
    "    Interpret the results:\n",
    "\n",
    "        The F-statistic tests whether there are significant differences in average daily sales among the three stores.\n",
    "\n",
    "        The p-value represents the probability of obtaining an F-statistic as extreme as the one calculated, assuming that there are no significant differences between the stores.\n",
    "\n",
    "        If the p-value is less than your chosen significance level (e.g., 0.05), you can conclude that there are significant differences in daily sales between at least two of the stores.\n",
    "\n",
    "    If the one-way ANOVA results are significant (p < 0.05), you can follow up with post-hoc tests such as Tukey's HSD, Bonferroni, or Scheffé tests to determine which specific store(s) differ significantly from each other.\n",
    "    \n",
    "However, keep in mind that post-hoc tests are more commonly used when comparing multiple groups to identify which specific groups differ significantly from each other. Since you have only three stores, you may be able to interpret the results of the one-way ANOVA directly to determine which store(s) have significantly different average daily sales. If you still want to perform post-hoc tests, you can choose the one that best suits your needs and available statistical tools in Python."
   ]
  },
  {
   "cell_type": "code",
   "execution_count": null,
   "id": "81213d15-c612-40e7-b7e4-0755c80ddd01",
   "metadata": {},
   "outputs": [],
   "source": []
  }
 ],
 "metadata": {
  "kernelspec": {
   "display_name": "Python 3 (ipykernel)",
   "language": "python",
   "name": "python3"
  },
  "language_info": {
   "codemirror_mode": {
    "name": "ipython",
    "version": 3
   },
   "file_extension": ".py",
   "mimetype": "text/x-python",
   "name": "python",
   "nbconvert_exporter": "python",
   "pygments_lexer": "ipython3",
   "version": "3.10.8"
  }
 },
 "nbformat": 4,
 "nbformat_minor": 5
}

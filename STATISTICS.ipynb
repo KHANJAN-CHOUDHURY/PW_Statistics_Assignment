{
 "cells": [
  {
   "cell_type": "markdown",
   "id": "3b90035c-2d2b-4e9c-8d30-60539934dafa",
   "metadata": {},
   "source": [
    "## Q1. What is Statistics?"
   ]
  },
  {
   "cell_type": "markdown",
   "id": "23537919-827d-422d-b87c-80204e587129",
   "metadata": {},
   "source": [
    "## Ans:"
   ]
  },
  {
   "cell_type": "markdown",
   "id": "c13cbe73-ba58-4a2f-a7e8-78937d77ff3b",
   "metadata": {},
   "source": [
    "Statistics is a branch of mathematics and a field of study that deals with the collection, analysis, interpretation, presentation, and organization of data. It plays a crucial role in understanding and making sense of large amounts of information and making informed decisions in various fields such as science, business, economics, social sciences, and more."
   ]
  },
  {
   "cell_type": "markdown",
   "id": "168c0cd9-e10d-47f0-85fa-beb26f5aad0b",
   "metadata": {},
   "source": [
    "## Q2. Define the different types of statistics and give an example of when each type might be used."
   ]
  },
  {
   "cell_type": "markdown",
   "id": "c680e825-5957-4af8-9088-c38802ef1a16",
   "metadata": {},
   "source": [
    "## Ans:"
   ]
  },
  {
   "cell_type": "markdown",
   "id": "2d71130f-4f43-48a2-bc87-f08497fb785b",
   "metadata": {},
   "source": [
    "Statistics can be broadly categorized into two main types: descriptive statistics and inferential statistics:"
   ]
  },
  {
   "cell_type": "markdown",
   "id": "71b2ad6e-ed79-4380-ac54-412bd235d593",
   "metadata": {},
   "source": [
    "1. Descriptive Statistics:\n",
    "\n",
    "Definition: Descriptive statistics are used to summarize and describe data in a meaningful way. They provide a clear and concise summary of the main features of a dataset, including central tendency, dispersion, and the shape of the distribution.\n",
    "\n",
    "Example: Descriptive statistics might be used to:\\\n",
    "a. Calculate the average (mean) salary of employees in a company to understand the typical income level.\\\n",
    "b. Find the range of test scores in a classroom to see how much variation there is among students.\\\n",
    "c. Create a histogram to visualize the distribution of ages in a population.\n",
    "\n",
    "Summarizing the data can be done in multiple ways:\n",
    "1. Measure of central Tendency:(Mean, Median, Mode)\n",
    "2. Measure of Dispersion: (Variance, Standard Deviation)\n",
    "3. Histograms, Bar chart, Pie chart"
   ]
  },
  {
   "cell_type": "markdown",
   "id": "879dc2c8-52a6-40e9-9386-f35926ec1592",
   "metadata": {},
   "source": [
    "2. Inferential Statistics:\n",
    "\n",
    "Definition: Inferential statistics involve making predictions or drawing conclusions about a population based on a sample of data. These techniques are used when it's not feasible to collect data from an entire population, so we infer characteristics of the population from a smaller subset (the sample).\n",
    "\n",
    "Example: Inferential statistics might be used to:\\\n",
    "a. Determine whether a new drug is effective by conducting a clinical trial on a sample of patients and then making inferences about its effectiveness for the entire population.\\\n",
    "b. Test whether there is a significant difference in the mean income of two groups (e.g., males vs. females) by analyzing a sample of individuals from each group.\\\n",
    "c. Calculate a confidence interval for a political candidate's approval rating based on a sample of survey responses to estimate the range within which the true population approval rating likely falls.\n",
    "\n",
    "Prediction and drawing conclusion from data can be done in following ways:\n",
    "1. Z-test \n",
    "2. P-test\n",
    "3. Hypothesis testing\n",
    "4. P-value"
   ]
  },
  {
   "cell_type": "markdown",
   "id": "d27d7411-ff67-461d-8a5d-a0872d4d61fa",
   "metadata": {},
   "source": [
    "## Q3. What are the different types of data and how do they differ from each other? Provide an example of each type of data."
   ]
  },
  {
   "cell_type": "markdown",
   "id": "2372171b-8b00-4835-b3af-752b6ecee884",
   "metadata": {},
   "source": [
    "## Ans:"
   ]
  },
  {
   "cell_type": "markdown",
   "id": "ff6159fd-3492-4a61-bfc5-6d074fa4cbd2",
   "metadata": {},
   "source": [
    "Data can be divided broadly into two types:\n",
    "1. Quantitative data:\n",
    "Quantitative data are basically numnerical data on which we can do mathematical operations like addition, subtraction, multiplication and division. It can be divided into two types:\\\n",
    "a. Discrete data: Whole numbers. Eg: Number of bank accounts, Number of children in a family.\\\n",
    "b. Continuous data: Fractions. Eg. Weight, Temperature, Speed.\n",
    "\n",
    "2. Qualitative data: \n",
    "Qualitative data are basically non-numneric categorical data on which we can not do mathematical operations. It can be divided into two types:\\\n",
    "a. Nominal: Eg. Gender (M,F), Blood group. \\\n",
    "b. Ordinal: Eg. Rank, Quality(Good, Bad, Satisfactory)."
   ]
  },
  {
   "cell_type": "markdown",
   "id": "01b95ac0-5f50-4f41-8d94-15b479e8f59f",
   "metadata": {},
   "source": [
    "## Q4. Categorise the following datasets with respect to quantitative and qualitative data types:\n",
    "(i) Grading in exam: A+, A, B+, B, C+, C, D, E\\\n",
    "(ii) Colour of mangoes: yellow, green, orange, red\\\n",
    "(iii) Height data of a class: [178.9, 179, 179.5, 176, 177.2, 178.3, 175.8,...]\\\n",
    "(iv) Number of mangoes exported by a farm: [500, 600, 478, 672, ...]"
   ]
  },
  {
   "cell_type": "markdown",
   "id": "b4f2b0c6-fa27-460c-9501-4ca2df5899c7",
   "metadata": {},
   "source": [
    "## Ans:"
   ]
  },
  {
   "cell_type": "markdown",
   "id": "d2abee5e-ccc8-4e44-9278-2f2324beb017",
   "metadata": {},
   "source": [
    "(i) Qualitative (Ordinal)\\\n",
    "(ii) Qualitative (Nominal)\\\n",
    "(iii) Quantitative (Continuous)\\\n",
    "(iv) Quantitative (Discrete)"
   ]
  },
  {
   "cell_type": "markdown",
   "id": "a28264f6-8a7f-4805-8da1-26c1f87997e1",
   "metadata": {},
   "source": [
    "## Q5. Explain the concept of levels of measurement and give an example of a variable for each level."
   ]
  },
  {
   "cell_type": "markdown",
   "id": "acba68b9-58a8-4b2e-9860-fae6d5456fdc",
   "metadata": {},
   "source": [
    "## Ans:"
   ]
  },
  {
   "cell_type": "markdown",
   "id": "6f4372f5-26b2-4ee9-b344-b512f815ca87",
   "metadata": {},
   "source": [
    "Levels of measurement, also known as scales of measurement or data types, are a fundamental concept in statistics and research. They categorize variables based on the nature of the data they represent and determine the types of statistical analyses and operations that can be applied to them. There are four main levels of measurement: nominal, ordinal, interval, and ratio."
   ]
  },
  {
   "cell_type": "markdown",
   "id": "e13d7611-2c1c-406f-a058-18e615becc59",
   "metadata": {},
   "source": [
    "1. Nominal Level of Measurement:\n",
    "Nominal data represent categories or labels with no inherent order or ranking. These categories are mutually exclusive, meaning each observation belongs to only one category. Nominal data are qualitative and can be counted and categorized, but we cannot perform meaningful mathematical operations like addition or subtraction on them.\\\n",
    "Example: Eye color is a nominal variable. Categories include \"blue,\" \"brown,\" \"green,\" \"hazel,\" and so on. There is no inherent order or ranking among these colors.\n",
    "\n",
    "2. Ordinal Level of Measurement:\n",
    "Ordinal data represent categories with a meaningful order or ranking, but the intervals between categories are not equal. While we can determine the relative order of categories, we cannot quantify the exact differences between them.\\\n",
    "Example: Educational attainment is an ordinal variable. It includes categories like \"high school diploma,\" \"associate's degree,\" \"bachelor's degree,\" \"master's degree,\" and \"doctorate.\" These categories have a clear order, but the difference between each level of education is not uniform.\n",
    "\n",
    "3. Interval Level of Measurement:\n",
    "Interval data have a meaningful order, and the intervals between values are equal and constant, but they lack a true zero point. This means that you can perform addition and subtraction operations on interval data, but multiplication and division are not meaningful.\\\n",
    "Example: Temperature in degrees Celsius is an interval variable. The difference between 20°C and 30°C is the same as the difference between 30°C and 40°C, but 0°C does not represent the absence of temperature. It's a relative point on the Celsius scale.\n",
    "\n",
    "4. Ratio Level of Measurement:\n",
    "Ratio data have a meaningful order, equal intervals between values, and a true zero point, which indicates the absence of the attribute being measured. With ratio data, you can perform all mathematical operations, including multiplication and division.\\\n",
    "Example: Age is a ratio variable. It has a meaningful order, equal intervals (e.g., the difference between ages 20 and 30 is the same as between 30 and 40), and a true zero point (age 0 represents the absence of age). Therefore, you can perform operations like calculating ratios or percentages of ages."
   ]
  },
  {
   "cell_type": "markdown",
   "id": "dd3a8890-726c-40ff-8e24-afe79fb1e0f0",
   "metadata": {},
   "source": [
    "## Q6. Why is it important to understand the level of measurement when analyzing data? Provide an example to illustrate your answer."
   ]
  },
  {
   "cell_type": "markdown",
   "id": "90e5b166-08b7-4045-83bf-cf45dccbe9c5",
   "metadata": {},
   "source": [
    "## Ans:"
   ]
  },
  {
   "cell_type": "markdown",
   "id": "05a26bfd-155a-497e-a848-ccaeb9b09ba3",
   "metadata": {},
   "source": [
    "1. Appropriate Statistical Analysis: \n",
    "Different levels of measurement require different statistical techniques and analyses. Using the wrong statistical method can lead to inaccurate or misleading results. Therefore, knowing the level of measurement helps researchers choose the correct statistical approach.\\\n",
    "Example: Suppose you are studying the performance of students in a class and you have a variable called \"grade level\" with categories \"Freshman,\" \"Sophomore,\" \"Junior,\" and \"Senior\" (an ordinal variable). To analyze this data, you might use ordinal regression or non-parametric tests suitable for ordinal data. If you mistakenly treat it as nominal data and use a chi-squared test, you may draw incorrect conclusions.\n",
    "\n",
    "2. Meaningful Descriptive Statistics: \n",
    "The level of measurement determines which descriptive statistics are appropriate. For example, for nominal data, you can calculate frequencies and mode, while for interval or ratio data, you can calculate mean, median, mode, and standard deviation.\\\n",
    "Example: Consider a variable \"income\" (ratio data) in a survey. You can calculate the mean income to provide a summary of the central tendency. However, if you have data on \"marital status\" (nominal data), calculating the mean marital status wouldn't make sense.\n",
    "\n",
    "3. Valid Interpretation of Data: \n",
    "Understanding the level of measurement helps in correctly interpreting data and drawing meaningful conclusions. It ensures that you don't make unwarranted assumptions about the data's properties.\\\n",
    "Example: Let's say you are studying customer satisfaction and have a survey question with responses coded as 1 (Very Dissatisfied), 2 (Dissatisfied), 3 (Neutral), 4 (Satisfied), and 5 (Very Satisfied). Treating this as a ratio variable and calculating the mean customer satisfaction score could mislead you into thinking that the difference between 2 and 3 is the same as between 4 and 5, which is not the case with ordinal data.\n",
    "\n",
    "4. Appropriate Data Visualization: \n",
    "The level of measurement also influences how data should be visually represented. Nominal data is often displayed using bar charts, while interval or ratio data is suitable for histograms or scatterplots.\\\n",
    "Example: Visualizing nominal data like \"types of pets owned\" using a scatterplot would not convey meaningful information, as there's no inherent numerical relationship between the categories.\n",
    "\n",
    "5. Data Transformation: \n",
    "In some cases, you may need to transform data to a different level of measurement to perform certain analyses or to meet assumptions. Understanding the original level of measurement helps in making informed decisions about such transformations.\\\n",
    "Example: If you have interval data that you want to analyze using a t-test but it doesn't meet the assumption of normality, you might consider transforming it into a more suitable form, like using a logarithmic transformation."
   ]
  },
  {
   "cell_type": "markdown",
   "id": "f0074768-7aad-46c1-8e74-eb89568aaf4f",
   "metadata": {},
   "source": [
    "## Q7. How nominal data type is different from ordinal data type."
   ]
  },
  {
   "cell_type": "markdown",
   "id": "a0a2dd4a-74b3-427b-b281-eefff464b979",
   "metadata": {},
   "source": [
    "## Ans:"
   ]
  },
  {
   "cell_type": "markdown",
   "id": "2d236d22-afd4-4777-975e-eece170b6962",
   "metadata": {},
   "source": [
    "1. Nominal Data:\\\n",
    "Nature: Nominal data represent categories or labels with no inherent order or ranking. These categories are mutually exclusive, meaning each observation belongs to only one category.\\\n",
    "Examples:\n",
    "            Eye colors (e.g., \"blue,\" \"brown,\" \"green\").\n",
    "            Types of fruits (e.g., \"apple,\" \"banana,\" \"orange\").\n",
    "            Marital statuses (e.g., \"single,\" \"married,\" \"divorced\").\\\n",
    "Order: There is no meaningful order or sequence among the categories. You cannot say that one category is greater or better than another; they are simply different labels.\\\n",
    "Mathematical Operations: Nominal data can be counted and categorized, but you cannot perform meaningful mathematical operations like addition, subtraction, multiplication, or division on them.\\\n",
    "Summary Statistics: Common descriptive statistics for nominal data include frequencies and mode (the most frequently occurring category).\n",
    "\n",
    "2. Ordinal Data:\\\n",
    "Nature: Ordinal data also represent categories, but unlike nominal data, they have a meaningful order or ranking. You can arrange the categories from the least to the most, or vice versa.\\\n",
    "Examples:\n",
    "            Educational attainment (e.g., \"high school diploma,\" \"associate's degree,\" \"bachelor's degree,\" \"master's degree,\" \"doctorate\").\n",
    "            Customer satisfaction ratings (e.g., \"very dissatisfied,\" \"dissatisfied,\" \"neutral,\" \"satisfied,\" \"very satisfied\").\n",
    "            Survey responses (e.g., \"strongly disagree,\" \"disagree,\" \"neutral,\" \"agree,\" \"strongly agree\").\\\n",
    "Order: Ordinal data categories have a clear order, but the intervals between categories are not equal. In other words, you can say that one category is ranked higher or lower than another, but you can't quantify the exact differences between them.\\\n",
    "Mathematical Operations: You can perform basic mathematical operations like counting and ordering on ordinal data, but addition and subtraction are not meaningful.\\\n",
    "Summary Statistics: For ordinal data, you can use descriptive statistics like frequencies, median (a measure of central tendency that is appropriate for ordinal data), and mode."
   ]
  },
  {
   "cell_type": "markdown",
   "id": "7eac87f8-47f1-4220-986d-8530d20f2d77",
   "metadata": {},
   "source": [
    "## Q8. Which type of plot can be used to display data in terms of range?"
   ]
  },
  {
   "cell_type": "markdown",
   "id": "a27a061c-41bb-433c-bb8e-4829b97a96c3",
   "metadata": {},
   "source": [
    "## Ans:"
   ]
  },
  {
   "cell_type": "markdown",
   "id": "4a55171d-9977-4a5b-8a88-ba7241c88951",
   "metadata": {},
   "source": [
    "A box plot, also known as a box-and-whisker plot, is a commonly used type of plot to display data in terms of its range. Box plots provide a visual summary of the distribution of a dataset, particularly in terms of its central tendency, spread, and the presence of outliers. They are particularly useful when comparing the spread and central values of multiple datasets or when examining the range and variability within a single dataset.\n",
    "\n",
    "In a box plot, the key elements that help display data in terms of its range include:\n",
    "\n",
    "1. Box: The box in the plot represents the interquartile range (IQR), which contains the middle 50% of the data. It spans from the first quartile (Q1) to the third quartile (Q3). The length of the box indicates the spread or range of the central portion of the data.\n",
    "\n",
    "2. Whiskers: The whiskers extend from the edges of the box to the minimum and maximum values within a specified range. They show how far the data extends beyond the IQR. The whiskers help you visualize the full range of the data while identifying potential outliers.\n",
    "\n",
    "3. Outliers: Individual data points that fall significantly outside the whiskers are plotted as individual points and can be identified as outliers. Outliers are data values that are notably higher or lower than the majority of the data points and can be important in understanding the data's variability.\n",
    "\n",
    "Box plots are valuable for comparing the range of data across different categories or groups, making them a useful tool in exploratory data analysis and for assessing the spread and distribution of data.\n",
    "\n",
    "Here's a brief summary of what each part of a box plot represents in terms of data range:\n",
    "\n",
    "1. Box Length: Indicates the range of the middle 50% of the data (IQR).\n",
    "2. Whiskers: Show the range of the data within a specified range, typically 1.5 times the IQR.\n",
    "3. Outliers: Identify data points that fall outside the whiskers, potentially indicating extreme values or data anomalies.\n",
    "\n",
    "Box plots are particularly effective for visualizing the variability and range in datasets with skewed or non-normal distributions and are commonly used in statistics and data analysis."
   ]
  },
  {
   "cell_type": "markdown",
   "id": "88957402-41a0-4ea5-92d7-00bd4142f2a7",
   "metadata": {},
   "source": [
    "## Q9. Describe the difference between descriptive and inferential statistics. Give an example of each type of statistics and explain how they are used."
   ]
  },
  {
   "cell_type": "markdown",
   "id": "987000f6-fa09-43b3-a378-6a0c0ff0e4eb",
   "metadata": {},
   "source": [
    "## Ans:"
   ]
  },
  {
   "cell_type": "markdown",
   "id": "a0ba9e1f-68cf-4f7c-a4cd-0bc50c0a4274",
   "metadata": {},
   "source": [
    "Descriptive statistics and inferential statistics are two branches of statistical analysis, each serving a distinct purpose in summarizing and drawing conclusions from data.\n",
    "\n",
    "1. Descriptive Statistics:\n",
    "\n",
    "Purpose: Descriptive statistics are used to summarize and describe the main features of a dataset. They help to simplify and organize large amounts of data in a way that is easy to understand. Descriptive statistics provide a snapshot of the data and its characteristics without making inferences or generalizations beyond the dataset itself.\n",
    "\n",
    "Examples:\n",
    "Measures of Central Tendency:\\\n",
    "                Mean: The average of a set of values.\\\n",
    "                Median: The middle value when the data is sorted.\\\n",
    "                Mode: The most frequently occurring value.\\\n",
    "Measures of Dispersion:\\\n",
    "                Range: The difference between the maximum and minimum values.\\\n",
    "                Variance: A measure of how data points deviate from the mean.\\\n",
    "                Standard Deviation: A measure of the average deviation of data points from the mean.\n",
    "            Frequency Distributions: Tables or graphs showing the distribution of values in a dataset.\n",
    "            Histograms and Bar Charts: Visual representations of data distributions.\n",
    "\n",
    "Example: Imagine we have a dataset of exam scores for a class of students. Using descriptive statistics, we can calculate and report the mean score (to describe the typical performance), the range of scores (to show the spread), and create a histogram to visualize the distribution of scores.\n",
    "\n",
    "2. Inferential Statistics:\n",
    "\n",
    "Purpose: Inferential statistics are used to make predictions, inferences, or generalizations about a population based on a sample of data. They allow us to draw conclusions beyond the specific dataset being analyzed. Inferential statistics help answer questions and test hypotheses about a larger population by using statistical techniques and probability theory.\n",
    "\n",
    "Examples:\\\n",
    "a. Hypothesis Testing: This involves comparing sample data to a known population parameter to determine if there is a statistically significant difference.\\\n",
    "Example: Testing whether a new drug is more effective than an existing one by comparing the recovery rates of two groups of patients.\\\n",
    "b. Confidence Intervals: These provide a range of values within which a population parameter is likely to fall.\\\n",
    "Example: Estimating the average income of a city's residents with a 95% confidence interval.\\\n",
    "c. Regression Analysis: Predicting the relationship between variables and making predictions based on that relationship.\\\n",
    "Example: Predicting a person's salary based on their years of experience and education level.\\\n",
    "d. Sampling and Probability Distributions: Using probability distributions to make inferences about populations from sample data.\\\n",
    "Example: Estimating the probability of a certain event occurring based on historical data.\n",
    "\n",
    "Example: Suppose we want to determine if a new teaching method improves students' test scores compared to the traditional method. We would collect a sample of students, teach one group using the new method and another using the traditional method, and then use inferential statistics to analyze whether the differences in test scores are statistically significant and can be generalized to the entire student population.\n",
    "\n",
    "In summary, descriptive statistics provide a summary of data within a dataset, while inferential statistics are used to make broader inferences and conclusions about populations based on sample data. Both types of statistics play crucial roles in the field of statistics and data analysis, serving different but complementary purposes."
   ]
  },
  {
   "cell_type": "markdown",
   "id": "480a4dba-2229-4d20-9007-3b30178a3a46",
   "metadata": {},
   "source": [
    "## Q10. What are some common measures of central tendency and variability used in statistics? Explain how each measure can be used to describe a dataset."
   ]
  },
  {
   "cell_type": "markdown",
   "id": "a2324ce8-c127-416d-b5be-12913de4b1a5",
   "metadata": {},
   "source": [
    "## Ans:"
   ]
  },
  {
   "cell_type": "markdown",
   "id": "aae5f058-6efe-47ff-b5be-a0279113dcb6",
   "metadata": {},
   "source": [
    "Measures of central tendency and measures of variability are fundamental statistical tools used to describe datasets and summarize their key characteristics. They provide insights into the central location and spread of data points within a dataset. Here are some common measures of central tendency and variability:\n",
    "\n",
    "1. Measures of Central Tendency:\n",
    "\n",
    "a. Mean (Arithmetic Mean):\n",
    "        Definition: The mean is the sum of all data points divided by the number of data points. It represents the average value of the dataset.\\\n",
    "        Use: The mean provides a measure of the typical or central value in the dataset. It's sensitive to extreme values (outliers) and is commonly used when data is normally distributed.\n",
    "\n",
    "Example: Calculating the mean of test scores for a group of students to find the average performance.\n",
    "\n",
    "b. Median:\n",
    "        Definition: The median is the middle value when the data is arranged in ascending or descending order. If there is an even number of data points, the median is the average of the two middle values.\\\n",
    "        Use: The median is a measure of central tendency that is less affected by outliers than the mean. It's appropriate for skewed data or datasets with extreme values.\n",
    "\n",
    "Example: Determining the median income in a sample of households to find the middle-income level.\n",
    "\n",
    "c. Mode:\n",
    "        Definition: The mode is the value that occurs most frequently in the dataset.\\\n",
    "        Use: The mode is used to identify the most common value or category in a dataset. It's particularly useful for nominal or categorical data.\n",
    "\n",
    "Example: Identifying the most frequently chosen product brand in a consumer survey.\n",
    "\n",
    "2. Measures of Variability:\n",
    "\n",
    "a. Range:\n",
    "        Definition: The range is the difference between the maximum and minimum values in the dataset.\\\n",
    "        Use: The range provides a simple measure of the spread or variability in the data. It's easy to calculate but can be sensitive to outliers.\n",
    "\n",
    "Example: Determining the range of temperatures recorded in a city over a month to understand the temperature variation.\n",
    "\n",
    "b. Variance:\n",
    "        Definition: The variance is the average of the squared differences between each data point and the mean. It quantifies how much individual data points deviate from the mean.\\\n",
    "        Use: Variance measures the overall variability in the dataset. A higher variance indicates greater spread of data points.\n",
    "\n",
    "Example: Calculating the variance of investment returns to assess the risk associated with an investment portfolio.\n",
    "\n",
    "c. Standard Deviation:\n",
    "        Definition: The standard deviation is the square root of the variance. It measures the average deviation of data points from the mean.\\\n",
    "        Use: Standard deviation provides a measure of the spread of data in the same units as the data itself. It's widely used in normal distribution-based statistical analysis.\n",
    "\n",
    "Example: Using the standard deviation of test scores to assess the variation in student performance.\n",
    "\n",
    "These measures are valuable tools for summarizing and understanding datasets, helping researchers and analysts describe the central location and spread of data, identify outliers, and make informed decisions or draw conclusions based on data characteristics. The choice of which measure to use depends on the nature of the data and the specific goals of the analysis.\n"
   ]
  }
 ],
 "metadata": {
  "kernelspec": {
   "display_name": "Python 3 (ipykernel)",
   "language": "python",
   "name": "python3"
  },
  "language_info": {
   "codemirror_mode": {
    "name": "ipython",
    "version": 3
   },
   "file_extension": ".py",
   "mimetype": "text/x-python",
   "name": "python",
   "nbconvert_exporter": "python",
   "pygments_lexer": "ipython3",
   "version": "3.10.8"
  }
 },
 "nbformat": 4,
 "nbformat_minor": 5
}
